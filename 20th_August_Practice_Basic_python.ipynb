{
 "cells": [
  {
   "cell_type": "markdown",
   "metadata": {},
   "source": [
    "# string based questions"
   ]
  },
  {
   "cell_type": "markdown",
   "metadata": {},
   "source": [
    "(1) write a program to reverse a string."
   ]
  },
  {
   "cell_type": "code",
   "execution_count": 1,
   "metadata": {},
   "outputs": [
    {
     "data": {
      "text/plain": [
       "'India'"
      ]
     },
     "execution_count": 1,
     "metadata": {},
     "output_type": "execute_result"
    }
   ],
   "source": [
    "country=\"India\"\n",
    "country"
   ]
  },
  {
   "cell_type": "code",
   "execution_count": 2,
   "metadata": {},
   "outputs": [
    {
     "name": "stdout",
     "output_type": "stream",
     "text": [
      "aidnI\n"
     ]
    }
   ],
   "source": [
    "print(country[: : -1])  ## by string sclicing "
   ]
  },
  {
   "cell_type": "markdown",
   "metadata": {},
   "source": [
    "(2) Check if a string is palindrome"
   ]
  },
  {
   "cell_type": "code",
   "execution_count": 3,
   "metadata": {},
   "outputs": [
    {
     "name": "stdout",
     "output_type": "stream",
     "text": [
      "Enter a string: noon\n"
     ]
    }
   ],
   "source": [
    "s=input(\"Enter a string: \")"
   ]
  },
  {
   "cell_type": "code",
   "execution_count": 4,
   "metadata": {},
   "outputs": [
    {
     "name": "stdout",
     "output_type": "stream",
     "text": [
      "noon is a palindrome\n"
     ]
    }
   ],
   "source": [
    "if (s==s[::-1]):\n",
    "    print(s,\"is a palindrome\")\n",
    "else:\n",
    "    print(s,\"is not a palindrome\")"
   ]
  },
  {
   "cell_type": "raw",
   "metadata": {},
   "source": [
    "A string is palindrome if the reverse of the string is same as original string."
   ]
  },
  {
   "cell_type": "markdown",
   "metadata": {},
   "source": [
    "(3) Convert a string in upper case"
   ]
  },
  {
   "cell_type": "code",
   "execution_count": 5,
   "metadata": {},
   "outputs": [
    {
     "name": "stdout",
     "output_type": "stream",
     "text": [
      "Enter the string:kesari\n"
     ]
    }
   ],
   "source": [
    "u= input(\"Enter the string:\")"
   ]
  },
  {
   "cell_type": "code",
   "execution_count": 6,
   "metadata": {},
   "outputs": [
    {
     "data": {
      "text/plain": [
       "'KESARI'"
      ]
     },
     "execution_count": 6,
     "metadata": {},
     "output_type": "execute_result"
    }
   ],
   "source": [
    "u.upper()"
   ]
  },
  {
   "cell_type": "markdown",
   "metadata": {},
   "source": [
    "(4) Convert a string into lower case"
   ]
  },
  {
   "cell_type": "code",
   "execution_count": 7,
   "metadata": {},
   "outputs": [
    {
     "data": {
      "text/plain": [
       "'kesari'"
      ]
     },
     "execution_count": 7,
     "metadata": {},
     "output_type": "execute_result"
    }
   ],
   "source": [
    "u.lower()"
   ]
  },
  {
   "cell_type": "markdown",
   "metadata": {},
   "source": [
    "(5) Count the number of vowels in a string"
   ]
  },
  {
   "cell_type": "code",
   "execution_count": 15,
   "metadata": {},
   "outputs": [
    {
     "name": "stdout",
     "output_type": "stream",
     "text": [
      "enter a string: nandan textiles\n",
      "Total number of vowels in a string: 5\n"
     ]
    }
   ],
   "source": [
    "vowels=0\n",
    "a=input(\"Enter a string:\")\n",
    "a=a.lower()\n",
    "for i in range(0,len(a)):     # i--> a temp variable to form a loop\n",
    "    if a[i] in (\"a\",\"e\",\"i\",\"o\",\"u\"):  # [] used to access elements. a[i]---> elements of \"a\" has been accessed\n",
    "        vowels=vowels+1\n",
    "print(\"the number of vowels: \",vowels)"
   ]
  },
  {
   "cell_type": "markdown",
   "metadata": {},
   "source": [
    "(6) Count the number of consonants in a string"
   ]
  },
  {
   "cell_type": "code",
   "execution_count": 27,
   "metadata": {},
   "outputs": [
    {
     "name": "stdout",
     "output_type": "stream",
     "text": [
      "Enter a string:nandan\n",
      "the number of consonant:  4\n"
     ]
    }
   ],
   "source": [
    "consonants=0\n",
    "v=input(\"Enter a string:\")\n",
    "v=v.lower()\n",
    "for i in range(0,len(v)):\n",
    "    if v[i] not in (\"a\",\"e\",\"i\",\"o\",\"u\"):\n",
    "        consonants=consonants+1\n",
    "print(\"the number of consonant: \",consonants)\n",
    "\n",
    "     "
   ]
  },
  {
   "cell_type": "markdown",
   "metadata": {},
   "source": [
    "(7) Remove all white spaces from the string"
   ]
  },
  {
   "cell_type": "code",
   "execution_count": 35,
   "metadata": {},
   "outputs": [
    {
     "data": {
      "text/plain": [
       "'   ideapad  '"
      ]
     },
     "execution_count": 35,
     "metadata": {},
     "output_type": "execute_result"
    }
   ],
   "source": [
    "a=\"   ideapad  \"\n",
    "a"
   ]
  },
  {
   "cell_type": "code",
   "execution_count": 36,
   "metadata": {},
   "outputs": [
    {
     "data": {
      "text/plain": [
       "'ideapad'"
      ]
     },
     "execution_count": 36,
     "metadata": {},
     "output_type": "execute_result"
    }
   ],
   "source": [
    "a.replace(\" \",\"\")  #  replace(change this ,to this)"
   ]
  },
  {
   "cell_type": "markdown",
   "metadata": {},
   "source": [
    "(8) Find the length of the string withour using len() function."
   ]
  },
  {
   "cell_type": "code",
   "execution_count": 41,
   "metadata": {},
   "outputs": [
    {
     "name": "stdout",
     "output_type": "stream",
     "text": [
      "enter a string: noida\n",
      " length of the string is:  5\n"
     ]
    }
   ],
   "source": [
    "z= input(\"enter a string: \")\n",
    "count=0\n",
    "for i in z:\n",
    "    count=count+1\n",
    "\n",
    "print(\" length of the string is: \", count)"
   ]
  },
  {
   "cell_type": "markdown",
   "metadata": {},
   "source": [
    "(9) Check if a string contains a specific word."
   ]
  },
  {
   "cell_type": "code",
   "execution_count": 55,
   "metadata": {},
   "outputs": [
    {
     "name": "stdout",
     "output_type": "stream",
     "text": [
      " Enter a string: fear is not greater \n",
      "the string contains \"greater\"\n"
     ]
    }
   ],
   "source": [
    "a= input(\" Enter a string: \")\n",
    "if \"greater\" in a:   ## 'in ' function\n",
    "    print('the string contains \"greater\"')"
   ]
  },
  {
   "cell_type": "code",
   "execution_count": 1,
   "metadata": {},
   "outputs": [
    {
     "name": "stdout",
     "output_type": "stream",
     "text": [
      " enter a string: the most cunning animal is fox\n",
      "the string contains 'fox'\n"
     ]
    }
   ],
   "source": [
    "b=input(\" enter a string: \")\n",
    "if b.find(\"fox\")!= -1:   ## 'find' function\n",
    "    print(\"the string contains 'fox'\")\n",
    "else:\n",
    "        print('the string does not contains \"fox\" ')"
   ]
  },
  {
   "cell_type": "raw",
   "metadata": {},
   "source": [
    "explanation: return -1 if not matched. If matched return the lowest index."
   ]
  },
  {
   "cell_type": "markdown",
   "metadata": {},
   "source": [
    "(10) Replace a word in a string with another word"
   ]
  },
  {
   "cell_type": "code",
   "execution_count": 61,
   "metadata": {},
   "outputs": [],
   "source": [
    "a=\"rabbit won the game\""
   ]
  },
  {
   "cell_type": "code",
   "execution_count": 62,
   "metadata": {},
   "outputs": [
    {
     "data": {
      "text/plain": [
       "'rabbit won the race'"
      ]
     },
     "execution_count": 62,
     "metadata": {},
     "output_type": "execute_result"
    }
   ],
   "source": [
    "a.replace('game','race')"
   ]
  },
  {
   "cell_type": "markdown",
   "metadata": {},
   "source": [
    "(11) Count the occurance of word in a string:"
   ]
  },
  {
   "cell_type": "code",
   "execution_count": 2,
   "metadata": {},
   "outputs": [
    {
     "data": {
      "text/plain": [
       "['Donot',\n",
       " 'talk',\n",
       " 'just',\n",
       " 'act,',\n",
       " 'Donot',\n",
       " 'say',\n",
       " 'just',\n",
       " 'show,',\n",
       " 'Donot',\n",
       " 'promise',\n",
       " 'prove',\n",
       " 'it']"
      ]
     },
     "execution_count": 2,
     "metadata": {},
     "output_type": "execute_result"
    }
   ],
   "source": [
    "b=\" Donot talk just act, Donot say just show, Donot promise prove it \"\n",
    "b.split()"
   ]
  },
  {
   "cell_type": "code",
   "execution_count": 4,
   "metadata": {},
   "outputs": [
    {
     "data": {
      "text/plain": [
       "3"
      ]
     },
     "execution_count": 4,
     "metadata": {},
     "output_type": "execute_result"
    }
   ],
   "source": [
    "b.count('Donot')"
   ]
  },
  {
   "cell_type": "code",
   "execution_count": 6,
   "metadata": {},
   "outputs": [
    {
     "data": {
      "text/plain": [
       "2"
      ]
     },
     "execution_count": 6,
     "metadata": {},
     "output_type": "execute_result"
    }
   ],
   "source": [
    "b1=b.count(\"just\")\n",
    "b1"
   ]
  },
  {
   "cell_type": "markdown",
   "metadata": {},
   "source": [
    "(12) Find the first occurance of word in a string"
   ]
  },
  {
   "cell_type": "code",
   "execution_count": 74,
   "metadata": {},
   "outputs": [],
   "source": [
    "b=\"she is crazy but she is smart in her work \""
   ]
  },
  {
   "cell_type": "code",
   "execution_count": 78,
   "metadata": {},
   "outputs": [
    {
     "data": {
      "text/plain": [
       "4"
      ]
     },
     "execution_count": 78,
     "metadata": {},
     "output_type": "execute_result"
    }
   ],
   "source": [
    "b.find(\"is\") # \"is\"-->has occured 2 times , 4 denotes the index position where \"is\" begins"
   ]
  },
  {
   "cell_type": "code",
   "execution_count": 82,
   "metadata": {},
   "outputs": [
    {
     "data": {
      "text/plain": [
       "0"
      ]
     },
     "execution_count": 82,
     "metadata": {},
     "output_type": "execute_result"
    }
   ],
   "source": [
    "b.index(\"she\") # 0 is the index position of \"she\""
   ]
  },
  {
   "cell_type": "markdown",
   "metadata": {},
   "source": [
    "(13) Find the last occurance of word in a string"
   ]
  },
  {
   "cell_type": "code",
   "execution_count": 81,
   "metadata": {},
   "outputs": [
    {
     "data": {
      "text/plain": [
       "21"
      ]
     },
     "execution_count": 81,
     "metadata": {},
     "output_type": "execute_result"
    }
   ],
   "source": [
    "b.rfind(\"is\") # finding from right to left. \"is\" begins in 21 index position"
   ]
  },
  {
   "cell_type": "code",
   "execution_count": 83,
   "metadata": {},
   "outputs": [
    {
     "data": {
      "text/plain": [
       "17"
      ]
     },
     "execution_count": 83,
     "metadata": {},
     "output_type": "execute_result"
    }
   ],
   "source": [
    "b.rindex(\"she\")"
   ]
  },
  {
   "cell_type": "raw",
   "metadata": {},
   "source": [
    "Both find and index functions similarly but when a string is not found, index return error . Find return -1"
   ]
  },
  {
   "cell_type": "markdown",
   "metadata": {},
   "source": [
    "(14) Split the string into list of two words"
   ]
  },
  {
   "cell_type": "code",
   "execution_count": 84,
   "metadata": {},
   "outputs": [
    {
     "data": {
      "text/plain": [
       "['i love reading books', 'especially psychological stuffs']"
      ]
     },
     "execution_count": 84,
     "metadata": {},
     "output_type": "execute_result"
    }
   ],
   "source": [
    "c=\"i love reading books,especially psychological stuffs\"\n",
    "c.split(\",\")"
   ]
  },
  {
   "cell_type": "code",
   "execution_count": 85,
   "metadata": {},
   "outputs": [
    {
     "data": {
      "text/plain": [
       "'especially psychological stuffs'"
      ]
     },
     "execution_count": 85,
     "metadata": {},
     "output_type": "execute_result"
    }
   ],
   "source": [
    "c.split(\",\")[1]  # split and sclice"
   ]
  },
  {
   "cell_type": "code",
   "execution_count": 86,
   "metadata": {},
   "outputs": [
    {
     "data": {
      "text/plain": [
       "'i love reading books'"
      ]
     },
     "execution_count": 86,
     "metadata": {},
     "output_type": "execute_result"
    }
   ],
   "source": [
    "c.split(\",\")[0]"
   ]
  },
  {
   "cell_type": "markdown",
   "metadata": {},
   "source": [
    "(15) Join a list of words into a string: (Convert a list of words to a string)\n"
   ]
  },
  {
   "cell_type": "code",
   "execution_count": 15,
   "metadata": {},
   "outputs": [
    {
     "data": {
      "text/plain": [
       "list"
      ]
     },
     "execution_count": 15,
     "metadata": {},
     "output_type": "execute_result"
    }
   ],
   "source": [
    "d=[\"hello\",\"we\",\"are\",\"learning\",\"Python\"]\n",
    "type(d)\n"
   ]
  },
  {
   "cell_type": "code",
   "execution_count": 16,
   "metadata": {},
   "outputs": [
    {
     "data": {
      "text/plain": [
       "'hello we are learning Python'"
      ]
     },
     "execution_count": 16,
     "metadata": {},
     "output_type": "execute_result"
    }
   ],
   "source": [
    "d_string=' '.join(d)  ## join string method\n",
    "d_string"
   ]
  },
  {
   "cell_type": "code",
   "execution_count": 17,
   "metadata": {},
   "outputs": [
    {
     "data": {
      "text/plain": [
       "'hello,we,are,learning,Python'"
      ]
     },
     "execution_count": 17,
     "metadata": {},
     "output_type": "execute_result"
    }
   ],
   "source": [
    "d_string=','.join(d)  ## syntax: separater.join(list you want to convert into a string)\n",
    "d_string"
   ]
  },
  {
   "cell_type": "markdown",
   "metadata": {},
   "source": [
    "(16) Convert a string where words are separated by spaces to one where words are separated by underscores.\n"
   ]
  },
  {
   "cell_type": "code",
   "execution_count": 1,
   "metadata": {},
   "outputs": [
    {
     "data": {
      "text/plain": [
       "' the fear of losing will destroy your confidence'"
      ]
     },
     "execution_count": 1,
     "metadata": {},
     "output_type": "execute_result"
    }
   ],
   "source": [
    "quote=\" the fear of losing will destroy your confidence\"\n",
    "quote"
   ]
  },
  {
   "cell_type": "code",
   "execution_count": 2,
   "metadata": {},
   "outputs": [
    {
     "data": {
      "text/plain": [
       "'_the_fear_of_losing_will_destroy_your_confidence'"
      ]
     },
     "execution_count": 2,
     "metadata": {},
     "output_type": "execute_result"
    }
   ],
   "source": [
    "quote.replace(\" \",'_')"
   ]
  },
  {
   "cell_type": "markdown",
   "metadata": {},
   "source": [
    "(17) Check if a string starts with a specific word or phrase"
   ]
  },
  {
   "cell_type": "code",
   "execution_count": 3,
   "metadata": {},
   "outputs": [
    {
     "data": {
      "text/plain": [
       "' the fear of losing will destroy your confidence'"
      ]
     },
     "execution_count": 3,
     "metadata": {},
     "output_type": "execute_result"
    }
   ],
   "source": [
    "quote"
   ]
  },
  {
   "cell_type": "code",
   "execution_count": 7,
   "metadata": {},
   "outputs": [
    {
     "data": {
      "text/plain": [
       "True"
      ]
     },
     "execution_count": 7,
     "metadata": {},
     "output_type": "execute_result"
    }
   ],
   "source": [
    "quote.startswith(\" the\")"
   ]
  },
  {
   "cell_type": "markdown",
   "metadata": {},
   "source": [
    "(18) Check if a string ends with a specific word or phrase"
   ]
  },
  {
   "cell_type": "code",
   "execution_count": 8,
   "metadata": {},
   "outputs": [
    {
     "data": {
      "text/plain": [
       "True"
      ]
     },
     "execution_count": 8,
     "metadata": {},
     "output_type": "execute_result"
    }
   ],
   "source": [
    "quote.endswith(\"confidence\")"
   ]
  },
  {
   "cell_type": "markdown",
   "metadata": {},
   "source": [
    "(19) Convert a string into title case"
   ]
  },
  {
   "cell_type": "code",
   "execution_count": 9,
   "metadata": {},
   "outputs": [
    {
     "data": {
      "text/plain": [
       "' Hello Everyone'"
      ]
     },
     "execution_count": 9,
     "metadata": {},
     "output_type": "execute_result"
    }
   ],
   "source": [
    "greetings=\" hello everyone\"\n",
    "greetings.title()"
   ]
  },
  {
   "cell_type": "markdown",
   "metadata": {},
   "source": [
    "(20) Find the longest word in a string"
   ]
  },
  {
   "cell_type": "code",
   "execution_count": 19,
   "metadata": {},
   "outputs": [
    {
     "name": "stdout",
     "output_type": "stream",
     "text": [
      "Enter a string:be bold and energitic\n"
     ]
    },
    {
     "data": {
      "text/plain": [
       "'energitic'"
      ]
     },
     "execution_count": 19,
     "metadata": {},
     "output_type": "execute_result"
    }
   ],
   "source": [
    "august= input(\"Enter a string:\")\n",
    "\n",
    "longest=max(august.split(),key=len)  # split and count the max letter's a word hold\n",
    "longest"
   ]
  },
  {
   "cell_type": "markdown",
   "metadata": {},
   "source": [
    "(21)  Find the shortest word in a string"
   ]
  },
  {
   "cell_type": "code",
   "execution_count": 21,
   "metadata": {},
   "outputs": [
    {
     "name": "stdout",
     "output_type": "stream",
     "text": [
      "enter a string:be bold and wise\n"
     ]
    },
    {
     "data": {
      "text/plain": [
       "'be'"
      ]
     },
     "execution_count": 21,
     "metadata": {},
     "output_type": "execute_result"
    }
   ],
   "source": [
    "april= input(\"enter a string:\")\n",
    "\n",
    "shortest=min(april.split(),key=len)  # key=fun ---> need to perform\n",
    "shortest"
   ]
  },
  {
   "cell_type": "markdown",
   "metadata": {},
   "source": [
    "(22) Reverse the order of words in a string."
   ]
  },
  {
   "cell_type": "code",
   "execution_count": 24,
   "metadata": {},
   "outputs": [
    {
     "data": {
      "text/plain": [
       "'gninrom dooG'"
      ]
     },
     "execution_count": 24,
     "metadata": {},
     "output_type": "execute_result"
    }
   ],
   "source": [
    "# string sclicing\n",
    "greet=\"Good morning\"\n",
    "greet=greet[::-1]\n",
    "greet"
   ]
  },
  {
   "cell_type": "code",
   "execution_count": 26,
   "metadata": {},
   "outputs": [
    {
     "data": {
      "text/plain": [
       "'yadseuT'"
      ]
     },
     "execution_count": 26,
     "metadata": {},
     "output_type": "execute_result"
    }
   ],
   "source": [
    "# reversed by join() function\n",
    "\n",
    "day=\"Tuesday\"\n",
    "day=\"\".join(reversed(day))\n",
    "day"
   ]
  },
  {
   "cell_type": "markdown",
   "metadata": {},
   "source": [
    "(23) Check if a string is alphanumeric"
   ]
  },
  {
   "cell_type": "code",
   "execution_count": 8,
   "metadata": {},
   "outputs": [
    {
     "data": {
      "text/plain": [
       "False"
      ]
     },
     "execution_count": 8,
     "metadata": {},
     "output_type": "execute_result"
    }
   ],
   "source": [
    "moon=\"1lunar day\"\n",
    "moon.isalnum()   "
   ]
  },
  {
   "cell_type": "raw",
   "metadata": {},
   "source": [
    "space is also included while checking for alphanumeric "
   ]
  },
  {
   "cell_type": "code",
   "execution_count": 9,
   "metadata": {},
   "outputs": [
    {
     "data": {
      "text/plain": [
       "True"
      ]
     },
     "execution_count": 9,
     "metadata": {},
     "output_type": "execute_result"
    }
   ],
   "source": [
    "moon=\"1lunarday\"\n",
    "moon.isalnum()"
   ]
  },
  {
   "cell_type": "markdown",
   "metadata": {},
   "source": [
    "(24)Extract all digits from a string"
   ]
  },
  {
   "cell_type": "code",
   "execution_count": 35,
   "metadata": {},
   "outputs": [
    {
     "name": "stdout",
     "output_type": "stream",
     "text": [
      "the numbes is: [1, 2]\n"
     ]
    }
   ],
   "source": [
    "satellite=\" earth has 1 and mars has 2  \"\n",
    "numbers=[]    # empty list to append\n",
    "for i in satellite:\n",
    "    if i.isdigit():\n",
    "        numbers.append(int(i))   ## append is used in case of list\n",
    "print(\"the numbes is:\",numbers)"
   ]
  },
  {
   "cell_type": "markdown",
   "metadata": {},
   "source": [
    "(25) Extract all alphabets from a string"
   ]
  },
  {
   "cell_type": "code",
   "execution_count": 22,
   "metadata": {},
   "outputs": [
    {
     "name": "stdout",
     "output_type": "stream",
     "text": [
      " the alphabets are:  l u n a r d a y s e q u a l t o e a r t h d a y\n"
     ]
    }
   ],
   "source": [
    "moon=\"14 lunar days equal to 1 earth day\"\n",
    "string=\"\"  # empty string to join\n",
    "for i in moon:\n",
    "    if i.isalpha():\n",
    "        string=\" \".join([string,i]) # string= string+\" \"+i ---> can also be used\n",
    "print(\" the alphabets are:\",string)"
   ]
  },
  {
   "cell_type": "raw",
   "metadata": {},
   "source": [
    "the isalpha function will check if the character is alphabet or not. the join method will capture only the valid character which saatisfies the if condition. "
   ]
  },
  {
   "cell_type": "markdown",
   "metadata": {},
   "source": [
    "(26) Count the number of upper case letters in a string\n"
   ]
  },
  {
   "cell_type": "code",
   "execution_count": 66,
   "metadata": {},
   "outputs": [
    {
     "name": "stdout",
     "output_type": "stream",
     "text": [
      "Enter a string:John Michael Roy\n",
      "the number of upper case in a string: 3\n"
     ]
    }
   ],
   "source": [
    "name= input(\"Enter a string:\")\n",
    "count=0\n",
    "for i in name:\n",
    "        if (i.isupper()):\n",
    "            count=count+1\n",
    "        \n",
    "print(\"the number of upper case in a string:\",count)"
   ]
  },
  {
   "cell_type": "markdown",
   "metadata": {},
   "source": [
    "(27) Count the number of lower case in a string"
   ]
  },
  {
   "cell_type": "code",
   "execution_count": 67,
   "metadata": {},
   "outputs": [
    {
     "name": "stdout",
     "output_type": "stream",
     "text": [
      "Enter a string:John Michael Roy\n",
      "the number of lower case in a string: 11\n"
     ]
    }
   ],
   "source": [
    "name= input(\"Enter a string:\")\n",
    "count=0\n",
    "for i in name:\n",
    "    if(i.islower()):\n",
    "        count=count+1\n",
    "print(\"the number of lower case in a string:\",count)"
   ]
  },
  {
   "cell_type": "markdown",
   "metadata": {},
   "source": [
    "(28) Swap the case of each letter in a string"
   ]
  },
  {
   "cell_type": "code",
   "execution_count": 72,
   "metadata": {},
   "outputs": [
    {
     "data": {
      "text/plain": [
       "'jOHN mICHAEL rOY'"
      ]
     },
     "execution_count": 72,
     "metadata": {},
     "output_type": "execute_result"
    }
   ],
   "source": [
    "name= \"John Michael Roy\"\n",
    "\n",
    "name= name.swapcase()\n",
    "name"
   ]
  },
  {
   "cell_type": "markdown",
   "metadata": {},
   "source": [
    "(29) Remove a specific word from a string"
   ]
  },
  {
   "cell_type": "code",
   "execution_count": 85,
   "metadata": {},
   "outputs": [
    {
     "name": "stdout",
     "output_type": "stream",
     "text": [
      "enter a string:she is very tall\n"
     ]
    }
   ],
   "source": [
    "q=input(\"enter a string:\")"
   ]
  },
  {
   "cell_type": "code",
   "execution_count": 86,
   "metadata": {},
   "outputs": [
    {
     "data": {
      "text/plain": [
       "'she is  tall'"
      ]
     },
     "execution_count": 86,
     "metadata": {},
     "output_type": "execute_result"
    }
   ],
   "source": [
    "q=q.replace(\"very\",\"\")  ## \"very\" has been removed\n",
    "q"
   ]
  },
  {
   "cell_type": "markdown",
   "metadata": {},
   "source": [
    "(30) Check if a string is a valid email address"
   ]
  },
  {
   "cell_type": "code",
   "execution_count": 1,
   "metadata": {},
   "outputs": [
    {
     "name": "stdout",
     "output_type": "stream",
     "text": [
      "Collecting validate_email\n",
      "  Downloading validate_email-1.3.tar.gz (4.7 kB)\n",
      "Building wheels for collected packages: validate-email\n",
      "  Building wheel for validate-email (setup.py): started\n",
      "  Building wheel for validate-email (setup.py): finished with status 'done'\n",
      "  Created wheel for validate-email: filename=validate_email-1.3-py3-none-any.whl size=5468 sha256=fcc342f908e3a0b1dd94356d4cb2cf60f7990c3a93a7c1721754aa74f844c780\n",
      "  Stored in directory: c:\\users\\lenovo\\appdata\\local\\pip\\cache\\wheels\\35\\c1\\50\\f0208860f0a0b7b0c0a6ff7684c5fd2776b36fc10cbb5f728d\n",
      "Successfully built validate-email\n",
      "Installing collected packages: validate-email\n",
      "Successfully installed validate-email-1.3\n",
      "Note: you may need to restart the kernel to use updated packages.\n"
     ]
    }
   ],
   "source": [
    "pip install validate_email"
   ]
  },
  {
   "cell_type": "code",
   "execution_count": 10,
   "metadata": {},
   "outputs": [
    {
     "name": "stdout",
     "output_type": "stream",
     "text": [
      "email address is valid\n"
     ]
    }
   ],
   "source": [
    "from validate_email import validate_email\n",
    "\n",
    "email=\"123sofi@gamil.com\"\n",
    "\n",
    "is_valid=validate_email(email)\n",
    "\n",
    "if is_valid:\n",
    "    print(\"email address is valid\")\n",
    "else:\n",
    "    print(\"email address is not valid\")"
   ]
  },
  {
   "cell_type": "markdown",
   "metadata": {},
   "source": [
    "(31) Extract the username from an email address string.\n"
   ]
  },
  {
   "cell_type": "code",
   "execution_count": 90,
   "metadata": {},
   "outputs": [
    {
     "name": "stdout",
     "output_type": "stream",
     "text": [
      "the user name is dolma\n"
     ]
    }
   ],
   "source": [
    "mail=\"dolma@gmail.com\"\n",
    "\n",
    "# use split to get user name\n",
    "s=mail.split(\"@\")[0]\n",
    "print(\"the user name is\",s)"
   ]
  },
  {
   "cell_type": "markdown",
   "metadata": {},
   "source": [
    "(32) Extract the domain from an email address string.\n"
   ]
  },
  {
   "cell_type": "code",
   "execution_count": 91,
   "metadata": {},
   "outputs": [
    {
     "name": "stdout",
     "output_type": "stream",
     "text": [
      "the domain name is gmail.com\n"
     ]
    }
   ],
   "source": [
    "mail=\"dolma@gmail.com\"\n",
    "\n",
    "# use split\n",
    "t=mail.split(\"@\")[1]\n",
    "print(\"the domain name is\",t)"
   ]
  },
  {
   "cell_type": "markdown",
   "metadata": {},
   "source": [
    "(33) Replace multiple spaces in a string with a single space"
   ]
  },
  {
   "cell_type": "code",
   "execution_count": 116,
   "metadata": {},
   "outputs": [],
   "source": [
    "w=\"  I like to eat  ice_cream and      chocolate\"\n",
    "\n",
    "# remove multiple white space character with single space\n",
    "result=\" \".join(w.split())   "
   ]
  },
  {
   "cell_type": "code",
   "execution_count": 117,
   "metadata": {},
   "outputs": [
    {
     "data": {
      "text/plain": [
       "'I like to eat ice_cream and chocolate'"
      ]
     },
     "execution_count": 117,
     "metadata": {},
     "output_type": "execute_result"
    }
   ],
   "source": [
    "result"
   ]
  },
  {
   "cell_type": "markdown",
   "metadata": {},
   "source": [
    "(34) Check if a string is a valid URL"
   ]
  },
  {
   "cell_type": "code",
   "execution_count": 13,
   "metadata": {},
   "outputs": [
    {
     "name": "stdout",
     "output_type": "stream",
     "text": [
      "Collecting validators\n",
      "  Downloading validators-0.21.2-py3-none-any.whl (25 kB)\n",
      "Installing collected packages: validators\n",
      "Successfully installed validators-0.21.2\n",
      "Note: you may need to restart the kernel to use updated packages.\n"
     ]
    }
   ],
   "source": [
    "pip install validators"
   ]
  },
  {
   "cell_type": "code",
   "execution_count": 15,
   "metadata": {},
   "outputs": [
    {
     "name": "stdout",
     "output_type": "stream",
     "text": [
      "URL is valid\n"
     ]
    }
   ],
   "source": [
    "\n",
    "import validators   # import lib - validators \n",
    "\n",
    "check=validators.url(\"https://www.codespeedy.com/\")\n",
    "if check==True:\n",
    "    print(\"URL is valid\")\n",
    "else:\n",
    "        print(\"URL is not valid\")"
   ]
  },
  {
   "cell_type": "raw",
   "metadata": {},
   "source": [
    "Explanation: validator module will check the URL. Install and inport the library \"validators\"."
   ]
  },
  {
   "cell_type": "markdown",
   "metadata": {},
   "source": [
    "(35)Extract the protocol (http or https) from a URL string.\n"
   ]
  },
  {
   "cell_type": "code",
   "execution_count": null,
   "metadata": {},
   "outputs": [],
   "source": []
  },
  {
   "cell_type": "code",
   "execution_count": null,
   "metadata": {},
   "outputs": [],
   "source": []
  },
  {
   "cell_type": "markdown",
   "metadata": {},
   "source": [
    "(36) Find the frequency of each character in a string"
   ]
  },
  {
   "cell_type": "code",
   "execution_count": 23,
   "metadata": {},
   "outputs": [
    {
     "name": "stdout",
     "output_type": "stream",
     "text": [
      "y:1.o:2.l:2.o:2. :1.l:2.i:1.f:1.e:1."
     ]
    }
   ],
   "source": [
    "d=\"yolo life\"\n",
    "for i in d:\n",
    "    frequency=d.count(i)\n",
    "    print(str(i)+\":\"+str(frequency), end=\".\")\n"
   ]
  },
  {
   "cell_type": "code",
   "execution_count": 139,
   "metadata": {},
   "outputs": [
    {
     "name": "stdout",
     "output_type": "stream",
     "text": [
      "frequency of each characte: {'y': 1, 'o': 2, 'l': 2, ' ': 1, 'i': 1, 'f': 1, 'e': 1}\n"
     ]
    }
   ],
   "source": [
    "d=\"yolo life\"\n",
    "freq={}\n",
    "for i in d:\n",
    "    if i in freq:\n",
    "        freq[i]+=1\n",
    "    else:\n",
    "        freq[i]=1\n",
    "print(\"frequency of each characte:\",freq)"
   ]
  },
  {
   "cell_type": "markdown",
   "metadata": {},
   "source": [
    "(37) Remove all punctuation from a string."
   ]
  },
  {
   "cell_type": "code",
   "execution_count": 1,
   "metadata": {},
   "outputs": [
    {
     "name": "stdout",
     "output_type": "stream",
     "text": [
      "the original string: Python, is easy; but need - lot of ! practice\n",
      "string without punctuation: Python is easy but need  lot of  practice\n"
     ]
    }
   ],
   "source": [
    "book='Python, is easy; but need - lot of ! practice'\n",
    "print(\"the original string:\",book)\n",
    "\n",
    "punctuation_value='''!()_-[]{}:;,./@#$%^&*<>~'''\n",
    "\n",
    "for i in book:\n",
    "    if i in punctuation_value:\n",
    "          book=book.replace(i,\"\")\n",
    "            \n",
    "print('string without punctuation:',book)"
   ]
  },
  {
   "cell_type": "markdown",
   "metadata": {},
   "source": [
    "(38) Check if a string contains only digits"
   ]
  },
  {
   "cell_type": "code",
   "execution_count": 6,
   "metadata": {},
   "outputs": [
    {
     "name": "stdout",
     "output_type": "stream",
     "text": [
      "Enter a string: 123\n",
      "the string contains only digit\n"
     ]
    }
   ],
   "source": [
    "q=input(\"Enter a string: \")\n",
    "\n",
    "if q.isdigit():\n",
    "    print(\"the string contains only digit\")\n",
    "else:\n",
    "        print(\"The string does not contains only digit\")\n"
   ]
  },
  {
   "cell_type": "markdown",
   "metadata": {},
   "source": [
    "(39) Check if the string contains only alphabets"
   ]
  },
  {
   "cell_type": "code",
   "execution_count": 9,
   "metadata": {},
   "outputs": [
    {
     "name": "stdout",
     "output_type": "stream",
     "text": [
      "enter a string: hello all\n",
      "The string does not contains only alphabet\n"
     ]
    }
   ],
   "source": [
    "w=input(\"enter a string: \")\n",
    "if w.isalpha():\n",
    "    print(\"The string contains only alphabet\")\n",
    "else:\n",
    "        print(\"The string does not contains only alphabet\")"
   ]
  },
  {
   "cell_type": "markdown",
   "metadata": {},
   "source": [
    "(40) Convert a string to a list of characters"
   ]
  },
  {
   "cell_type": "code",
   "execution_count": 12,
   "metadata": {},
   "outputs": [
    {
     "name": "stdout",
     "output_type": "stream",
     "text": [
      "Enter a string: welcome to the journey\n",
      "List of characters: ['welcome', 'to', 'the', 'journey']\n"
     ]
    }
   ],
   "source": [
    "s=input(\"Enter a string: \")\n",
    "\n",
    "t=s.split(\" \")\n",
    "\n",
    "print(\"List of characters:\",t)\n"
   ]
  },
  {
   "cell_type": "markdown",
   "metadata": {},
   "source": [
    "(41) Check if two strings are anagram"
   ]
  },
  {
   "cell_type": "code",
   "execution_count": 6,
   "metadata": {},
   "outputs": [
    {
     "name": "stdout",
     "output_type": "stream",
     "text": [
      "enter a string1: race\n",
      "enter a string2: care\n",
      "string1 after sorting ['a', 'c', 'e', 'r']\n",
      "string2 after sorting ['a', 'c', 'e', 'r']\n",
      "The strings are anagram\n"
     ]
    }
   ],
   "source": [
    "## Anagram - Is a word or phrase that is formed by rearranging all the letters of a different word or phrase exactly once.\n",
    "\n",
    "d1=input(\"enter a string1: \")\n",
    "d2=input(\"enter a string2: \")\n",
    "\n",
    "# sort the string and also convert them into lower case:\n",
    "d1=sorted(d1.lower())\n",
    "d2=sorted(d2.lower())\n",
    "\n",
    "print(\"string1 after sorting\",d1)\n",
    "print(\"string2 after sorting\",d2)\n",
    "        \n",
    "    # if sorted char array are same then it is an anagram\n",
    "if(d1==d2):\n",
    "        \n",
    "    print(\"The strings are anagram\")\n",
    "else:\n",
    "        print(\"the strings are not anagram\")"
   ]
  },
  {
   "cell_type": "raw",
   "metadata": {},
   "source": [
    "# sorted works in string: (not sort)\n",
    "\n",
    "d=\"sugi\"\n",
    "d=sorted(d)  # gives by ascending order(a -z)format\n",
    "d"
   ]
  },
  {
   "cell_type": "raw",
   "metadata": {},
   "source": [
    "# how sort is used\n",
    "f=[1,56,2,3]\n",
    "\n",
    "f.sort()    ## sort - works on numeric values\n",
    "f"
   ]
  },
  {
   "cell_type": "markdown",
   "metadata": {},
   "source": [
    "(42) Encode a string using a Caesar cipher.\n"
   ]
  },
  {
   "cell_type": "code",
   "execution_count": null,
   "metadata": {},
   "outputs": [],
   "source": []
  },
  {
   "cell_type": "code",
   "execution_count": null,
   "metadata": {},
   "outputs": [],
   "source": []
  },
  {
   "cell_type": "markdown",
   "metadata": {},
   "source": [
    "(43) Decode a Caesar cipher encoded string.\n"
   ]
  },
  {
   "cell_type": "code",
   "execution_count": null,
   "metadata": {},
   "outputs": [],
   "source": []
  },
  {
   "cell_type": "markdown",
   "metadata": {},
   "source": [
    "(44) Find the most frequent word from the string"
   ]
  },
  {
   "cell_type": "code",
   "execution_count": 20,
   "metadata": {},
   "outputs": [
    {
     "name": "stdout",
     "output_type": "stream",
     "text": [
      "[('light', 3), ('a', 2), ('night', 2)]\n"
     ]
    }
   ],
   "source": [
    "from collections import Counter\n",
    "\n",
    "data_set=\"No need to light a night light on a light night like tonight\"\n",
    "\n",
    "# split return list of all word in the stirng\n",
    "split_it=data_set.split()\n",
    "# Pass the split_it list to instance of Counter class\n",
    "Counter=Counter(split_it)\n",
    "\n",
    "most_freq=Counter.most_common(3) ## used to call words which is most frequent (i asked for 3 most freq)\n",
    "print(most_freq)"
   ]
  },
  {
   "cell_type": "raw",
   "metadata": {},
   "source": [
    "The function \"most_common()' inside Counter will return the list of most frequent words formlist and its count."
   ]
  },
  {
   "cell_type": "markdown",
   "metadata": {},
   "source": [
    "(45) Find all unique words in a string"
   ]
  },
  {
   "cell_type": "code",
   "execution_count": 37,
   "metadata": {},
   "outputs": [],
   "source": [
    "# Function to return all unique words\n",
    "\n",
    "def UncommonWords (A,B):\n",
    "    A=A.split()     ## split is used to convert string to list format\n",
    "    B=B.split()\n",
    "    x=[]            # empty list is created so that we can append\n",
    "    for i in A:\n",
    "        if i not in B:    ## done by indexing using if condition\n",
    "            x.append(i)\n",
    "            \n",
    "    for i in B:\n",
    "        if i not in A:\n",
    "            x.append(i)\n",
    "            \n",
    "                          ###  x=list(set(x))  \n",
    "    return x"
   ]
  },
  {
   "cell_type": "code",
   "execution_count": 38,
   "metadata": {},
   "outputs": [
    {
     "name": "stdout",
     "output_type": "stream",
     "text": [
      "['great', 'faith']\n"
     ]
    }
   ],
   "source": [
    "A=\"God is great\"\n",
    "B=\"God is faith\"\n",
    "\n",
    "print(UncommonWords(A,B))"
   ]
  },
  {
   "cell_type": "code",
   "execution_count": 27,
   "metadata": {},
   "outputs": [],
   "source": [
    "## Other way:\n",
    "\n",
    "def UniqueWords(C,D):\n",
    "    setC=set(C.split())\n",
    "    setD=set(D.split())\n",
    "    \n",
    "    # find the unique word in setC and setD and combine them\n",
    "    Uncommon_words=setC.difference(setD).union(setD.difference(setC)) # ven diagram\n",
    "    return list(Uncommon_words)"
   ]
  },
  {
   "cell_type": "code",
   "execution_count": 29,
   "metadata": {},
   "outputs": [
    {
     "name": "stdout",
     "output_type": "stream",
     "text": [
      "['from', 'learning']\n"
     ]
    }
   ],
   "source": [
    "C=\"Greek for Greek\"\n",
    "D=\"learning from Greek for Greek\"\n",
    "print(UniqueWords(C,D))"
   ]
  },
  {
   "cell_type": "markdown",
   "metadata": {},
   "source": [
    "(46) Count the number of syllables in a string."
   ]
  },
  {
   "cell_type": "code",
   "execution_count": 12,
   "metadata": {},
   "outputs": [
    {
     "name": "stdout",
     "output_type": "stream",
     "text": [
      "4\n"
     ]
    }
   ],
   "source": [
    "def count(word):\n",
    "    return len(word.split(\"-\"))\n",
    "print(count(\"ho-tel-manage-ment\"))"
   ]
  },
  {
   "cell_type": "raw",
   "metadata": {},
   "source": [
    "The number of syllables is the number of times the \"-\" symbol appears. "
   ]
  },
  {
   "cell_type": "markdown",
   "metadata": {},
   "source": [
    "(47) Check if a string contains any special characters."
   ]
  },
  {
   "cell_type": "code",
   "execution_count": 21,
   "metadata": {},
   "outputs": [
    {
     "name": "stdout",
     "output_type": "stream",
     "text": [
      "Enter a string:hello!\n",
      "yes\n"
     ]
    }
   ],
   "source": [
    "special_characters=\"!@#$%^&*(){}[]:;<>,/?\"\n",
    "\n",
    "s=input(\"Enter a string:\")\n",
    "\n",
    "if any (c in special_characters for c in s):\n",
    "    print(\"yes\")\n",
    "else:\n",
    "        print(\"no\")"
   ]
  },
  {
   "cell_type": "markdown",
   "metadata": {},
   "source": [
    "(48) Remove the nth word from a string.\n"
   ]
  },
  {
   "cell_type": "code",
   "execution_count": 25,
   "metadata": {},
   "outputs": [
    {
     "name": "stdout",
     "output_type": "stream",
     "text": [
      "I love to eat fis\n"
     ]
    }
   ],
   "source": [
    "p=\"I love to eat fish\"\n",
    "p=p[:len(p)-1]  ## positive indexing\n",
    "print(p)"
   ]
  },
  {
   "cell_type": "code",
   "execution_count": 26,
   "metadata": {},
   "outputs": [
    {
     "data": {
      "text/plain": [
       "'i am not an organized perso'"
      ]
     },
     "execution_count": 26,
     "metadata": {},
     "output_type": "execute_result"
    }
   ],
   "source": [
    "q=\"i am not an organized person\"\n",
    "q=q[:-1]   ## negative indexing\n",
    "q "
   ]
  },
  {
   "cell_type": "code",
   "execution_count": 29,
   "metadata": {},
   "outputs": [
    {
     "data": {
      "text/plain": [
       "'ello'"
      ]
     },
     "execution_count": 29,
     "metadata": {},
     "output_type": "execute_result"
    }
   ],
   "source": [
    "a=\"hello\"\n",
    "a=a[1:]\n",
    "a"
   ]
  },
  {
   "cell_type": "markdown",
   "metadata": {},
   "source": [
    "(49)  Insert a word at the nth position in a string.\n"
   ]
  },
  {
   "cell_type": "code",
   "execution_count": 33,
   "metadata": {},
   "outputs": [
    {
     "name": "stdout",
     "output_type": "stream",
     "text": [
      "welcome to the new home\n"
     ]
    }
   ],
   "source": [
    "h=\"welcome to the new\"\n",
    "h=h +\" \"+ \"home\"\n",
    "print(h)\n"
   ]
  },
  {
   "cell_type": "markdown",
   "metadata": {},
   "source": [
    "(50) Convert a CSV string to a list of lists.\n"
   ]
  },
  {
   "cell_type": "code",
   "execution_count": null,
   "metadata": {},
   "outputs": [],
   "source": [
    "import csv\n",
    "with open ('sample.csv','r') as read_obj:\n",
    "    \n",
    "    # return a reader object which will iterate over lines in the given csv file.\n",
    "    csv_reader=csv_reader(read_obj)\n",
    "    \n",
    "    # convert string to list\n",
    "    list_of_csv=list(csv_reader)\n",
    "    print(list_of_csv)                              "
   ]
  },
  {
   "cell_type": "markdown",
   "metadata": {},
   "source": [
    "# List based problems"
   ]
  },
  {
   "cell_type": "markdown",
   "metadata": {},
   "source": [
    "(1)  Create a list with integers from 1 to 10.\n"
   ]
  },
  {
   "cell_type": "code",
   "execution_count": 3,
   "metadata": {},
   "outputs": [
    {
     "data": {
      "text/plain": [
       "[1, 2, 3, 4, 5, 6, 7, 8, 9]"
      ]
     },
     "execution_count": 3,
     "metadata": {},
     "output_type": "execute_result"
    }
   ],
   "source": [
    "# using range\n",
    "b=range(1,10)\n",
    "b=list(b)\n",
    "b"
   ]
  },
  {
   "cell_type": "code",
   "execution_count": 4,
   "metadata": {},
   "outputs": [
    {
     "data": {
      "text/plain": [
       "list"
      ]
     },
     "execution_count": 4,
     "metadata": {},
     "output_type": "execute_result"
    }
   ],
   "source": [
    "type(b)"
   ]
  },
  {
   "cell_type": "markdown",
   "metadata": {},
   "source": [
    "(2) Find the length of a list without using the `len()` function.\n"
   ]
  },
  {
   "cell_type": "code",
   "execution_count": 24,
   "metadata": {},
   "outputs": [
    {
     "name": "stdout",
     "output_type": "stream",
     "text": [
      "length of list is: 5\n"
     ]
    }
   ],
   "source": [
    "a=[43,56,78,89,90]\n",
    "count=0\n",
    "for i in a:\n",
    "    count=count+1\n",
    "\n",
    "print(\"length of list is:\",count)\n",
    "    "
   ]
  },
  {
   "cell_type": "markdown",
   "metadata": {},
   "source": [
    "(3) Append an element to the end of a list.\n"
   ]
  },
  {
   "cell_type": "code",
   "execution_count": 26,
   "metadata": {},
   "outputs": [
    {
     "data": {
      "text/plain": [
       "['mango', 'orange', 'banana', 'grapes']"
      ]
     },
     "execution_count": 26,
     "metadata": {},
     "output_type": "execute_result"
    }
   ],
   "source": [
    "fruit=[\"mango\",\"orange\",\"banana\"]\n",
    "fruit.append(\"grapes\")\n",
    "fruit"
   ]
  },
  {
   "cell_type": "markdown",
   "metadata": {},
   "source": [
    "(4) Insert an element at a specific index in a list.\n"
   ]
  },
  {
   "cell_type": "code",
   "execution_count": 35,
   "metadata": {},
   "outputs": [
    {
     "data": {
      "text/plain": [
       "['hi', 1, 2, 3]"
      ]
     },
     "execution_count": 35,
     "metadata": {},
     "output_type": "execute_result"
    }
   ],
   "source": [
    "w=[\"hi\",1,2,3]\n",
    "w"
   ]
  },
  {
   "cell_type": "code",
   "execution_count": 36,
   "metadata": {},
   "outputs": [
    {
     "data": {
      "text/plain": [
       "['hi', 1, 2, 'hello', 3]"
      ]
     },
     "execution_count": 36,
     "metadata": {},
     "output_type": "execute_result"
    }
   ],
   "source": [
    "w.insert(3,\"hello\")   # \"hello\" has been inserted in 3nd index\n",
    "w"
   ]
  },
  {
   "cell_type": "markdown",
   "metadata": {},
   "source": [
    "(5) Remove an element from a list by its value.\n"
   ]
  },
  {
   "cell_type": "code",
   "execution_count": 37,
   "metadata": {},
   "outputs": [
    {
     "data": {
      "text/plain": [
       "[100, 200, 300, 'jelly']"
      ]
     },
     "execution_count": 37,
     "metadata": {},
     "output_type": "execute_result"
    }
   ],
   "source": [
    "h=[100,200,300,\"jam\",\"jelly\"]\n",
    "h.remove(\"jam\")\n",
    "h"
   ]
  },
  {
   "cell_type": "markdown",
   "metadata": {},
   "source": [
    "(6)  Remove an element from a list by its index"
   ]
  },
  {
   "cell_type": "code",
   "execution_count": 2,
   "metadata": {},
   "outputs": [
    {
     "data": {
      "text/plain": [
       "[1, 2, 3, 'hi']"
      ]
     },
     "execution_count": 2,
     "metadata": {},
     "output_type": "execute_result"
    }
   ],
   "source": [
    "j=[1,2,3,\"hi\",\"hello\"]\n",
    "del j[4]\n",
    "j"
   ]
  },
  {
   "cell_type": "markdown",
   "metadata": {},
   "source": [
    "(7) Check if an element exists in a list.\n"
   ]
  },
  {
   "cell_type": "code",
   "execution_count": 14,
   "metadata": {},
   "outputs": [
    {
     "name": "stdout",
     "output_type": "stream",
     "text": [
      "50  exist in the list\n"
     ]
    }
   ],
   "source": [
    "w=[\"hey\",1,50,25,100]\n",
    "\n",
    "# define a value for i\n",
    "i=50 \n",
    "\n",
    "if i in w:\n",
    "    print(i,\" exist in the list\")\n",
    "else:\n",
    "    print(i,\" does not exist in the list\")"
   ]
  },
  {
   "cell_type": "markdown",
   "metadata": {},
   "source": [
    "(8). Find the index of the first occurrence of an element in a list.\n"
   ]
  },
  {
   "cell_type": "code",
   "execution_count": 20,
   "metadata": {},
   "outputs": [
    {
     "name": "stdout",
     "output_type": "stream",
     "text": [
      "index of 300 in the list: 4\n"
     ]
    }
   ],
   "source": [
    "k=[10,5,25,15,300,400,200]\n",
    "\n",
    "# search item\n",
    "item=300\n",
    "\n",
    "# find index of item in list\n",
    "a=k.index(item)\n",
    "print(f\"index of {item} in the list: {a}\")\n"
   ]
  },
  {
   "cell_type": "code",
   "execution_count": 21,
   "metadata": {},
   "outputs": [
    {
     "data": {
      "text/plain": [
       "1"
      ]
     },
     "execution_count": 21,
     "metadata": {},
     "output_type": "execute_result"
    }
   ],
   "source": [
    "# simple way\n",
    "k.index(5)"
   ]
  },
  {
   "cell_type": "markdown",
   "metadata": {},
   "source": [
    "(9) Count the occurrences of an element in a list."
   ]
  },
  {
   "cell_type": "code",
   "execution_count": 25,
   "metadata": {},
   "outputs": [],
   "source": [
    "import pandas as pd"
   ]
  },
  {
   "cell_type": "code",
   "execution_count": 34,
   "metadata": {},
   "outputs": [
    {
     "name": "stdout",
     "output_type": "stream",
     "text": [
      "Element Count\n",
      "3    3\n",
      "5    2\n",
      "1    2\n",
      "2    1\n",
      "dtype: int64\n"
     ]
    }
   ],
   "source": [
    "b=[1,1,2,3,3,3,5,5,]\n",
    "count=pd.Series(b).value_counts()\n",
    "print(\"Element Count\")\n",
    "print(count)"
   ]
  },
  {
   "cell_type": "code",
   "execution_count": 40,
   "metadata": {},
   "outputs": [],
   "source": [
    "# using loop\n",
    "\n",
    "def count_x(lst,x):\n",
    "    count=0\n",
    "    for i in lst:  # for every \"i\" in lst .If it satisfies if condition then gets increased\n",
    "        if (i==x):\n",
    "            count=count+1\n",
    "    return count"
   ]
  },
  {
   "cell_type": "code",
   "execution_count": 41,
   "metadata": {},
   "outputs": [
    {
     "name": "stdout",
     "output_type": "stream",
     "text": [
      "6 has occured 2 times\n"
     ]
    }
   ],
   "source": [
    "lst=[8,6,8,10,8,20,10,6,8]\n",
    "x=6\n",
    "print('{} has occured {} times'.format(x,count_x(lst,x)))"
   ]
  },
  {
   "cell_type": "raw",
   "metadata": {},
   "source": [
    "the count keeps increasing if the required element is found."
   ]
  },
  {
   "cell_type": "markdown",
   "metadata": {},
   "source": [
    "(10)  Reverse the order of elements in a list."
   ]
  },
  {
   "cell_type": "code",
   "execution_count": 67,
   "metadata": {},
   "outputs": [
    {
     "data": {
      "text/plain": [
       "[200, 75, 45, 'rose', 'maria']"
      ]
     },
     "execution_count": 67,
     "metadata": {},
     "output_type": "execute_result"
    }
   ],
   "source": [
    "s=[\"maria\",\"rose\",45,75,200]\n",
    "new_s=list(reversed(s))  \n",
    "new_s"
   ]
  },
  {
   "cell_type": "markdown",
   "metadata": {},
   "source": [
    "(11) Sort a list in ascending order."
   ]
  },
  {
   "cell_type": "code",
   "execution_count": 74,
   "metadata": {},
   "outputs": [
    {
     "name": "stdout",
     "output_type": "stream",
     "text": [
      "[2, 3, 32, 45, 65, 78]\n"
     ]
    }
   ],
   "source": [
    "age=[45,2,3,65,78,32]\n",
    "age.sort()\n",
    "print(age)"
   ]
  },
  {
   "cell_type": "markdown",
   "metadata": {},
   "source": [
    "(12) Sort a list in descending order."
   ]
  },
  {
   "cell_type": "code",
   "execution_count": 72,
   "metadata": {},
   "outputs": [
    {
     "name": "stdout",
     "output_type": "stream",
     "text": [
      "[78, 65, 45, 32, 22, 12, 7, 3, 2, 1]\n"
     ]
    }
   ],
   "source": [
    "age_1=[1,7,45,2,3,65,78,32,22,12]\n",
    "age_1.sort(reverse=True)   \n",
    "print(age_1)"
   ]
  },
  {
   "cell_type": "markdown",
   "metadata": {},
   "source": [
    "(13) Create a list of even numbers from 1 to 20."
   ]
  },
  {
   "cell_type": "code",
   "execution_count": 77,
   "metadata": {},
   "outputs": [
    {
     "name": "stdout",
     "output_type": "stream",
     "text": [
      "[1, 2, 3, 4, 5, 6, 7, 8, 9, 10, 11, 12, 13, 14, 15, 16, 17, 18, 19, 20]\n"
     ]
    }
   ],
   "source": [
    "e=range(1,21)  # create numbers form 1 to 20\n",
    "e=list(e)\n",
    "print(e)"
   ]
  },
  {
   "cell_type": "code",
   "execution_count": 93,
   "metadata": {},
   "outputs": [
    {
     "name": "stdout",
     "output_type": "stream",
     "text": [
      "2 4 6 8 10 12 14 16 18 20 "
     ]
    }
   ],
   "source": [
    "for i in e:\n",
    "    if i%2 ==0:    #  the remainder is equal to zero\n",
    "        \n",
    "        print(i,end=\" \")"
   ]
  },
  {
   "cell_type": "markdown",
   "metadata": {},
   "source": [
    "(14) Create a list of odd numbers from 1 to 20"
   ]
  },
  {
   "cell_type": "code",
   "execution_count": 95,
   "metadata": {},
   "outputs": [
    {
     "data": {
      "text/plain": [
       "[1, 2, 3, 4, 5, 6, 7, 8, 9, 10, 11, 12, 13, 14, 15, 16, 17, 18, 19, 20]"
      ]
     },
     "execution_count": 95,
     "metadata": {},
     "output_type": "execute_result"
    }
   ],
   "source": [
    "# call variable name \"e\"\n",
    "e  "
   ]
  },
  {
   "cell_type": "code",
   "execution_count": 96,
   "metadata": {},
   "outputs": [
    {
     "name": "stdout",
     "output_type": "stream",
     "text": [
      "1 3 5 7 9 11 13 15 17 19 "
     ]
    }
   ],
   "source": [
    "for i in e:\n",
    "    if i%2 !=0:   #  the remainder is not equal to zero\n",
    "        print(i, end=\" \")"
   ]
  },
  {
   "cell_type": "markdown",
   "metadata": {},
   "source": [
    "(15) Find the sum of all elements in a list"
   ]
  },
  {
   "cell_type": "code",
   "execution_count": 106,
   "metadata": {},
   "outputs": [
    {
     "name": "stdout",
     "output_type": "stream",
     "text": [
      "sum of all elements in 'a' is: 23\n"
     ]
    }
   ],
   "source": [
    "a=[2,4,5,3,9]\n",
    "sum=0\n",
    "for i in a:\n",
    "    sum=sum+i\n",
    "print(\"sum of all elements in 'a' is:\",sum)"
   ]
  },
  {
   "cell_type": "markdown",
   "metadata": {},
   "source": [
    "(16) Find the maximum value in a list.\n"
   ]
  },
  {
   "cell_type": "code",
   "execution_count": 107,
   "metadata": {},
   "outputs": [
    {
     "data": {
      "text/plain": [
       "1000"
      ]
     },
     "execution_count": 107,
     "metadata": {},
     "output_type": "execute_result"
    }
   ],
   "source": [
    "b=[200,30,400,1000,3,56]\n",
    "max(b)"
   ]
  },
  {
   "cell_type": "markdown",
   "metadata": {},
   "source": [
    "(17) Find the minimum value in a list."
   ]
  },
  {
   "cell_type": "code",
   "execution_count": 111,
   "metadata": {},
   "outputs": [
    {
     "data": {
      "text/plain": [
       "2"
      ]
     },
     "execution_count": 111,
     "metadata": {},
     "output_type": "execute_result"
    }
   ],
   "source": [
    "b=[200,30,2,400,1000,3,56,]\n",
    "min(b)"
   ]
  },
  {
   "cell_type": "markdown",
   "metadata": {},
   "source": [
    "(18) Create a list of squares of numbers from 1 to 10"
   ]
  },
  {
   "cell_type": "code",
   "execution_count": 112,
   "metadata": {},
   "outputs": [
    {
     "data": {
      "text/plain": [
       "[1, 2, 3, 4, 5, 6, 7, 8, 9, 10]"
      ]
     },
     "execution_count": 112,
     "metadata": {},
     "output_type": "execute_result"
    }
   ],
   "source": [
    "s=range(1,11)\n",
    "s=list(s)\n",
    "s"
   ]
  },
  {
   "cell_type": "code",
   "execution_count": 113,
   "metadata": {},
   "outputs": [
    {
     "name": "stdout",
     "output_type": "stream",
     "text": [
      "[1, 4, 9, 16, 25, 36, 49, 64, 81, 100]\n"
     ]
    }
   ],
   "source": [
    "square=[]\n",
    "for i in s:\n",
    "    num=i*i\n",
    "    square.append(num)\n",
    "print(square)"
   ]
  },
  {
   "cell_type": "markdown",
   "metadata": {},
   "source": [
    "(19) Create a list of random numbers."
   ]
  },
  {
   "cell_type": "code",
   "execution_count": 116,
   "metadata": {},
   "outputs": [
    {
     "name": "stdout",
     "output_type": "stream",
     "text": [
      "[57, 52, 59, 51, 53, 54, 60]\n"
     ]
    }
   ],
   "source": [
    "import random\n",
    "r=random.sample(range(50,61),7)  # (range(start,stop),Number random variables )\n",
    "print(r)"
   ]
  },
  {
   "cell_type": "markdown",
   "metadata": {},
   "source": [
    "(20) Remove duplicates from a list."
   ]
  },
  {
   "cell_type": "code",
   "execution_count": 125,
   "metadata": {},
   "outputs": [
    {
     "name": "stdout",
     "output_type": "stream",
     "text": [
      "The original list is: [1, 5, 3, 6, 3, 5, 6, 1]\n",
      " The list after removing duplicated: [1, 5, 3, 6]\n"
     ]
    }
   ],
   "source": [
    "test_list=[1,5,3,6,3,5,6,1]\n",
    "print(\"The original list is: \" + str(test_list))\n",
    "\n",
    "r=[]\n",
    "for i in test_list:\n",
    "    if i not in r:\n",
    "        r.append(i)\n",
    "print(\" The list after removing duplicated: \" +str(r))"
   ]
  },
  {
   "cell_type": "markdown",
   "metadata": {},
   "source": [
    "(21) Find the common elements between two lists."
   ]
  },
  {
   "cell_type": "code",
   "execution_count": 133,
   "metadata": {},
   "outputs": [
    {
     "name": "stdout",
     "output_type": "stream",
     "text": [
      "{5, 6}\n"
     ]
    }
   ],
   "source": [
    "a=[1,2,3,4,5,6]\n",
    "b=[5,6,7,8,9,10]\n",
    "print(set(a).intersection(b))\n",
    "            "
   ]
  },
  {
   "cell_type": "markdown",
   "metadata": {},
   "source": [
    "(22) Find the difference between two lists."
   ]
  },
  {
   "cell_type": "code",
   "execution_count": 140,
   "metadata": {},
   "outputs": [
    {
     "name": "stdout",
     "output_type": "stream",
     "text": [
      "[1, 2, 3, 4]\n"
     ]
    }
   ],
   "source": [
    "a=[1,2,3,4,5,6]\n",
    "b=[5,6,7,8,9,10]\n",
    "\n",
    "difference=[]\n",
    "for item in a:\n",
    "    if item not in b:  # set(a)-set(b)\n",
    "        difference.append(item)\n",
    "print(difference)\n",
    "                \n"
   ]
  },
  {
   "cell_type": "markdown",
   "metadata": {},
   "source": [
    "(23) Merge two lists.\n"
   ]
  },
  {
   "cell_type": "code",
   "execution_count": 143,
   "metadata": {},
   "outputs": [
    {
     "data": {
      "text/plain": [
       "{1, 2, 3, 4, 5, 6}"
      ]
     },
     "execution_count": 143,
     "metadata": {},
     "output_type": "execute_result"
    }
   ],
   "source": [
    "q1=[1,2,3]\n",
    "q2=[4,5,6]\n",
    "merge=set(q1).union(set(q2))\n",
    "merge"
   ]
  },
  {
   "cell_type": "markdown",
   "metadata": {},
   "source": [
    "(24)  Multiply all elements in a list by 2."
   ]
  },
  {
   "cell_type": "code",
   "execution_count": 146,
   "metadata": {},
   "outputs": [
    {
     "name": "stdout",
     "output_type": "stream",
     "text": [
      "2\n",
      "4\n",
      "6\n",
      "8\n",
      "12\n",
      "16\n",
      "20\n"
     ]
    }
   ],
   "source": [
    "elements=[1,2,3,4,6,8,10]\n",
    "x=[]\n",
    "for i in elements:\n",
    "    x=i*2\n",
    "    print(x)"
   ]
  },
  {
   "cell_type": "markdown",
   "metadata": {},
   "source": [
    "(25) Filter out all even numbers from a list."
   ]
  },
  {
   "cell_type": "code",
   "execution_count": 149,
   "metadata": {},
   "outputs": [
    {
     "name": "stdout",
     "output_type": "stream",
     "text": [
      "[10, 12, 14]\n"
     ]
    }
   ],
   "source": [
    "numbers=[10,11,12,13,14,15]\n",
    "n=[]\n",
    "for i in numbers:\n",
    "    if i%2 ==0:\n",
    "        n.append(i)\n",
    "print(n)"
   ]
  },
  {
   "cell_type": "markdown",
   "metadata": {},
   "source": [
    "(26) Convert a list of strings to a list of integers"
   ]
  },
  {
   "cell_type": "code",
   "execution_count": 152,
   "metadata": {},
   "outputs": [
    {
     "name": "stdout",
     "output_type": "stream",
     "text": [
      "Modified list is: [1, 5, -8, 23]\n"
     ]
    }
   ],
   "source": [
    "list=['1','5','-8','23']   # list of string\n",
    "r=[eval(i) for i in list]   # Using eval()\n",
    "print(\"Modified list is:\",r)"
   ]
  },
  {
   "cell_type": "raw",
   "metadata": {},
   "source": [
    "eval() function parse the expression argument and evaluate it as a python expression. If the expression is integer then argument converts them to integer."
   ]
  },
  {
   "cell_type": "markdown",
   "metadata": {},
   "source": [
    "(27) Convert a list of integers to a list of strings."
   ]
  },
  {
   "cell_type": "code",
   "execution_count": 154,
   "metadata": {},
   "outputs": [
    {
     "name": "stdout",
     "output_type": "stream",
     "text": [
      "Modified string is: ['1', '2', '50', '20', '30']\n"
     ]
    }
   ],
   "source": [
    "a=[1,2,50,20,30]\n",
    "p=[str(i) for i in a]\n",
    "print(\"Modified string is:\",p)"
   ]
  },
  {
   "cell_type": "markdown",
   "metadata": {},
   "source": [
    "(28) Flatten a nested list."
   ]
  },
  {
   "cell_type": "code",
   "execution_count": 161,
   "metadata": {},
   "outputs": [
    {
     "name": "stdout",
     "output_type": "stream",
     "text": [
      "[1, 2, 3, 4, 5, 6, 7]\n"
     ]
    }
   ],
   "source": [
    "\n",
    " # Create a nested list\n",
    "my_list=[[1],[2,3],[4,5,6,7]]\n",
    "flat_list=[]\n",
    "\n",
    "for sublist in my_list:\n",
    "    for num in sublist:\n",
    "        flat_list.append(num)\n",
    "        \n",
    "print(flat_list)"
   ]
  },
  {
   "cell_type": "raw",
   "metadata": {},
   "source": [
    "Create an empty list i.e; flat list. Access each element of the sublist using a nested loop and append that element to \"flat list\""
   ]
  },
  {
   "cell_type": "markdown",
   "metadata": {},
   "source": [
    "(29) Create a list of the first 10 Fibonacci numbers."
   ]
  },
  {
   "cell_type": "code",
   "execution_count": 26,
   "metadata": {},
   "outputs": [
    {
     "name": "stdout",
     "output_type": "stream",
     "text": [
      "Fibonacci series: 0 0 1 2 3 5 8 13 21 34 \n"
     ]
    }
   ],
   "source": [
    "num=10\n",
    "n1,n2=0,1   # given value for n1 and n2\n",
    "print(\"Fibonacci series:\",n1,n1,end=\" \")\n",
    "for i in range(2,num): # range starts from 2,since the first two no: has been allocated to n1 and n2\n",
    "    n3=n1+n2\n",
    "    n1=n2\n",
    "    n2=n3\n",
    "    print(n3,end=\" \")\n",
    "    \n",
    "print()"
   ]
  },
  {
   "cell_type": "markdown",
   "metadata": {},
   "source": [
    "(30) Check if a list is sorted."
   ]
  },
  {
   "cell_type": "code",
   "execution_count": 4,
   "metadata": {},
   "outputs": [
    {
     "name": "stdout",
     "output_type": "stream",
     "text": [
      "Original list: [1, 4, 5, 8, 10, 12, 34, 13]\n",
      "No, list is not sorted\n"
     ]
    }
   ],
   "source": [
    "t_list=[1,4,5,8,10,12,34,13]\n",
    "print(\"Original list:\",t_list)\n",
    "\n",
    "# check for sort list\n",
    "flag=0\n",
    "if(t_list==sorted(t_list)):\n",
    "    flag=1\n",
    "if (flag):\n",
    "    print(\"Yes, list is sorted\")\n",
    "else:\n",
    "    print(\"No, list is not sorted\")\n"
   ]
  },
  {
   "cell_type": "markdown",
   "metadata": {},
   "source": [
    "(31) Rotate a list to the left by `n` positions."
   ]
  },
  {
   "cell_type": "code",
   "execution_count": 86,
   "metadata": {},
   "outputs": [
    {
     "name": "stdout",
     "output_type": "stream",
     "text": [
      "enter position to left rotate list items= 3\n",
      "[5, 10, 15, 20, 25, 30, 35, 40]\n",
      "Final list after rotating\n",
      "[20, 25, 30, 35, 40, 5, 10, 15]\n"
     ]
    }
   ],
   "source": [
    "m=[5,10,15,20,25,30,35,40]\n",
    "rotate_left=int(input(\"enter position to left rotate list items= \"))\n",
    "print(m)\n",
    "\n",
    "left_rotated_list=m[rotate_left:] + m[:rotate_left] # begin from left\n",
    "print(\"Final list after rotating\")\n",
    "print(left_rotated_list)"
   ]
  },
  {
   "cell_type": "markdown",
   "metadata": {},
   "source": [
    "(32) Rotate a list to the right by `n` positions."
   ]
  },
  {
   "cell_type": "code",
   "execution_count": 87,
   "metadata": {},
   "outputs": [
    {
     "name": "stdout",
     "output_type": "stream",
     "text": [
      "enter position to right rotate list items= 3\n",
      "[5, 10, 15, 20, 25, 30, 35, 40]\n",
      "Final list after rotating\n",
      "[30, 35, 40, 5, 10, 15, 20, 25]\n"
     ]
    }
   ],
   "source": [
    "m1=[5,10,15,20,25,30,35,40]\n",
    "rotate_right=int(input(\"enter position to right rotate list items= \"))\n",
    "print(m1)\n",
    "\n",
    "right_rotated_list=m1[-rotate_right:]+m1[:-rotate_right]  #  right rotation (clockwise) , count from right side(backwards)\n",
    "print(\"Final list after rotating\")\n",
    "print(right_rotated_list)"
   ]
  },
  {
   "cell_type": "markdown",
   "metadata": {},
   "source": [
    "(33) Create a list of prime numbers up to 50"
   ]
  },
  {
   "cell_type": "code",
   "execution_count": 82,
   "metadata": {},
   "outputs": [],
   "source": [
    "def number(n):\n",
    "    prime=[]\n",
    "    for i in range(2,n+1):\n",
    "        for j in range(2,i):  # if the given number is divisible by any number btw this range. it is not prime.\n",
    "            if i%j==0:\n",
    "                break\n",
    "        else:\n",
    "                prime.append(i)\n",
    "    return prime"
   ]
  },
  {
   "cell_type": "code",
   "execution_count": 83,
   "metadata": {},
   "outputs": [
    {
     "name": "stdout",
     "output_type": "stream",
     "text": [
      "[2, 3, 5, 7, 11, 13, 17, 19, 23, 29, 31, 37, 41, 43, 47]\n"
     ]
    }
   ],
   "source": [
    "prime_list=number(50)\n",
    "print(prime_list)"
   ]
  },
  {
   "cell_type": "markdown",
   "metadata": {},
   "source": [
    "(34) Split a list into chunks of size `n`."
   ]
  },
  {
   "cell_type": "code",
   "execution_count": 93,
   "metadata": {},
   "outputs": [
    {
     "name": "stdout",
     "output_type": "stream",
     "text": [
      "[10, 22, 34]\n",
      "[4, 5, 68]\n",
      "[7, 88, 9]\n"
     ]
    }
   ],
   "source": [
    "my_list=[10,22,34,4,5,68,7,88,9]\n",
    "start=0\n",
    "end=len(my_list)\n",
    "step=3\n",
    "for i in range(start,end,step): # \n",
    "    x=i\n",
    "    print(my_list[x:x+step])"
   ]
  },
  {
   "cell_type": "markdown",
   "metadata": {},
   "source": [
    "(35) Find the second largest number in a list."
   ]
  },
  {
   "cell_type": "code",
   "execution_count": 10,
   "metadata": {},
   "outputs": [
    {
     "name": "stdout",
     "output_type": "stream",
     "text": [
      "second largest number in a list is:  2010\n"
     ]
    }
   ],
   "source": [
    "diary=[2000,2001,2010,1997,1956,2020,2001,2010]\n",
    "diary=list(set(diary))  # to avoid duplicate values\n",
    "diary.sort()  # sort them in ascending order\n",
    "\n",
    "print(\"second largest number in a list is: \",diary[-2])"
   ]
  },
  {
   "cell_type": "markdown",
   "metadata": {},
   "source": [
    "(36) Replace every element in a list with its square."
   ]
  },
  {
   "cell_type": "code",
   "execution_count": 36,
   "metadata": {},
   "outputs": [
    {
     "name": "stdout",
     "output_type": "stream",
     "text": [
      "[1, 16, 9, 4, 25]\n"
     ]
    }
   ],
   "source": [
    "def square_list(sq):\n",
    "    for i in sq:\n",
    "        sq[sq.index(i)]=i**2\n",
    "    print(sq)\n",
    "    \n",
    "sq=[1,2,3,4,5]\n",
    "\n",
    "square_list(sq)"
   ]
  },
  {
   "cell_type": "code",
   "execution_count": 34,
   "metadata": {},
   "outputs": [
    {
     "data": {
      "text/plain": [
       "[1, 4, 9, 16, 25]"
      ]
     },
     "execution_count": 34,
     "metadata": {},
     "output_type": "execute_result"
    }
   ],
   "source": [
    "# other way\n",
    "sq=[1,2,3,4,5]\n",
    "sq=list(map(lambda i:i**2,sq))  # lambda function- used as a single line statement\n",
    "sq"
   ]
  },
  {
   "cell_type": "markdown",
   "metadata": {},
   "source": [
    "(37) Convert a list to a dictionary where list elements become keys and their\n",
    "indices become values."
   ]
  },
  {
   "cell_type": "code",
   "execution_count": 43,
   "metadata": {},
   "outputs": [
    {
     "name": "stdout",
     "output_type": "stream",
     "text": [
      "{'carrot': 0, 'raddish': 1, 'beans': 2, 'beetroot': 3, 'cabbage': 4}\n"
     ]
    }
   ],
   "source": [
    "vegetables=[\"carrot\",\"raddish\",\"beans\",\"beetroot\",\"cabbage\"]\n",
    "\n",
    "# convert list to dictionary\n",
    "veg_dict={k:v for v,k in enumerate(vegetables)} \n",
    "                                #veg_dict=dict(enumerate(vegetables)) -- used for index as key, element as value\n",
    "print(veg_dict)"
   ]
  },
  {
   "cell_type": "raw",
   "metadata": {},
   "source": [
    "Instead of range , we can use enemurate() function. It allows us to iterate through a sequence but it keeps track of both the index and the element. The function takes in an iterable as an argument such as list, tuple, string, set,dictionary."
   ]
  },
  {
   "cell_type": "code",
   "execution_count": 44,
   "metadata": {},
   "outputs": [
    {
     "data": {
      "text/plain": [
       "{'carrot': 0, 'raddish': 1, 'beans': 2, 'beetroot': 3, 'cabbage': 4}"
      ]
     },
     "execution_count": 44,
     "metadata": {},
     "output_type": "execute_result"
    }
   ],
   "source": [
    "# Using range:\n",
    "\n",
    "vegetables=[\"carrot\",\"raddish\",\"beans\",\"beetroot\",\"cabbage\"]\n",
    "m_dict={vegetables[i]:i for i in range(0,len(vegetables))}    # mentioned how key and value must be formed\n",
    "m_dict"
   ]
  },
  {
   "cell_type": "markdown",
   "metadata": {},
   "source": [
    "(38) Shuffle the elements of a list randomly"
   ]
  },
  {
   "cell_type": "code",
   "execution_count": 48,
   "metadata": {},
   "outputs": [
    {
     "name": "stdout",
     "output_type": "stream",
     "text": [
      "Input list: ['apple', 'banana', 'cucumber', 'dragonfruit']\n",
      "shuffled list: ['cucumber', 'apple', 'banana', 'dragonfruit']\n"
     ]
    }
   ],
   "source": [
    "import random\n",
    "\n",
    "f=[\"apple\",\"banana\",\"cucumber\",\"dragonfruit\"]\n",
    "print(\"Input list:\",f)\n",
    "      \n",
    "random.shuffle(f)      \n",
    "print(\"shuffled list:\",f)"
   ]
  },
  {
   "cell_type": "raw",
   "metadata": {},
   "source": [
    "Imort random and Use random.shuffle() function to shuffle all the elements randomly within the list."
   ]
  },
  {
   "cell_type": "markdown",
   "metadata": {},
   "source": [
    "(39) Create a list of the first 10 factorial numbers."
   ]
  },
  {
   "cell_type": "code",
   "execution_count": 2,
   "metadata": {},
   "outputs": [],
   "source": [
    "def factorial(x):\n",
    "    if x==1:\n",
    "        return 1\n",
    "    else:\n",
    "        return (x*factorial(x-1))\n",
    "    "
   ]
  },
  {
   "cell_type": "code",
   "execution_count": 3,
   "metadata": {},
   "outputs": [
    {
     "name": "stdout",
     "output_type": "stream",
     "text": [
      "the factorial of 7 is 5040\n"
     ]
    }
   ],
   "source": [
    "x=7\n",
    "print(\"the factorial of\",x,\"is\",factorial(x))"
   ]
  },
  {
   "cell_type": "markdown",
   "metadata": {},
   "source": [
    "(40) Check if two lists have at least one element in common."
   ]
  },
  {
   "cell_type": "code",
   "execution_count": 7,
   "metadata": {},
   "outputs": [
    {
     "name": "stdout",
     "output_type": "stream",
     "text": [
      "Yes, there is a Common element\n"
     ]
    }
   ],
   "source": [
    "l1=[1,2,3,4,5]\n",
    "l2=[4,5,6,7,8]\n",
    "flag=0\n",
    "for i in l2:\n",
    "    if i in l1:\n",
    "        flag=1\n",
    "if flag==1:\n",
    "    print(\"Yes, there is a Common element\")\n",
    "else:\n",
    "    print(\"No common element\")"
   ]
  },
  {
   "cell_type": "markdown",
   "metadata": {},
   "source": [
    "(41) Remove all elements from a list"
   ]
  },
  {
   "cell_type": "code",
   "execution_count": 11,
   "metadata": {},
   "outputs": [
    {
     "name": "stdout",
     "output_type": "stream",
     "text": [
      "[]\n"
     ]
    }
   ],
   "source": [
    "d=[54,46,78,32,56]\n",
    "d[:]=[]    # slice assignment has been used. can aslo use clear()\n",
    "print(d)"
   ]
  },
  {
   "cell_type": "markdown",
   "metadata": {},
   "source": [
    "(42) Replace negative numbers in a list with 0."
   ]
  },
  {
   "cell_type": "code",
   "execution_count": 16,
   "metadata": {},
   "outputs": [
    {
     "name": "stdout",
     "output_type": "stream",
     "text": [
      "Original list: [1, -2, 3, 10, 15, -6, 20]\n",
      "replaced_list: [1, 0, 3, 10, 15, 0, 20]\n"
     ]
    }
   ],
   "source": [
    "list_1=[1,-2,3,10,15,-6,20]\n",
    "print(\"Original list:\",list_1)\n",
    "for i in range(0,len(list_1)):\n",
    "    if list_1[i]<0:\n",
    "        list_1[i]=0\n",
    "        \n",
    "print(\"replaced_list:\",list_1)"
   ]
  },
  {
   "cell_type": "raw",
   "metadata": {},
   "source": [
    "one line equation:\n",
    "list_1=[1,-2,3,10,15,-6,20]\n",
    "replaced_list=[0 if i<0 else i for i in list_1]"
   ]
  },
  {
   "cell_type": "markdown",
   "metadata": {},
   "source": [
    "(43) Convert a string into a list of words."
   ]
  },
  {
   "cell_type": "code",
   "execution_count": 22,
   "metadata": {},
   "outputs": [
    {
     "data": {
      "text/plain": [
       "['Trust', 'the', 'timing', 'and', 'work', 'on', 'the', 'process']"
      ]
     },
     "execution_count": 22,
     "metadata": {},
     "output_type": "execute_result"
    }
   ],
   "source": [
    "given_string=\"Trust the timing and work on the process\"\n",
    "list=given_string.split()\n",
    "list"
   ]
  },
  {
   "cell_type": "markdown",
   "metadata": {},
   "source": [
    "(44) Convert a list of words into a string."
   ]
  },
  {
   "cell_type": "code",
   "execution_count": 23,
   "metadata": {},
   "outputs": [
    {
     "data": {
      "text/plain": [
       "'i love my life'"
      ]
     },
     "execution_count": 23,
     "metadata": {},
     "output_type": "execute_result"
    }
   ],
   "source": [
    "given_list=[\"i\",\"love\",\"my\",\"life\"]\n",
    "string=\" \".join(given_list)\n",
    "string"
   ]
  },
  {
   "cell_type": "markdown",
   "metadata": {},
   "source": [
    "(45) Create a list of the first `n` powers of 2."
   ]
  },
  {
   "cell_type": "code",
   "execution_count": 6,
   "metadata": {},
   "outputs": [],
   "source": [
    "def problem(n):\n",
    "    power=n\n",
    "    p_list=[]\n",
    "    for i in range(1,n+1):\n",
    "        number=i**2   ## power of 2. \n",
    "        p_list.append(number)\n",
    "    return p_list"
   ]
  },
  {
   "cell_type": "code",
   "execution_count": 7,
   "metadata": {},
   "outputs": [
    {
     "data": {
      "text/plain": [
       "[1, 4, 9, 16, 25]"
      ]
     },
     "execution_count": 7,
     "metadata": {},
     "output_type": "execute_result"
    }
   ],
   "source": [
    "problem(5)"
   ]
  },
  {
   "cell_type": "markdown",
   "metadata": {},
   "source": [
    "(46) Find the longest string in a list of strings."
   ]
  },
  {
   "cell_type": "code",
   "execution_count": 50,
   "metadata": {},
   "outputs": [
    {
     "name": "stdout",
     "output_type": "stream",
     "text": [
      "The original string: ['Trust', 'the', 'process']\n",
      "longest string: process\n"
     ]
    }
   ],
   "source": [
    "given_list_of_string=[\"Trust\",\"the\",\"process\"]\n",
    "print(\"The original string:\",given_list_of_string)\n",
    "\n",
    "r=max(given_list_of_string,key=len)\n",
    "print(\"longest string:\",r)"
   ]
  },
  {
   "cell_type": "markdown",
   "metadata": {},
   "source": [
    "(47) Find the shortest string in a list of strings."
   ]
  },
  {
   "cell_type": "code",
   "execution_count": 52,
   "metadata": {},
   "outputs": [
    {
     "name": "stdout",
     "output_type": "stream",
     "text": [
      "The original string: ['Trust', 'the', 'process']\n",
      "shortest string: the\n"
     ]
    }
   ],
   "source": [
    "given_list_of_string=[\"Trust\",\"the\",\"process\"]\n",
    "print(\"The original string:\",given_list_of_string)\n",
    "\n",
    "r1=min(given_list_of_string,key=len)\n",
    "print(\"shortest string:\",r1)"
   ]
  },
  {
   "cell_type": "markdown",
   "metadata": {},
   "source": [
    "(48) Create a list of the first `n` triangular numbers."
   ]
  },
  {
   "cell_type": "code",
   "execution_count": 37,
   "metadata": {},
   "outputs": [],
   "source": [
    " def triangular_series(n):\n",
    "    triangular_number=[]\n",
    "    # for each iteration increase j by 1 and add it into k\n",
    "    for i in range(1,n+1):\n",
    "            triangular_formula= i * (i + 1) // 2 \n",
    "            triangular_number.append(triangular_formula)\n",
    "    return triangular_number\n",
    "        "
   ]
  },
  {
   "cell_type": "code",
   "execution_count": 38,
   "metadata": {},
   "outputs": [
    {
     "data": {
      "text/plain": [
       "[1, 3, 6, 10, 15]"
      ]
     },
     "execution_count": 38,
     "metadata": {},
     "output_type": "execute_result"
    }
   ],
   "source": [
    "n=5\n",
    "triangular_series(n)"
   ]
  },
  {
   "cell_type": "raw",
   "metadata": {},
   "source": [
    "The triangular number sequence is the number of forms equilateral triangle arranged in series of sequence.\n",
    "(n(n+1))/2 = formula . (the seq obtained form this formula)"
   ]
  },
  {
   "cell_type": "markdown",
   "metadata": {},
   "source": [
    "(49) Check if a list contains another list as a subsequence."
   ]
  },
  {
   "cell_type": "code",
   "execution_count": 76,
   "metadata": {},
   "outputs": [
    {
     "name": "stdout",
     "output_type": "stream",
     "text": [
      "Yes,list is subsest of other\n"
     ]
    }
   ],
   "source": [
    "test_list=[9,4,5,8,10]\n",
    "sub_list=[10,5]\n",
    "flag=0\n",
    "if(set(sub_list).issubset(set(test_list))):\n",
    "    flag=1\n",
    "\n",
    "if (flag==1):\n",
    "    print(\"Yes,list is subsest of other\")\n",
    "else:\n",
    "    print(\"No,it is not a subset\")"
   ]
  },
  {
   "cell_type": "markdown",
   "metadata": {},
   "source": [
    "(50) Swap two elements in a list by their indices."
   ]
  },
  {
   "cell_type": "code",
   "execution_count": 67,
   "metadata": {},
   "outputs": [
    {
     "name": "stdout",
     "output_type": "stream",
     "text": [
      "original list: [9, 11, 5, 3, 6, 27, 40]\n",
      "swapped list: [9, 3, 5, 11, 6, 27, 40]\n"
     ]
    }
   ],
   "source": [
    "s=[9,11,5,3,6,27,40]\n",
    "print(\"original list:\",s)\n",
    "\n",
    "s[1],s[3]=s[3],s[1]   # element in index 1 and 3 has been swapped\n",
    "print(\"swapped list:\",s)"
   ]
  },
  {
   "cell_type": "markdown",
   "metadata": {},
   "source": [
    "# Tuple based practice problems:"
   ]
  },
  {
   "cell_type": "markdown",
   "metadata": {},
   "source": [
    "(1) Create a tuple with integers from 1 to 5."
   ]
  },
  {
   "cell_type": "code",
   "execution_count": 87,
   "metadata": {},
   "outputs": [
    {
     "data": {
      "text/plain": [
       "(1, 2, 3, 4, 5)"
      ]
     },
     "execution_count": 87,
     "metadata": {},
     "output_type": "execute_result"
    }
   ],
   "source": [
    "a=range(1,6)\n",
    "a=tuple(a)\n",
    "a"
   ]
  },
  {
   "cell_type": "code",
   "execution_count": 88,
   "metadata": {},
   "outputs": [
    {
     "data": {
      "text/plain": [
       "tuple"
      ]
     },
     "execution_count": 88,
     "metadata": {},
     "output_type": "execute_result"
    }
   ],
   "source": [
    "type(a)"
   ]
  },
  {
   "cell_type": "markdown",
   "metadata": {},
   "source": [
    "(2)  Access the third element of a tuple."
   ]
  },
  {
   "cell_type": "code",
   "execution_count": 6,
   "metadata": {},
   "outputs": [
    {
     "data": {
      "text/plain": [
       "40"
      ]
     },
     "execution_count": 6,
     "metadata": {},
     "output_type": "execute_result"
    }
   ],
   "source": [
    "t=(10,20,30,40,50)\n",
    "t=t[3]\n",
    "t"
   ]
  },
  {
   "cell_type": "markdown",
   "metadata": {},
   "source": [
    "(3) Find the length of a tuple without using the `len()` function."
   ]
  },
  {
   "cell_type": "code",
   "execution_count": 8,
   "metadata": {},
   "outputs": [
    {
     "name": "stdout",
     "output_type": "stream",
     "text": [
      "The length of tuple t1 is: 8\n"
     ]
    }
   ],
   "source": [
    "count=0\n",
    "t1=(5,10,15,20,25,30,35,40)\n",
    "for i in t1:\n",
    "    count=count+1\n",
    "print(\"The length of tuple t1 is:\",count)"
   ]
  },
  {
   "cell_type": "markdown",
   "metadata": {},
   "source": [
    "(4) Count the occurrences of an element in a tuple."
   ]
  },
  {
   "cell_type": "code",
   "execution_count": 9,
   "metadata": {},
   "outputs": [
    {
     "name": "stdout",
     "output_type": "stream",
     "text": [
      "The element 10 occurs 3 times\n"
     ]
    }
   ],
   "source": [
    "t2=(10,20,30,10,25,35,10,25,30)\n",
    "x=[i for t2,i in enumerate(t2) if i==10]\n",
    "print(\"The element 10 occurs\",len(x),\"times\")"
   ]
  },
  {
   "cell_type": "markdown",
   "metadata": {},
   "source": [
    "(5)  Find the index of the first occurrence of an element in a tuple."
   ]
  },
  {
   "cell_type": "code",
   "execution_count": 10,
   "metadata": {},
   "outputs": [
    {
     "data": {
      "text/plain": [
       "0"
      ]
     },
     "execution_count": 10,
     "metadata": {},
     "output_type": "execute_result"
    }
   ],
   "source": [
    "t2=(10,20,30,10,25,35,10,25,30)\n",
    "t2.index(10)"
   ]
  },
  {
   "cell_type": "markdown",
   "metadata": {},
   "source": [
    "(6) Check if an element exists in a tuple."
   ]
  },
  {
   "cell_type": "code",
   "execution_count": 11,
   "metadata": {},
   "outputs": [
    {
     "name": "stdout",
     "output_type": "stream",
     "text": [
      "50  exist in the tuple\n"
     ]
    }
   ],
   "source": [
    "w=(\"hey\",1,50,25,100)\n",
    "\n",
    "# define a value for i\n",
    "i=50 \n",
    "\n",
    "if i in w:\n",
    "    print(i,\" exist in the tuple\")\n",
    "else:\n",
    "    print(i,\" does not exist in the tuple\")"
   ]
  },
  {
   "cell_type": "markdown",
   "metadata": {},
   "source": [
    "(7) Convert a tuple to a list."
   ]
  },
  {
   "cell_type": "code",
   "execution_count": 15,
   "metadata": {},
   "outputs": [
    {
     "data": {
      "text/plain": [
       "[1, 2, 3, 6, 7, 8]"
      ]
     },
     "execution_count": 15,
     "metadata": {},
     "output_type": "execute_result"
    }
   ],
   "source": [
    "tup=(1,2,3,6,7,8)\n",
    "l=list(tup)\n",
    "l"
   ]
  },
  {
   "cell_type": "markdown",
   "metadata": {},
   "source": [
    "(8)  Convert a list to a tuple"
   ]
  },
  {
   "cell_type": "code",
   "execution_count": 14,
   "metadata": {},
   "outputs": [
    {
     "data": {
      "text/plain": [
       "(20, 30, 40, 50)"
      ]
     },
     "execution_count": 14,
     "metadata": {},
     "output_type": "execute_result"
    }
   ],
   "source": [
    "lt=[20,30,40,50]\n",
    "t=tuple(lt)\n",
    "t"
   ]
  },
  {
   "cell_type": "markdown",
   "metadata": {},
   "source": [
    "(9) Unpack the elements of a tuple into variables."
   ]
  },
  {
   "cell_type": "code",
   "execution_count": 20,
   "metadata": {},
   "outputs": [
    {
     "name": "stdout",
     "output_type": "stream",
     "text": [
      "IIT Chennai\n",
      "40000\n",
      "Engineering\n"
     ]
    }
   ],
   "source": [
    "# this lines PACKS values into variable a\n",
    "a=(\"IIT Chennai\",40000,\"Engineering\")\n",
    "\n",
    "# this lines UNPACKS values into variable a\n",
    "(college,fee,type_ofcollege)=a\n",
    "\n",
    "print(college)\n",
    "print(fee)\n",
    "print(type_ofcollege)"
   ]
  },
  {
   "cell_type": "raw",
   "metadata": {},
   "source": [
    "NOTE: A very powerful tuple assignment feature that assigns the right-hand side of values into the left-hand side.It is call unpackinig of a tuple of values into variables. The number of variables on left side should be equal to number of values given in a tuple.\n",
    "In packing, we put values into new tuple. In unpacking,we extract those values into a single variable.\n"
   ]
  },
  {
   "cell_type": "markdown",
   "metadata": {},
   "source": [
    "(10) Create a tuple of even numbers from 1 to 10."
   ]
  },
  {
   "cell_type": "code",
   "execution_count": 2,
   "metadata": {},
   "outputs": [
    {
     "name": "stdout",
     "output_type": "stream",
     "text": [
      "Tuple of number 1 to 10:  (1, 2, 3, 4, 5, 6, 7, 8, 9, 10)\n",
      "the even numbers are: 0\n",
      "the even numbers are: 2\n",
      "the even numbers are: 4\n",
      "the even numbers are: 6\n",
      "the even numbers are: 8\n",
      "the even numbers are: 10\n"
     ]
    }
   ],
   "source": [
    "n=range(1,11)\n",
    "n=tuple(n)\n",
    "print(\"Tuple of number 1 to 10: \",n)\n",
    "for i in range(0,11):\n",
    "    if i%2==0:\n",
    "        print(\"the even numbers are:\",i)"
   ]
  },
  {
   "cell_type": "markdown",
   "metadata": {},
   "source": [
    "(11) Create a tuple of odd numbers from 1 to 10"
   ]
  },
  {
   "cell_type": "code",
   "execution_count": 4,
   "metadata": {},
   "outputs": [
    {
     "name": "stdout",
     "output_type": "stream",
     "text": [
      "Tuple of number 1 to 10:  (1, 2, 3, 4, 5, 6, 7, 8, 9, 10)\n",
      "the odd numbers are: 1\n",
      "the odd numbers are: 3\n",
      "the odd numbers are: 5\n",
      "the odd numbers are: 7\n",
      "the odd numbers are: 9\n"
     ]
    }
   ],
   "source": [
    "o=range(1,11)\n",
    "o=tuple(o)\n",
    "print(\"Tuple of number 1 to 10: \",o)\n",
    "\n",
    "for i in range(0,11):\n",
    "    if i%2!=0:\n",
    "        print(\"the odd numbers are:\",i)"
   ]
  },
  {
   "cell_type": "markdown",
   "metadata": {},
   "source": [
    "(12) Concatenate two tuples."
   ]
  },
  {
   "cell_type": "code",
   "execution_count": 7,
   "metadata": {},
   "outputs": [
    {
     "name": "stdout",
     "output_type": "stream",
     "text": [
      "the original tuple 1:  (1, 2, 3, 4, 5)\n",
      "the original tuple 2:  (6, 7, 8, 9, 10)\n",
      "tuple after concatenation: (1, 2, 3, 4, 5, 6, 7, 8, 9, 10)\n"
     ]
    }
   ],
   "source": [
    "t1=(1,2,3,4,5)\n",
    "t2=(6,7,8,9,10)\n",
    "print(\"the original tuple 1: \",t1)\n",
    "print(\"the original tuple 2: \",t2)\n",
    "t=t1+t2\n",
    "print(\"tuple after concatenation:\",t)"
   ]
  },
  {
   "cell_type": "markdown",
   "metadata": {},
   "source": [
    "(13)  Repeat a tuple three times"
   ]
  },
  {
   "cell_type": "code",
   "execution_count": 9,
   "metadata": {},
   "outputs": [
    {
     "name": "stdout",
     "output_type": "stream",
     "text": [
      "(35, 45, 55, 65, 75, 200, 100, 35, 45, 55, 65, 75, 200, 100, 35, 45, 55, 65, 75, 200, 100)\n"
     ]
    }
   ],
   "source": [
    "res=(35,45,55,65,75,200,100)\n",
    "repeat_tuple= res*3\n",
    "print(repeat_tuple)"
   ]
  },
  {
   "cell_type": "markdown",
   "metadata": {},
   "source": [
    "(14) Check if a tuple is empty."
   ]
  },
  {
   "cell_type": "code",
   "execution_count": 12,
   "metadata": {},
   "outputs": [
    {
     "name": "stdout",
     "output_type": "stream",
     "text": [
      "tuple is empty\n"
     ]
    }
   ],
   "source": [
    "tuples=()\n",
    "if len(tuples)==0:\n",
    "    print(\"tuple is empty\")\n",
    "else:\n",
    "    print(\"tuple is not empty\")"
   ]
  },
  {
   "cell_type": "markdown",
   "metadata": {},
   "source": [
    "(15)  Create a nested tuple."
   ]
  },
  {
   "cell_type": "code",
   "execution_count": 15,
   "metadata": {},
   "outputs": [
    {
     "data": {
      "text/plain": [
       "((100, 'Varun', 9000), (20, 'Nihaarika', 5500), (30, 'vanjana', 89000))"
      ]
     },
     "execution_count": 15,
     "metadata": {},
     "output_type": "execute_result"
    }
   ],
   "source": [
    "emp=((100,\"Varun\",9000),(20,\"Nihaarika\",5500),(30,\"vanjana\",89000))\n",
    "emp"
   ]
  },
  {
   "cell_type": "code",
   "execution_count": 16,
   "metadata": {},
   "outputs": [
    {
     "data": {
      "text/plain": [
       "tuple"
      ]
     },
     "execution_count": 16,
     "metadata": {},
     "output_type": "execute_result"
    }
   ],
   "source": [
    "type(emp)"
   ]
  },
  {
   "cell_type": "raw",
   "metadata": {},
   "source": [
    "A tuple inside another tuple is called nested tuple. (We can't insert a tuple as done in list)"
   ]
  },
  {
   "cell_type": "markdown",
   "metadata": {},
   "source": [
    "(16) Access the first element of a nested tuple."
   ]
  },
  {
   "cell_type": "code",
   "execution_count": 5,
   "metadata": {},
   "outputs": [],
   "source": [
    "def extract(emp):\n",
    "    return[item[0] for item in emp]  # first element-- item[0]\n",
    "    "
   ]
  },
  {
   "cell_type": "code",
   "execution_count": 6,
   "metadata": {},
   "outputs": [
    {
     "name": "stdout",
     "output_type": "stream",
     "text": [
      "[100, 20, 30]\n"
     ]
    }
   ],
   "source": [
    "emp=((100,\"Varun\",9000),(20,\"Nihaarika\",5500),(30,\"vanjana\",89000))\n",
    "print(extract(emp))\n"
   ]
  },
  {
   "cell_type": "markdown",
   "metadata": {},
   "source": [
    "(17)  Create a tuple with a single element.\n"
   ]
  },
  {
   "cell_type": "code",
   "execution_count": 7,
   "metadata": {},
   "outputs": [
    {
     "data": {
      "text/plain": [
       "tuple"
      ]
     },
     "execution_count": 7,
     "metadata": {},
     "output_type": "execute_result"
    }
   ],
   "source": [
    "a=(1,)\n",
    "type(a)"
   ]
  },
  {
   "cell_type": "markdown",
   "metadata": {},
   "source": [
    "(18) Compare two tuples."
   ]
  },
  {
   "cell_type": "code",
   "execution_count": 9,
   "metadata": {},
   "outputs": [
    {
     "name": "stdout",
     "output_type": "stream",
     "text": [
      "True\n",
      "False\n",
      "False\n"
     ]
    }
   ],
   "source": [
    "d1=(11,22,33,44,55)\n",
    "d2=(44,55,66,77,88)\n",
    "print(d1<d2)\n",
    "print(d1>d2)\n",
    "print(d1==d2)"
   ]
  },
  {
   "cell_type": "markdown",
   "metadata": {},
   "source": [
    "(19) Delete a tuple."
   ]
  },
  {
   "cell_type": "code",
   "execution_count": 27,
   "metadata": {},
   "outputs": [
    {
     "name": "stdout",
     "output_type": "stream",
     "text": [
      "before deleting: (11, 22, 33, 44, 55, 66, 77)\n",
      "After deleting tuple: \n"
     ]
    }
   ],
   "source": [
    "d2=(11,22,33,44,55,66,77)\n",
    "print(\"before deleting:\",d2)\n",
    "del d2\n",
    "\n",
    "print(\"After deleting tuple: \")\n",
    "\n",
    "\n"
   ]
  },
  {
   "cell_type": "markdown",
   "metadata": {},
   "source": [
    "(20) Slice a tuple"
   ]
  },
  {
   "cell_type": "code",
   "execution_count": 28,
   "metadata": {},
   "outputs": [
    {
     "data": {
      "text/plain": [
       "'lilly'"
      ]
     },
     "execution_count": 28,
     "metadata": {},
     "output_type": "execute_result"
    }
   ],
   "source": [
    "flowers=(\"jasmine\",\"rose\",\"lilly\",\"lotus\")\n",
    "flowers[2]"
   ]
  },
  {
   "cell_type": "code",
   "execution_count": 33,
   "metadata": {},
   "outputs": [
    {
     "data": {
      "text/plain": [
       "('rose', 'lilly')"
      ]
     },
     "execution_count": 33,
     "metadata": {},
     "output_type": "execute_result"
    }
   ],
   "source": [
    "flowers[1:3]"
   ]
  },
  {
   "cell_type": "markdown",
   "metadata": {},
   "source": [
    "(21) Find the maximum value in a tuple."
   ]
  },
  {
   "cell_type": "code",
   "execution_count": 35,
   "metadata": {},
   "outputs": [
    {
     "name": "stdout",
     "output_type": "stream",
     "text": [
      "Maximum of marks:  99\n"
     ]
    }
   ],
   "source": [
    "marks=(45,32,99,87,12)\n",
    "marks=max(marks)\n",
    "print(\"Maximum of marks: \",marks)"
   ]
  },
  {
   "cell_type": "markdown",
   "metadata": {},
   "source": [
    "(22) Find the minimum value in a tuple"
   ]
  },
  {
   "cell_type": "code",
   "execution_count": 41,
   "metadata": {},
   "outputs": [
    {
     "name": "stdout",
     "output_type": "stream",
     "text": [
      "Minimum of marks:  12\n"
     ]
    }
   ],
   "source": [
    "marks=(45,32,99,87,12)\n",
    "marks=min(marks)\n",
    "print(\"Minimum of marks: \",marks)"
   ]
  },
  {
   "cell_type": "markdown",
   "metadata": {},
   "source": [
    "(23) Convert a string to a tuple of characters."
   ]
  },
  {
   "cell_type": "code",
   "execution_count": 10,
   "metadata": {},
   "outputs": [
    {
     "data": {
      "text/plain": [
       "('work', 'while', 'they', 'sleep')"
      ]
     },
     "execution_count": 10,
     "metadata": {},
     "output_type": "execute_result"
    }
   ],
   "source": [
    "given_string=\"work while they sleep\"\n",
    "\n",
    "my_tuple=tuple(given_string.split())             \n",
    "my_tuple"
   ]
  },
  {
   "cell_type": "markdown",
   "metadata": {},
   "source": [
    "(24) Convert a tuple of characters to a string."
   ]
  },
  {
   "cell_type": "code",
   "execution_count": 11,
   "metadata": {},
   "outputs": [
    {
     "data": {
      "text/plain": [
       "'make hay while the sun shine'"
      ]
     },
     "execution_count": 11,
     "metadata": {},
     "output_type": "execute_result"
    }
   ],
   "source": [
    "given_tuple=('make','hay','while','the','sun','shine')\n",
    "to_string=\" \".join(given_tuple)\n",
    "to_string"
   ]
  },
  {
   "cell_type": "markdown",
   "metadata": {},
   "source": [
    "(25)  Create a tuple from multiple data types."
   ]
  },
  {
   "cell_type": "code",
   "execution_count": 12,
   "metadata": {},
   "outputs": [
    {
     "name": "stdout",
     "output_type": "stream",
     "text": [
      "('hi', 34, 3.0, False)\n"
     ]
    }
   ],
   "source": [
    "tuple_types=(\"hi\",34,3.0,False)\n",
    "print(tuple_types)"
   ]
  },
  {
   "cell_type": "markdown",
   "metadata": {},
   "source": [
    "(26)  Check if two tuples are identical."
   ]
  },
  {
   "cell_type": "code",
   "execution_count": 16,
   "metadata": {},
   "outputs": [
    {
     "name": "stdout",
     "output_type": "stream",
     "text": [
      "The two tuples are identical\n"
     ]
    }
   ],
   "source": [
    "mixed_types_1=(\"hey\",12,345,4.9,True)\n",
    "mixed_types_2=(\"hey\",12,345,4.9,True)\n",
    "if (mixed_types_1==mixed_types_2):\n",
    "    print(\"The two tuples are identical\")\n",
    "else:\n",
    "    print(\"The two tuples are not identical\")"
   ]
  },
  {
   "cell_type": "markdown",
   "metadata": {},
   "source": [
    "(27) Sort the elements of a tuple."
   ]
  },
  {
   "cell_type": "code",
   "execution_count": 27,
   "metadata": {},
   "outputs": [
    {
     "name": "stdout",
     "output_type": "stream",
     "text": [
      "sort the element of a tuple: [23, 25, 45, 72, 76, 99]\n"
     ]
    }
   ],
   "source": [
    "ele=(99,72,23,25,76,45)\n",
    "sorted_tuple=sorted(ele)\n",
    "print(\"sort the element of a tuple:\",sorted_tuple)\n"
   ]
  },
  {
   "cell_type": "markdown",
   "metadata": {},
   "source": [
    "(28) Convert a tuple of integers to a tuple of strings."
   ]
  },
  {
   "cell_type": "code",
   "execution_count": 6,
   "metadata": {},
   "outputs": [
    {
     "name": "stdout",
     "output_type": "stream",
     "text": [
      "The tuple of integer: (10, 20, 30, 40, 50)\n",
      "tuple to string:  ('10', '20', '30', '40', '50')\n"
     ]
    }
   ],
   "source": [
    "# original tuple\n",
    "tuple_integer=(10,20,30,40,50)\n",
    "print(\"The tuple of integer:\",tuple_integer)\n",
    "\n",
    "# using map() to perform conversion\n",
    "string_tuple=tuple(map(str,tuple_integer)) \n",
    "\n",
    "# modified tuple\n",
    "print(\"tuple to string: \",string_tuple)"
   ]
  },
  {
   "cell_type": "raw",
   "metadata": {},
   "source": [
    "the map() function executes a specified function for each item in an iteration(lisst,tuple,set)\n",
    "syntax: map(function,iteration)"
   ]
  },
  {
   "cell_type": "markdown",
   "metadata": {},
   "source": [
    "(29) Convert a tuple of strings to a tuple of integers"
   ]
  },
  {
   "cell_type": "code",
   "execution_count": 4,
   "metadata": {},
   "outputs": [
    {
     "name": "stdout",
     "output_type": "stream",
     "text": [
      "The tuple of string: ('1', '4', '3', '6', '7')\n",
      "tuple to integer:  (1, 4, 3, 6, 7)\n"
     ]
    }
   ],
   "source": [
    "# original tuple\n",
    "test_tuple=(\"1\",\"4\",\"3\",\"6\",\"7\")\n",
    "print(\"The tuple of string:\",test_tuple)\n",
    "\n",
    "# using map() to perform conversion\n",
    "numeric_tuple=tuple(map(int,test_tuple)) \n",
    "\n",
    "# modified tuple\n",
    "print(\"tuple to integer: \",numeric_tuple)"
   ]
  },
  {
   "cell_type": "markdown",
   "metadata": {},
   "source": [
    "(30) Merge two tuples."
   ]
  },
  {
   "cell_type": "code",
   "execution_count": 9,
   "metadata": {},
   "outputs": [
    {
     "name": "stdout",
     "output_type": "stream",
     "text": [
      "The first tuple: (10, 20, 30)\n",
      "the second tuple: ('a', 'b', 'c')\n",
      "merged tuple: (10, 20, 30, 'a', 'b', 'c')\n"
     ]
    }
   ],
   "source": [
    "A=(10,20,30)\n",
    "B=(\"a\",\"b\",\"c\")\n",
    "print(\"The first tuple:\",A)\n",
    "print(\"the second tuple:\",B)\n",
    "C=A+B\n",
    "print(\"merged tuple:\",C)"
   ]
  },
  {
   "cell_type": "raw",
   "metadata": {},
   "source": [
    "Can also type change tuple to list. And perform extend function.\n",
    "listA.extend(listB)"
   ]
  },
  {
   "cell_type": "markdown",
   "metadata": {},
   "source": [
    "(31) Flatten a nested tuple."
   ]
  },
  {
   "cell_type": "code",
   "execution_count": 7,
   "metadata": {},
   "outputs": [
    {
     "name": "stdout",
     "output_type": "stream",
     "text": [
      "nested tuple: (((4, 5), (4, 7), (8, 9), (10, 11)), ((9, 10), (3, 4)))\n",
      "the flattened tuple: ((4, 5), (4, 7), (8, 9), (10, 11), (9, 10), (3, 4))\n"
     ]
    }
   ],
   "source": [
    "\n",
    "import itertools\n",
    "\n",
    "# initializing tuple\n",
    "test_tuple=((4,5),(4,7),(8,9),(10,11)),(((9,10),(3,4)))\n",
    "\n",
    "print(\"nested tuple:\",test_tuple)\n",
    "\n",
    "# Flatten nested tuples using itertools.chain.form_iterable()\n",
    "res=tuple(itertools.chain.from_iterable(test_tuple))\n",
    "\n",
    "print(\"the flattened tuple:\",res)"
   ]
  },
  {
   "cell_type": "raw",
   "metadata": {},
   "source": [
    "itertools.chain.from_iterable() method to flatten the nested tuple. "
   ]
  },
  {
   "cell_type": "markdown",
   "metadata": {},
   "source": [
    "(32) Create a tuple of the first 5 prime numbers"
   ]
  },
  {
   "cell_type": "code",
   "execution_count": 93,
   "metadata": {},
   "outputs": [],
   "source": [
    "def number(n):\n",
    "    prime=[]\n",
    "    for i in range(2,n+1):\n",
    "        for j in range(2,i):  # if the given number is divisible by any number btw this range. it is not prime.\n",
    "            if i%j==0:\n",
    "                break\n",
    "        else:\n",
    "                prime.append(i)\n",
    "    return prime\n",
    "\n"
   ]
  },
  {
   "cell_type": "code",
   "execution_count": 100,
   "metadata": {},
   "outputs": [
    {
     "name": "stdout",
     "output_type": "stream",
     "text": [
      "(2, 3, 5, 7, 11)\n"
     ]
    }
   ],
   "source": [
    "\n",
    "prime_tuple=number(11)\n",
    "print(tuple(prime_tuple))"
   ]
  },
  {
   "cell_type": "markdown",
   "metadata": {},
   "source": [
    "(33) Check if a tuple is a palindrome."
   ]
  },
  {
   "cell_type": "code",
   "execution_count": 4,
   "metadata": {},
   "outputs": [
    {
     "name": "stdout",
     "output_type": "stream",
     "text": [
      "the original tuple: (1, 4, 3, 4, 1)\n",
      "this tuple is palidrome (1, 4, 3, 4, 1)\n"
     ]
    }
   ],
   "source": [
    "x=(1,4,3,4,1)\n",
    "print(\"the original tuple:\",x)\n",
    "\n",
    "# reversing the tuple\n",
    "r=x[::-1]\n",
    "\n",
    "# checking if palindrome\n",
    "if x==r:\n",
    "    print(\"this tuple is palidrome\",r)"
   ]
  },
  {
   "cell_type": "markdown",
   "metadata": {},
   "source": [
    "(34) Create a tuple of squares of numbers from 1 to 5."
   ]
  },
  {
   "cell_type": "code",
   "execution_count": 3,
   "metadata": {},
   "outputs": [
    {
     "name": "stdout",
     "output_type": "stream",
     "text": [
      "the square of numbers from 1 to 5: (1, 4, 9, 16, 25)\n"
     ]
    }
   ],
   "source": [
    "tup=()\n",
    "for i in range(1,6):\n",
    "    tup=tup +(i**2,)  # single tuple got created  to add\n",
    "    \n",
    "print(\"the square of numbers from 1 to 5:\",tup)"
   ]
  },
  {
   "cell_type": "markdown",
   "metadata": {},
   "source": [
    "(35) Filter out all even numbers from a tuple."
   ]
  },
  {
   "cell_type": "code",
   "execution_count": 36,
   "metadata": {},
   "outputs": [
    {
     "name": "stdout",
     "output_type": "stream",
     "text": [
      "tuple items: (19, 25, 32, 44, 11, 66, 98)\n",
      "even numbers 32\n",
      "even numbers 44\n",
      "even numbers 66\n",
      "even numbers 98\n"
     ]
    }
   ],
   "source": [
    "items=(19,25,32,44,11,66,98)\n",
    "print(\"tuple items:\",items)\n",
    "\n",
    "# filter even numbers from a tuple \n",
    "for i in items:\n",
    "    if(i%2==0):\n",
    "        print(\"even numbers\",i)  "
   ]
  },
  {
   "cell_type": "markdown",
   "metadata": {},
   "source": [
    "(36) Multiply all elements in a tuple by 2."
   ]
  },
  {
   "cell_type": "code",
   "execution_count": 64,
   "metadata": {},
   "outputs": [
    {
     "name": "stdout",
     "output_type": "stream",
     "text": [
      "[2, 4, 6, 8]\n"
     ]
    }
   ],
   "source": [
    "t=(1,2,3,4)\n",
    "new_t=[i*2 for i in t]\n",
    "print(new_t)"
   ]
  },
  {
   "cell_type": "markdown",
   "metadata": {},
   "source": [
    "(37) Create a tuple of random numbers."
   ]
  },
  {
   "cell_type": "code",
   "execution_count": 71,
   "metadata": {},
   "outputs": [
    {
     "name": "stdout",
     "output_type": "stream",
     "text": [
      "15\n"
     ]
    }
   ],
   "source": [
    "import random\n",
    "import numpy as np\n",
    "\n",
    "# Generate a random element\n",
    "x=np.random.randint(10,20)\n",
    "print(x)"
   ]
  },
  {
   "cell_type": "code",
   "execution_count": 72,
   "metadata": {},
   "outputs": [
    {
     "name": "stdout",
     "output_type": "stream",
     "text": [
      "(15,)\n",
      "<class 'tuple'>\n"
     ]
    }
   ],
   "source": [
    "# generate tuple through array\n",
    "z=np.array([x])\n",
    "Tuple_1=tuple(z)\n",
    "print(Tuple_1)\n",
    "print(type(Tuple_1))"
   ]
  },
  {
   "cell_type": "markdown",
   "metadata": {},
   "source": [
    "import random - to generate random elements.\n",
    "After an element is generated. Meanwhile, integer values can't directly be used to generate a tuple . so, change the integer value to an array type as tuple can be generated through an array."
   ]
  },
  {
   "cell_type": "markdown",
   "metadata": {},
   "source": [
    "(38)  Check if a tuple is sorted."
   ]
  },
  {
   "cell_type": "code",
   "execution_count": 76,
   "metadata": {},
   "outputs": [
    {
     "name": "stdout",
     "output_type": "stream",
     "text": [
      "True\n"
     ]
    }
   ],
   "source": [
    "d=(1,2,10,20)\n",
    "# check if tuple is sorted\n",
    "print(d==tuple(sorted(d)))"
   ]
  },
  {
   "cell_type": "markdown",
   "metadata": {},
   "source": [
    "(39) Rotate a tuple to the left by `n` positions."
   ]
  },
  {
   "cell_type": "code",
   "execution_count": 88,
   "metadata": {},
   "outputs": [
    {
     "name": "stdout",
     "output_type": "stream",
     "text": [
      "enter position to left rotate tuple items= 4\n",
      "(9, 8, 7, 6, 5, 4)\n",
      "Final tuple after rotating\n",
      "(5, 4, 9, 8, 7, 6)\n"
     ]
    }
   ],
   "source": [
    "n=(9,8,7,6,5,4)\n",
    "rotate_left=int(input(\"enter position to left rotate tuple items= \"))\n",
    "print(n)\n",
    "\n",
    "left_rotated_tuple=n[rotate_left:] + n[:rotate_left] # begin from left\n",
    "print(\"Final tuple after rotating\")\n",
    "print(left_rotated_tuple)"
   ]
  },
  {
   "cell_type": "markdown",
   "metadata": {},
   "source": [
    "(40) Rotate a tuple to the right by n positions."
   ]
  },
  {
   "cell_type": "code",
   "execution_count": 89,
   "metadata": {},
   "outputs": [
    {
     "name": "stdout",
     "output_type": "stream",
     "text": [
      "enter position to right rotate tuple items= 3\n",
      "(9, 8, 7, 6, 5, 4)\n",
      "Final tuple after rotating\n",
      "(6, 5, 4, 9, 8, 7)\n"
     ]
    }
   ],
   "source": [
    "n=(9,8,7,6,5,4)\n",
    "rotate_right=int(input(\"enter position to right rotate tuple items= \"))\n",
    "print(n)\n",
    "\n",
    "right_rotated_tuple=n[rotate_right:] + n[:rotate_right] # begin from rightside(backwards)\n",
    "print(\"Final tuple after rotating\")\n",
    "print(right_rotated_tuple)"
   ]
  },
  {
   "cell_type": "markdown",
   "metadata": {},
   "source": [
    "(41) Create a tuple of the first 5 Fibonacci numbers. "
   ]
  },
  {
   "cell_type": "code",
   "execution_count": 102,
   "metadata": {},
   "outputs": [
    {
     "name": "stdout",
     "output_type": "stream",
     "text": [
      "fibonacci series: (0, 1, 1, 2, 3, 5, 8, 13)\n"
     ]
    }
   ],
   "source": [
    "lst=[0,1]\n",
    "n1,n2=0,1\n",
    "for i in range(0,6): \n",
    "    n3=n1+n2\n",
    "    n1=n2\n",
    "    n2=n3\n",
    "    lst.append(n3)\n",
    "    tup=tuple(lst)\n",
    "print(\"fibonacci series:\",tup)"
   ]
  },
  {
   "cell_type": "code",
   "execution_count": 110,
   "metadata": {},
   "outputs": [],
   "source": [
    "## or ## \n",
    "\n",
    "def make_fibonacci(n):\n",
    "    fib=[]  # create empty list \n",
    "    a,b=0,1\n",
    "    for i in range(n):\n",
    "        a,b=b, a+b\n",
    "        fib.append(a)\n",
    "    return tuple(fib)"
   ]
  },
  {
   "cell_type": "code",
   "execution_count": 111,
   "metadata": {},
   "outputs": [
    {
     "data": {
      "text/plain": [
       "(1, 1, 2, 3, 5)"
      ]
     },
     "execution_count": 111,
     "metadata": {},
     "output_type": "execute_result"
    }
   ],
   "source": [
    "make_fibonacci(5)"
   ]
  },
  {
   "cell_type": "markdown",
   "metadata": {},
   "source": [
    "(42) Create a tuple from user input."
   ]
  },
  {
   "cell_type": "code",
   "execution_count": 118,
   "metadata": {},
   "outputs": [
    {
     "name": "stdout",
     "output_type": "stream",
     "text": [
      "enter a number: 6\n",
      "('6',)\n"
     ]
    }
   ],
   "source": [
    "t=tuple(input('enter a number: '))\n",
    "print(t)"
   ]
  },
  {
   "cell_type": "code",
   "execution_count": 119,
   "metadata": {},
   "outputs": [
    {
     "data": {
      "text/plain": [
       "tuple"
      ]
     },
     "execution_count": 119,
     "metadata": {},
     "output_type": "execute_result"
    }
   ],
   "source": [
    "type(t)"
   ]
  },
  {
   "cell_type": "markdown",
   "metadata": {},
   "source": [
    "(43) . Swap two elements in a tuple."
   ]
  },
  {
   "cell_type": "code",
   "execution_count": 3,
   "metadata": {},
   "outputs": [
    {
     "name": "stdout",
     "output_type": "stream",
     "text": [
      "(1, 3, 2)\n"
     ]
    }
   ],
   "source": [
    "tup=(1,2,3)\n",
    "#convert the tuple to list\n",
    "ls=list(tup)\n",
    "#swap the elements in the list using index\n",
    "ls[1],ls[2]=ls[2],ls[1]\n",
    "# create new tuple form the list elements\n",
    "new_tup=tuple(ls)\n",
    "\n",
    "print(new_tup)\n"
   ]
  },
  {
   "cell_type": "raw",
   "metadata": {},
   "source": [
    "Tuples are immutable and cannot be modified after they were created.\n",
    "so, create a list form elements of tuple.\n",
    "swap the revelant elements in the list using index.\n",
    "create new tuple form the list of elements."
   ]
  },
  {
   "cell_type": "markdown",
   "metadata": {},
   "source": [
    "(44) Reverse the elements of a tuple."
   ]
  },
  {
   "cell_type": "code",
   "execution_count": 5,
   "metadata": {},
   "outputs": [
    {
     "name": "stdout",
     "output_type": "stream",
     "text": [
      "('hello', 300, 200)\n"
     ]
    }
   ],
   "source": [
    "a=(200,300,\"hello\")\n",
    "a=a[::-1]\n",
    "print(a)"
   ]
  },
  {
   "cell_type": "markdown",
   "metadata": {},
   "source": [
    "(45)  Create a tuple of the first `n` powers of 2."
   ]
  },
  {
   "cell_type": "code",
   "execution_count": 17,
   "metadata": {},
   "outputs": [],
   "source": [
    "def problem(n):\n",
    "    p_list=[]\n",
    "    for i in range(1,n+1):\n",
    "        number=2**iz   ## power of 2. \n",
    "        p_list.append(number)\n",
    "    return tuple(p_list)"
   ]
  },
  {
   "cell_type": "code",
   "execution_count": 18,
   "metadata": {},
   "outputs": [
    {
     "data": {
      "text/plain": [
       "(2, 4, 8, 16, 32)"
      ]
     },
     "execution_count": 18,
     "metadata": {},
     "output_type": "execute_result"
    }
   ],
   "source": [
    "problem(5)"
   ]
  },
  {
   "cell_type": "markdown",
   "metadata": {},
   "source": [
    "(46) Find the longest string in a tuple of strings."
   ]
  },
  {
   "cell_type": "code",
   "execution_count": 19,
   "metadata": {},
   "outputs": [
    {
     "data": {
      "text/plain": [
       "'australia'"
      ]
     },
     "execution_count": 19,
     "metadata": {},
     "output_type": "execute_result"
    }
   ],
   "source": [
    "country=(\"cananda\",\"India\",\"australia\",\"US\")\n",
    "long=max(country,key=len)\n",
    "long"
   ]
  },
  {
   "cell_type": "markdown",
   "metadata": {},
   "source": [
    "(47) Find the shortest string in a tuple of strings."
   ]
  },
  {
   "cell_type": "code",
   "execution_count": 20,
   "metadata": {},
   "outputs": [
    {
     "data": {
      "text/plain": [
       "'US'"
      ]
     },
     "execution_count": 20,
     "metadata": {},
     "output_type": "execute_result"
    }
   ],
   "source": [
    "country=(\"cananda\",\"India\",\"australia\",\"US\")\n",
    "long=min(country,key=len)\n",
    "long"
   ]
  },
  {
   "cell_type": "markdown",
   "metadata": {},
   "source": [
    "(48) Create a tuple of the first `n` triangular numbers."
   ]
  },
  {
   "cell_type": "code",
   "execution_count": 120,
   "metadata": {},
   "outputs": [
    {
     "name": "stdout",
     "output_type": "stream",
     "text": [
      "(1, 3, 6, 10, 15, 21, 28, 36, 45, 55)\n"
     ]
    }
   ],
   "source": [
    "n=10\n",
    "triangular_numbers = tuple((i * (i + 1)) // 2 for i in range(1, n + 1))\n",
    "print(triangular_numbers)"
   ]
  },
  {
   "cell_type": "markdown",
   "metadata": {},
   "source": [
    "(49)  Check if a tuple contains another tuple as a subsequence."
   ]
  },
  {
   "cell_type": "code",
   "execution_count": null,
   "metadata": {},
   "outputs": [],
   "source": []
  },
  {
   "cell_type": "code",
   "execution_count": null,
   "metadata": {},
   "outputs": [],
   "source": []
  },
  {
   "cell_type": "markdown",
   "metadata": {},
   "source": [
    "(50) Create a tuple of alternating 1s and 0s of length `n`."
   ]
  },
  {
   "cell_type": "code",
   "execution_count": 114,
   "metadata": {},
   "outputs": [
    {
     "name": "stdout",
     "output_type": "stream",
     "text": [
      "(1, 0, 1, 0, 1, 0, 1, 0, 1, 0)\n"
     ]
    }
   ],
   "source": [
    "a_tuple=tuple(i%2 for i in range (1,11))\n",
    "print(a_tuple)"
   ]
  },
  {
   "cell_type": "code",
   "execution_count": 115,
   "metadata": {},
   "outputs": [
    {
     "name": "stdout",
     "output_type": "stream",
     "text": [
      "(False, True, False, True, False, True, False, True, False, True)\n"
     ]
    }
   ],
   "source": [
    "a_tuple=tuple(i%2==0 for i in range (1,11))\n",
    "print(a_tuple)"
   ]
  },
  {
   "cell_type": "markdown",
   "metadata": {},
   "source": [
    "#  set based practice problems:\n"
   ]
  },
  {
   "cell_type": "markdown",
   "metadata": {},
   "source": [
    "(1) Create a set with integers from 1 to 5."
   ]
  },
  {
   "cell_type": "code",
   "execution_count": 35,
   "metadata": {},
   "outputs": [
    {
     "name": "stdout",
     "output_type": "stream",
     "text": [
      "{1, 2, 3, 4, 5}\n"
     ]
    }
   ],
   "source": [
    "set={1,2,3,4,5}\n",
    "print(set)"
   ]
  },
  {
   "cell_type": "markdown",
   "metadata": {},
   "source": [
    "(2) Add an element to a set."
   ]
  },
  {
   "cell_type": "code",
   "execution_count": 31,
   "metadata": {},
   "outputs": [
    {
     "data": {
      "text/plain": [
       "set"
      ]
     },
     "execution_count": 31,
     "metadata": {},
     "output_type": "execute_result"
    }
   ],
   "source": [
    "set_A={20,30,4,5}\n",
    "type(set_A)"
   ]
  },
  {
   "cell_type": "code",
   "execution_count": 32,
   "metadata": {},
   "outputs": [
    {
     "name": "stdout",
     "output_type": "stream",
     "text": [
      "{4, 5, 500, 20, 30}\n"
     ]
    }
   ],
   "source": [
    "set_A.add(500)\n",
    "print(set_A)"
   ]
  },
  {
   "cell_type": "markdown",
   "metadata": {},
   "source": [
    "(3) Remove an element from a set"
   ]
  },
  {
   "cell_type": "code",
   "execution_count": 34,
   "metadata": {},
   "outputs": [
    {
     "data": {
      "text/plain": [
       "{100, 200, 300, 500, 900}"
      ]
     },
     "execution_count": 34,
     "metadata": {},
     "output_type": "execute_result"
    }
   ],
   "source": [
    "set_B={100,200,500,300,8000,900}\n",
    "set_B.remove(8000)\n",
    "set_B"
   ]
  },
  {
   "cell_type": "markdown",
   "metadata": {},
   "source": [
    "(4) Check if an element exists in a set."
   ]
  },
  {
   "cell_type": "code",
   "execution_count": 12,
   "metadata": {},
   "outputs": [
    {
     "name": "stdout",
     "output_type": "stream",
     "text": [
      "enter the element: 8\n",
      "8 exist in set\n"
     ]
    }
   ],
   "source": [
    "set_B={100,200,500,300,8000,900,8}\n",
    "\n",
    "item=int(input(\"enter the element: \"))\n",
    "   \n",
    "if item in set_B:\n",
    "      print(item,\"exist in set\")\n",
    "else:\n",
    "      print(item,\"does not exist in set\")\n",
    "    "
   ]
  },
  {
   "cell_type": "markdown",
   "metadata": {},
   "source": [
    "(5)Find the length of a set without using the `len()` function.\n"
   ]
  },
  {
   "cell_type": "code",
   "execution_count": 14,
   "metadata": {},
   "outputs": [
    {
     "name": "stdout",
     "output_type": "stream",
     "text": [
      "the length of set_c is:  7\n"
     ]
    }
   ],
   "source": [
    "set_c={10,20,50,30,80,90,8}\n",
    "count=0\n",
    "for i in set_c:\n",
    "    count=count+1\n",
    "print(\"the length of set_c is: \",count)"
   ]
  },
  {
   "cell_type": "markdown",
   "metadata": {},
   "source": [
    "(6) Clear all elements from a set."
   ]
  },
  {
   "cell_type": "code",
   "execution_count": 28,
   "metadata": {},
   "outputs": [
    {
     "data": {
      "text/plain": [
       "{1, 2, 3, 4, 8, 10, 20, 30, 50, 80, 90}"
      ]
     },
     "execution_count": 28,
     "metadata": {},
     "output_type": "execute_result"
    }
   ],
   "source": [
    "set_d={1,2,3,4,10,20,50,30,80,90,8}\n",
    "\n",
    "set_d"
   ]
  },
  {
   "cell_type": "code",
   "execution_count": 30,
   "metadata": {},
   "outputs": [],
   "source": [
    "set_d.clear()"
   ]
  },
  {
   "cell_type": "code",
   "execution_count": 31,
   "metadata": {},
   "outputs": [
    {
     "data": {
      "text/plain": [
       "set()"
      ]
     },
     "execution_count": 31,
     "metadata": {},
     "output_type": "execute_result"
    }
   ],
   "source": [
    "set_d"
   ]
  },
  {
   "cell_type": "markdown",
   "metadata": {},
   "source": [
    "(7) Create a set of even numbers from 1 to 10."
   ]
  },
  {
   "cell_type": "code",
   "execution_count": 36,
   "metadata": {},
   "outputs": [
    {
     "name": "stdout",
     "output_type": "stream",
     "text": [
      "enter a number:10\n",
      "the set of even numbers from 1 to 10 :  {2, 4, 6, 8, 10}\n"
     ]
    }
   ],
   "source": [
    "even_num=set()   # empty set\n",
    "num=int(input(\"enter a number:\"))\n",
    "for i in range(1,num+1):\n",
    "    if i%2==0:\n",
    "        even_num.add(i)\n",
    "print(\"the set of even numbers from 1 to 10 : \",even_num)"
   ]
  },
  {
   "cell_type": "markdown",
   "metadata": {},
   "source": [
    "(8) Create a set of odd numbers from 1 to 10."
   ]
  },
  {
   "cell_type": "code",
   "execution_count": 41,
   "metadata": {},
   "outputs": [
    {
     "name": "stdout",
     "output_type": "stream",
     "text": [
      "enter a number:10\n",
      "the set of odd numbers from 1 to 10 :  {1, 3, 5, 7, 9}\n"
     ]
    }
   ],
   "source": [
    "odd_num=set()   # empty set\n",
    "n=int(input(\"enter a number:\"))\n",
    "for j in range(1,n+1):\n",
    "    if j%2!=0:\n",
    "        odd_num.add(j)\n",
    "print(\"the set of odd numbers from 1 to 10 : \",odd_num)"
   ]
  },
  {
   "cell_type": "markdown",
   "metadata": {},
   "source": [
    "(9) Find the union of two sets."
   ]
  },
  {
   "cell_type": "markdown",
   "metadata": {},
   "source": [
    "set1={1,3,5,7,9}\n",
    "set2={2,4,6,8,10}\n",
    "union_set=set1.union(set2)\n",
    "union_set"
   ]
  },
  {
   "cell_type": "markdown",
   "metadata": {},
   "source": [
    "(10) Find the intersection of two sets."
   ]
  },
  {
   "cell_type": "code",
   "execution_count": 44,
   "metadata": {},
   "outputs": [
    {
     "data": {
      "text/plain": [
       "{'reshu'}"
      ]
     },
     "execution_count": 44,
     "metadata": {},
     "output_type": "execute_result"
    }
   ],
   "source": [
    "A={\"hema\",\"ragini\",\"reshu\",\"ragavi\"}\n",
    "B={\"reshu\",\"dolma\",\"leema\",\"rose\"}\n",
    "common_item=A.intersection(B)\n",
    "common_item"
   ]
  },
  {
   "cell_type": "markdown",
   "metadata": {},
   "source": [
    "(11) Find the difference between two sets."
   ]
  },
  {
   "cell_type": "code",
   "execution_count": 45,
   "metadata": {},
   "outputs": [
    {
     "name": "stdout",
     "output_type": "stream",
     "text": [
      "{10, 20, 30}\n"
     ]
    }
   ],
   "source": [
    "C={10,20,30,40,50}\n",
    "D={40,50,60,70,80}\n",
    "print(C-D) # C.difference(D) "
   ]
  },
  {
   "cell_type": "markdown",
   "metadata": {},
   "source": [
    "(12) Check if a set is a subset of another set.\n"
   ]
  },
  {
   "cell_type": "code",
   "execution_count": 46,
   "metadata": {},
   "outputs": [
    {
     "name": "stdout",
     "output_type": "stream",
     "text": [
      "False\n"
     ]
    }
   ],
   "source": [
    "C={10,20,30,40,50}\n",
    "D={40,50,60,70,80}\n",
    "print(C.issubset(D))  # all the items of C is not present in D"
   ]
  },
  {
   "cell_type": "code",
   "execution_count": 48,
   "metadata": {},
   "outputs": [
    {
     "name": "stdout",
     "output_type": "stream",
     "text": [
      "True\n"
     ]
    }
   ],
   "source": [
    "C={40,50}\n",
    "D={40,50,60,70,80}\n",
    "print(C.issubset(D))  # all the items of C is present in D"
   ]
  },
  {
   "cell_type": "markdown",
   "metadata": {},
   "source": [
    "(13) Check if a set is a superset of another set"
   ]
  },
  {
   "cell_type": "code",
   "execution_count": 49,
   "metadata": {},
   "outputs": [
    {
     "name": "stdout",
     "output_type": "stream",
     "text": [
      "True\n"
     ]
    }
   ],
   "source": [
    "E={1,2,3,4,5,6}\n",
    "F={1,2,3}\n",
    "\n",
    "print(E.issuperset(F)) # (or) print(A>=B)"
   ]
  },
  {
   "cell_type": "markdown",
   "metadata": {},
   "source": [
    "set E is superset of set F, as all elements in setF was in setE"
   ]
  },
  {
   "cell_type": "markdown",
   "metadata": {},
   "source": [
    "(14) Create a set from a list."
   ]
  },
  {
   "cell_type": "code",
   "execution_count": 52,
   "metadata": {},
   "outputs": [
    {
     "name": "stdout",
     "output_type": "stream",
     "text": [
      "the list is: ['rain', 12, 'happy']\n",
      "list to set : {'rain', 12, 'happy'}\n"
     ]
    }
   ],
   "source": [
    "lst=[\"rain\",12,\"happy\"]\n",
    "print(\"the list is:\",lst)\n",
    "\n",
    "set_Q=set(lst)\n",
    "print(\"list to set :\",set_Q)"
   ]
  },
  {
   "cell_type": "markdown",
   "metadata": {},
   "source": [
    "(15) Convert a set to a list."
   ]
  },
  {
   "cell_type": "code",
   "execution_count": 53,
   "metadata": {},
   "outputs": [
    {
     "data": {
      "text/plain": [
       "set"
      ]
     },
     "execution_count": 53,
     "metadata": {},
     "output_type": "execute_result"
    }
   ],
   "source": [
    "s={'mohan','rahul','124',9894}\n",
    "type(s)"
   ]
  },
  {
   "cell_type": "code",
   "execution_count": 54,
   "metadata": {},
   "outputs": [
    {
     "data": {
      "text/plain": [
       "['124', 'mohan', 9894, 'rahul']"
      ]
     },
     "execution_count": 54,
     "metadata": {},
     "output_type": "execute_result"
    }
   ],
   "source": [
    "l=list(s)\n",
    "l"
   ]
  },
  {
   "cell_type": "markdown",
   "metadata": {},
   "source": [
    "(16) Remove a random element from a set."
   ]
  },
  {
   "cell_type": "code",
   "execution_count": 63,
   "metadata": {},
   "outputs": [
    {
     "name": "stdout",
     "output_type": "stream",
     "text": [
      "{'its', 12, 'heavily', 'raining'}\n"
     ]
    }
   ],
   "source": [
    "\n",
    "set_k={\"its\",\"raining\",\"heavily\",\"at\",12}\n",
    "set_k.pop()   # pop- to remove an element randomly\n",
    "print(set_k)"
   ]
  },
  {
   "cell_type": "markdown",
   "metadata": {},
   "source": [
    "(17) Pop an element from a set."
   ]
  },
  {
   "cell_type": "code",
   "execution_count": 70,
   "metadata": {},
   "outputs": [
    {
     "name": "stdout",
     "output_type": "stream",
     "text": [
      "{9, 6}\n"
     ]
    }
   ],
   "source": [
    "s1={9,8,6}\n",
    "s1.pop()\n",
    "print(s1)"
   ]
  },
  {
   "cell_type": "markdown",
   "metadata": {},
   "source": [
    "(18) Check if two sets have no elements in common."
   ]
  },
  {
   "cell_type": "code",
   "execution_count": 65,
   "metadata": {},
   "outputs": [
    {
     "name": "stdout",
     "output_type": "stream",
     "text": [
      "True\n"
     ]
    }
   ],
   "source": [
    "s1={1,2,3}\n",
    "s2={4,5,6}\n",
    "print(s1.isdisjoint(s2))   # disjoint-if no common element is found "
   ]
  },
  {
   "cell_type": "markdown",
   "metadata": {},
   "source": [
    "(19) Find the symmetric difference between two sets."
   ]
  },
  {
   "cell_type": "code",
   "execution_count": 69,
   "metadata": {},
   "outputs": [
    {
     "name": "stdout",
     "output_type": "stream",
     "text": [
      "{1, 2, 5, 6, 7, 9}\n"
     ]
    }
   ],
   "source": [
    "s3={1,2,3,4,5}\n",
    "s4={6,7,3,9,4}\n",
    "print(s3.symmetric_difference(s4))  # element 4 and 3 is common"
   ]
  },
  {
   "cell_type": "raw",
   "metadata": {},
   "source": [
    "symmetric difference - used to get elements present in either of the two sets but not common element."
   ]
  },
  {
   "cell_type": "markdown",
   "metadata": {},
   "source": [
    "(20) Update a set with elements from another set. "
   ]
  },
  {
   "cell_type": "code",
   "execution_count": 75,
   "metadata": {},
   "outputs": [
    {
     "name": "stdout",
     "output_type": "stream",
     "text": [
      "{5, 6, 7, 8, 9, 10, 40, 50, 20, 30}\n"
     ]
    }
   ],
   "source": [
    "s5={5,6,7,8,9,10}\n",
    "s6={10,20,30,40,50}\n",
    "s5.update(s6)\n",
    "print(s5)"
   ]
  },
  {
   "cell_type": "markdown",
   "metadata": {},
   "source": [
    "(21) Create a set of the first 5 prime numbers."
   ]
  },
  {
   "cell_type": "code",
   "execution_count": 19,
   "metadata": {},
   "outputs": [
    {
     "name": "stdout",
     "output_type": "stream",
     "text": [
      "the prime numbers are: {1, 2, 3, 5, 7}\n"
     ]
    }
   ],
   "source": [
    "values={1,2,3,4,5,6,7,8,9,10}\n",
    "\n",
    "e_set=set()\n",
    "\n",
    "for i in range(1,len(values)+1):\n",
    "    for j in range(2,i):\n",
    "        if i%j==0:\n",
    "            break\n",
    "    else:\n",
    "        e_set.add(i)\n",
    "            \n",
    "print(\"the prime numbers are:\",e_set)\n",
    "        "
   ]
  },
  {
   "cell_type": "markdown",
   "metadata": {},
   "source": [
    "(22) Check if two sets are identical."
   ]
  },
  {
   "cell_type": "code",
   "execution_count": 12,
   "metadata": {},
   "outputs": [
    {
     "name": "stdout",
     "output_type": "stream",
     "text": [
      "both sets are not identical\n"
     ]
    }
   ],
   "source": [
    "num1={1,2,3}\n",
    "num2={1,2,5}\n",
    "if (num1.symmetric_difference(num2))==0:    # num1 and num2 does not hold same elements\n",
    "    print(\"both sets are idendical\")\n",
    "else:\n",
    "    print(\"both sets are not identical\")"
   ]
  },
  {
   "cell_type": "markdown",
   "metadata": {},
   "source": [
    "symmetric_difference eliminate common elements. so ,the sets wont have same elements."
   ]
  },
  {
   "cell_type": "markdown",
   "metadata": {},
   "source": [
    "(23) Create a frozen set."
   ]
  },
  {
   "cell_type": "code",
   "execution_count": null,
   "metadata": {},
   "outputs": [],
   "source": [
    "exp=(3,4,5,6,2)\n",
    "frozen_set=frozenset(exp) \n",
    "                  #frosen set is an immutable version of python set object.\n",
    "print(type(exp))\n",
    "print(type(frozen_set))"
   ]
  },
  {
   "cell_type": "raw",
   "metadata": {},
   "source": [
    "frosen set is an immutable version of python set object. Elements in the set can be modified but frozen set elements remain the sam after creation. "
   ]
  },
  {
   "cell_type": "markdown",
   "metadata": {},
   "source": [
    "(24) Check if a set is disjoint with another set."
   ]
  },
  {
   "cell_type": "code",
   "execution_count": 13,
   "metadata": {},
   "outputs": [
    {
     "name": "stdout",
     "output_type": "stream",
     "text": [
      "enter space-separated words set_1:1 2 3 4 5\n",
      "{'4', '1', '3', '5', '2'}\n",
      "enter space-separated words set_2:1 2 3 4 5\n",
      "{'4', '1', '3', '5', '2'}\n",
      "both sets are not a disjoint\n"
     ]
    }
   ],
   "source": [
    "import ast   \n",
    "\n",
    "my_set_1=set(input(\"enter space-separated words set_1:\").split( ))\n",
    "print(my_set_1)\n",
    "my_set_2=set(input(\"enter space-separated words set_2:\").split( ))\n",
    "print(my_set_2)\n",
    "\n",
    "if my_set_1==my_set_2:\n",
    "    print(\"both sets are not a disjoint\")\n",
    "else:\n",
    "    print(\"both sets are disjoint\")"
   ]
  },
  {
   "cell_type": "markdown",
   "metadata": {},
   "source": [
    "(25)  Create a set of squares of numbers from 1 to 5."
   ]
  },
  {
   "cell_type": "code",
   "execution_count": 46,
   "metadata": {},
   "outputs": [
    {
     "name": "stdout",
     "output_type": "stream",
     "text": [
      "{1, 4, 9, 16, 25}\n"
     ]
    }
   ],
   "source": [
    "sq_of_set=set()\n",
    "\n",
    "for i in range(1,6):\n",
    "    s=i**2\n",
    "    sq_of_set.add(s)\n",
    "    \n",
    "print(sq_of_set)\n",
    "\n",
    "    "
   ]
  },
  {
   "cell_type": "raw",
   "metadata": {},
   "source": [
    "create an empty set and add the elements in it."
   ]
  },
  {
   "cell_type": "markdown",
   "metadata": {},
   "source": [
    "(26) Filter out all even numbers from a set."
   ]
  },
  {
   "cell_type": "code",
   "execution_count": 56,
   "metadata": {},
   "outputs": [
    {
     "name": "stdout",
     "output_type": "stream",
     "text": [
      "filtered even numbers are:  {2, 4, 6, 8, 10}\n"
     ]
    }
   ],
   "source": [
    "a={1,2,3,4,5,6,7,8,9,10}\n",
    "\n",
    "empty_set=set()\n",
    "\n",
    "for i in a:\n",
    "    if i%2==0:\n",
    "        empty_set.add(i)\n",
    "    \n",
    "print(\"filtered even numbers are: \",empty_set)"
   ]
  },
  {
   "cell_type": "markdown",
   "metadata": {},
   "source": [
    "(27) Multiply all elements in a set by 2."
   ]
  },
  {
   "cell_type": "code",
   "execution_count": 17,
   "metadata": {},
   "outputs": [
    {
     "name": "stdout",
     "output_type": "stream",
     "text": [
      "The initial elements: {1, 2, 3, 4, 5, 6, 7, 8, 9, 10}\n",
      "multiplied elements by 2 are:  {2, 4, 6, 8, 10, 12, 14, 16, 18, 20}\n"
     ]
    }
   ],
   "source": [
    "b={1,2,3,4,5,6,7,8,9,10}\n",
    "print(\"The initial elements:\",b)\n",
    "empty_set_1=set()\n",
    "\n",
    "for i in b:\n",
    "    m=i*2\n",
    "    empty_set_1.add(m)\n",
    "    \n",
    "print(\"multiplied elements by 2 are: \",empty_set_1)"
   ]
  },
  {
   "cell_type": "markdown",
   "metadata": {},
   "source": [
    "(28)  Create a set of random numbers."
   ]
  },
  {
   "cell_type": "code",
   "execution_count": 20,
   "metadata": {},
   "outputs": [
    {
     "name": "stdout",
     "output_type": "stream",
     "text": [
      "{1, 2, 3, 5}\n"
     ]
    }
   ],
   "source": [
    "import random\n",
    "\n",
    "q=set()\n",
    "n=5\n",
    "for i in range(n):\n",
    "    q.add(random.randint(1,5))\n",
    "    \n",
    "print(q)\n",
    "    "
   ]
  },
  {
   "cell_type": "markdown",
   "metadata": {},
   "source": [
    "(29) Check if a set is empty."
   ]
  },
  {
   "cell_type": "code",
   "execution_count": 31,
   "metadata": {},
   "outputs": [
    {
     "name": "stdout",
     "output_type": "stream",
     "text": [
      "set is empty\n"
     ]
    }
   ],
   "source": [
    "s=set()\n",
    "\n",
    "if len(s)==0:\n",
    "    print(\"set is empty\")\n",
    "else:\n",
    "    print(\"set is not empty\")\n",
    "    "
   ]
  },
  {
   "cell_type": "markdown",
   "metadata": {},
   "source": [
    "(30)  Create a nested set (hint: use frozenset)."
   ]
  },
  {
   "cell_type": "code",
   "execution_count": 33,
   "metadata": {},
   "outputs": [
    {
     "data": {
      "text/plain": [
       "{frozenset({3, 4}), frozenset({1, 2})}"
      ]
     },
     "execution_count": 33,
     "metadata": {},
     "output_type": "execute_result"
    }
   ],
   "source": [
    "w=set([frozenset([1,2]),frozenset([3,4])])\n",
    "w"
   ]
  },
  {
   "cell_type": "markdown",
   "metadata": {},
   "source": [
    "set within set "
   ]
  },
  {
   "cell_type": "markdown",
   "metadata": {},
   "source": [
    "(31) . Remove an element from a set using the discard method."
   ]
  },
  {
   "cell_type": "code",
   "execution_count": 34,
   "metadata": {},
   "outputs": [],
   "source": [
    "s={10,20,30,40,50}\n",
    "s.discard(30)"
   ]
  },
  {
   "cell_type": "code",
   "execution_count": 35,
   "metadata": {},
   "outputs": [
    {
     "name": "stdout",
     "output_type": "stream",
     "text": [
      "{40, 10, 50, 20}\n"
     ]
    }
   ],
   "source": [
    "print(s)"
   ]
  },
  {
   "cell_type": "markdown",
   "metadata": {},
   "source": [
    "(32) Compare two sets."
   ]
  },
  {
   "cell_type": "code",
   "execution_count": 47,
   "metadata": {},
   "outputs": [
    {
     "name": "stdout",
     "output_type": "stream",
     "text": [
      "False\n"
     ]
    }
   ],
   "source": [
    "s2={100,200,300,400,500}\n",
    "s1={600,700,800,900,100}\n",
    "\n",
    "if s1==s2:\n",
    "    print(True)\n",
    "else:\n",
    "    print(False)"
   ]
  },
  {
   "cell_type": "markdown",
   "metadata": {},
   "source": [
    "(33) Create a set from a string."
   ]
  },
  {
   "cell_type": "code",
   "execution_count": 48,
   "metadata": {},
   "outputs": [
    {
     "name": "stdout",
     "output_type": "stream",
     "text": [
      "{'W', 'l', ' ', 'H', 'o', 'd', 'r', 'e'}\n"
     ]
    }
   ],
   "source": [
    "string=\"Hello World\"\n",
    "\n",
    "# convert  to set\n",
    "\n",
    "s=set(string)\n",
    "print(s)\n"
   ]
  },
  {
   "cell_type": "raw",
   "metadata": {},
   "source": [
    "A set does not hold duplicate values"
   ]
  },
  {
   "cell_type": "markdown",
   "metadata": {},
   "source": [
    "(34) Convert a set of strings to a set of integers."
   ]
  },
  {
   "cell_type": "code",
   "execution_count": 54,
   "metadata": {},
   "outputs": [
    {
     "name": "stdout",
     "output_type": "stream",
     "text": [
      "the set of integers: {1, 2, 3, 4, 5}\n"
     ]
    }
   ],
   "source": [
    "a={'1','2','3','4','5'}\n",
    "b=set()\n",
    "\n",
    "for char in a:\n",
    "    value=int(char) # change string to integer by type casting\n",
    "    b.add(value)\n",
    "    \n",
    "print(\"the set of integers:\",b)"
   ]
  },
  {
   "cell_type": "markdown",
   "metadata": {},
   "source": [
    "(35) Convert a set of integers to a set of strings."
   ]
  },
  {
   "cell_type": "code",
   "execution_count": 55,
   "metadata": {},
   "outputs": [
    {
     "name": "stdout",
     "output_type": "stream",
     "text": [
      "the set of integers: {'40', '30', '10', '50', '20'}\n"
     ]
    }
   ],
   "source": [
    "a={10,20,30,40,50}\n",
    "b=set()\n",
    "\n",
    "for value in a:\n",
    "    character=str(value) \n",
    "    b.add(character)\n",
    "    \n",
    "print(\"the set of integers:\",b)"
   ]
  },
  {
   "cell_type": "markdown",
   "metadata": {},
   "source": [
    "(36) Create a set from a tuple.\n"
   ]
  },
  {
   "cell_type": "code",
   "execution_count": 56,
   "metadata": {},
   "outputs": [
    {
     "name": "stdout",
     "output_type": "stream",
     "text": [
      "{25, 35, 45, 55}\n"
     ]
    }
   ],
   "source": [
    "f=(25,35,45,55)\n",
    "\n",
    "tup=set(f)\n",
    "print(tup)"
   ]
  },
  {
   "cell_type": "markdown",
   "metadata": {},
   "source": [
    "(37) Convert a set to a tuple."
   ]
  },
  {
   "cell_type": "code",
   "execution_count": 57,
   "metadata": {},
   "outputs": [
    {
     "name": "stdout",
     "output_type": "stream",
     "text": [
      "(25, 35, 45, 55)\n"
     ]
    }
   ],
   "source": [
    "g={25,35,45,55}\n",
    "\n",
    "s=tuple(g)\n",
    "print(s)  "
   ]
  },
  {
   "cell_type": "markdown",
   "metadata": {},
   "source": [
    "(38) Find the maximum value in a set."
   ]
  },
  {
   "cell_type": "code",
   "execution_count": 64,
   "metadata": {},
   "outputs": [
    {
     "name": "stdout",
     "output_type": "stream",
     "text": [
      "100\n"
     ]
    }
   ],
   "source": [
    "set_q=([8,16,24,32,89,100,34])\n",
    "print(max(set_q))"
   ]
  },
  {
   "cell_type": "markdown",
   "metadata": {},
   "source": [
    "(39) Find the maximum value in a set."
   ]
  },
  {
   "cell_type": "code",
   "execution_count": 65,
   "metadata": {},
   "outputs": [
    {
     "name": "stdout",
     "output_type": "stream",
     "text": [
      "8\n"
     ]
    }
   ],
   "source": [
    "set_q=([8,16,24,32,89,100,34])\n",
    "print(min(set_q))"
   ]
  },
  {
   "cell_type": "markdown",
   "metadata": {},
   "source": [
    "(40) Create a set from user input"
   ]
  },
  {
   "cell_type": "code",
   "execution_count": 66,
   "metadata": {},
   "outputs": [],
   "source": [
    "import ast"
   ]
  },
  {
   "cell_type": "code",
   "execution_count": 70,
   "metadata": {},
   "outputs": [
    {
     "name": "stdout",
     "output_type": "stream",
     "text": [
      "enter space-separated string : enhance power wealth and status\n"
     ]
    },
    {
     "data": {
      "text/plain": [
       "{'and', 'enhance', 'power', 'status', 'wealth'}"
      ]
     },
     "execution_count": 70,
     "metadata": {},
     "output_type": "execute_result"
    }
   ],
   "source": [
    "user_input=input(\"enter space-separated string : \")\n",
    "my_set=set(str(item) for item in user_input.split())\n",
    "my_set\n"
   ]
  },
  {
   "cell_type": "markdown",
   "metadata": {},
   "source": [
    "(41) Check if the intersection of two sets is empty."
   ]
  },
  {
   "cell_type": "code",
   "execution_count": 73,
   "metadata": {},
   "outputs": [
    {
     "name": "stdout",
     "output_type": "stream",
     "text": [
      "the intersection of two set is empty\n"
     ]
    }
   ],
   "source": [
    "x={\"apple\",\"banana\",\"cherry\"}\n",
    "y={\"google\",\"microsoft\",\"yahoo\"}\n",
    "\n",
    "if x.intersection(y):\n",
    "    print(\"the intersection of two set is not empty\")\n",
    "else:\n",
    "       print(\"the intersection of two set is empty\") "
   ]
  },
  {
   "cell_type": "markdown",
   "metadata": {},
   "source": [
    "(42) Create a set of the first 5 Fibonacci numbers."
   ]
  },
  {
   "cell_type": "code",
   "execution_count": 101,
   "metadata": {},
   "outputs": [
    {
     "name": "stdout",
     "output_type": "stream",
     "text": [
      "fibonacci series : {1, 2, 3, 5, 8}\n"
     ]
    }
   ],
   "source": [
    "fib_series=set()\n",
    "\n",
    "a,b=0,1\n",
    "\n",
    "for i in range(6):\n",
    "    c=a+b\n",
    "    a=b\n",
    "    b=c\n",
    "    fib_series.add(a)\n",
    "    \n",
    "print(\"fibonacci series :\",fib_series)\n",
    "    \n",
    "    "
   ]
  },
  {
   "cell_type": "markdown",
   "metadata": {},
   "source": [
    "(43) Remove duplicates from a list using sets."
   ]
  },
  {
   "cell_type": "code",
   "execution_count": 102,
   "metadata": {},
   "outputs": [
    {
     "data": {
      "text/plain": [
       "list"
      ]
     },
     "execution_count": 102,
     "metadata": {},
     "output_type": "execute_result"
    }
   ],
   "source": [
    "lst=[\"hi\",\"hello\",23,45,65,23,\"hi\"]\n",
    "type(lst)"
   ]
  },
  {
   "cell_type": "code",
   "execution_count": 103,
   "metadata": {},
   "outputs": [
    {
     "data": {
      "text/plain": [
       "{23, 45, 65, 'hello', 'hi'}"
      ]
     },
     "execution_count": 103,
     "metadata": {},
     "output_type": "execute_result"
    }
   ],
   "source": [
    "using_set=set(lst)\n",
    "using_set"
   ]
  },
  {
   "cell_type": "markdown",
   "metadata": {},
   "source": [
    "(44) Check if two sets have the same elements, regardless of their count."
   ]
  },
  {
   "cell_type": "code",
   "execution_count": 105,
   "metadata": {},
   "outputs": [],
   "source": [
    "myset1={12,90,43,56,72}\n",
    "myset2={43,90,12}\n",
    "\n"
   ]
  },
  {
   "cell_type": "markdown",
   "metadata": {},
   "source": [
    "(45) Create a set of the first `n` powers of 2."
   ]
  },
  {
   "cell_type": "code",
   "execution_count": 8,
   "metadata": {},
   "outputs": [],
   "source": [
    "def power(n):\n",
    "    e_set=set()\n",
    "    for i in range(n):\n",
    "        n_power_of_2=2**i   ## n would be the power of value 2\n",
    "        e_set.add(n_power_of_2)\n",
    "    return e_set"
   ]
  },
  {
   "cell_type": "code",
   "execution_count": 9,
   "metadata": {},
   "outputs": [
    {
     "name": "stdout",
     "output_type": "stream",
     "text": [
      "{1, 2, 4, 8, 16}\n"
     ]
    }
   ],
   "source": [
    "n=5\n",
    "power(n)\n",
    "print(power(n))"
   ]
  },
  {
   "cell_type": "markdown",
   "metadata": {},
   "source": [
    "(46) Find the common elements between a set and a list."
   ]
  },
  {
   "cell_type": "code",
   "execution_count": 15,
   "metadata": {},
   "outputs": [
    {
     "name": "stdout",
     "output_type": "stream",
     "text": [
      "common elements:  [4, 5]\n"
     ]
    }
   ],
   "source": [
    "lst_a=[1,2,3,4,5]\n",
    "set_b={4,5,6,7,8}\n",
    "# both variable should be of same type to look for common elements\n",
    "lst_b=list(set_b)\n",
    "# creating an empty list to append values.\n",
    "l=[]\n",
    "\n",
    "for values in lst_a:\n",
    "    if values in lst_b:\n",
    "        l.append(values)\n",
    "print(\"common elements: \",l)"
   ]
  },
  {
   "cell_type": "markdown",
   "metadata": {},
   "source": [
    "(47) Create a set of the first `n` triangular numbers."
   ]
  },
  {
   "cell_type": "code",
   "execution_count": 42,
   "metadata": {},
   "outputs": [],
   "source": [
    " def triangular_series(n):\n",
    "    triangular_number=set()\n",
    "    # for each iteration increase j by 1 and add it into k\n",
    "    for i in range(1,n+1):\n",
    "            triangular_formula= i * (i + 1) // 2 \n",
    "            triangular_number.add(triangular_formula)\n",
    "    return triangular_number"
   ]
  },
  {
   "cell_type": "code",
   "execution_count": 43,
   "metadata": {},
   "outputs": [
    {
     "data": {
      "text/plain": [
       "{1, 3, 6, 10, 15, 21, 28, 36, 45, 55}"
      ]
     },
     "execution_count": 43,
     "metadata": {},
     "output_type": "execute_result"
    }
   ],
   "source": [
    "n=10\n",
    "triangular_series(n)"
   ]
  },
  {
   "cell_type": "code",
   "execution_count": 50,
   "metadata": {},
   "outputs": [],
   "source": [
    " #(or)  other way\n",
    "    \n",
    "def triangular_series(n):\n",
    "    j=1\n",
    "    k=1\n",
    "    l=set()\n",
    "    # for each iteration increase j by 1 and add it into k\n",
    "    for i in range(1,n+1):\n",
    "        j=j+1 # increase j by 1\n",
    "        # add values of j into k and update k\n",
    "        k=k+j\n",
    "        l.add(k)\n",
    "    print(l)"
   ]
  },
  {
   "cell_type": "code",
   "execution_count": 51,
   "metadata": {},
   "outputs": [
    {
     "name": "stdout",
     "output_type": "stream",
     "text": [
      "{66, 3, 36, 6, 10, 45, 15, 21, 55, 28}\n"
     ]
    }
   ],
   "source": [
    "n=10\n",
    "triangular_series(n)"
   ]
  },
  {
   "cell_type": "markdown",
   "metadata": {},
   "source": [
    "(48) Check if a set contains another set as a subset."
   ]
  },
  {
   "cell_type": "code",
   "execution_count": 62,
   "metadata": {},
   "outputs": [
    {
     "name": "stdout",
     "output_type": "stream",
     "text": [
      "True\n"
     ]
    }
   ],
   "source": [
    "z={50,55,56,57,58}\n",
    "\n",
    "x={55,56}\n",
    "\n",
    "p=x.issubset(z)\n",
    "print(p)"
   ]
  },
  {
   "cell_type": "markdown",
   "metadata": {},
   "source": [
    "(49) Create a set of alternating 1s and 0s of length `n`."
   ]
  },
  {
   "cell_type": "code",
   "execution_count": 106,
   "metadata": {},
   "outputs": [],
   "source": [
    "def alternating_set(m):\n",
    "    \n",
    "    set_of_alterantive=set()\n",
    "    \n",
    "    for i in range(m):\n",
    "        if i%2==0:\n",
    "            set_of_alterantive.add(1)  # 1- for even.\n",
    "        else:\n",
    "            set_of_alterantive.add(0)    # 0 -for odd\n",
    "            \n",
    "    return set_of_alterantive"
   ]
  },
  {
   "cell_type": "code",
   "execution_count": 107,
   "metadata": {},
   "outputs": [
    {
     "name": "stdout",
     "output_type": "stream",
     "text": [
      "The set of alternavtive for 1s and 0s:  {0, 1}\n"
     ]
    }
   ],
   "source": [
    "m=10\n",
    "result=alternating_set(m)\n",
    "print(\"The set of alternavtive for 1s and 0s: \",alternating_set(m))"
   ]
  },
  {
   "cell_type": "markdown",
   "metadata": {},
   "source": [
    "(50) Merge multiple sets into one."
   ]
  },
  {
   "cell_type": "code",
   "execution_count": 82,
   "metadata": {},
   "outputs": [
    {
     "name": "stdout",
     "output_type": "stream",
     "text": [
      "merge multiple sets:  {1, 2, 3, 4, 5, 6, 7, 8, 9, 10, 11, 12, 13, 14, 15}\n"
     ]
    }
   ],
   "source": [
    "set_1={1,2,3,4,5}\n",
    "set_2={6,7,8,9,10}\n",
    "set_3={11,12,13,14,15}\n",
    "\n",
    "merge_1=set_1.union(set_2,set_3)\n",
    "print(\"merge multiple sets: \",merge_1)"
   ]
  },
  {
   "cell_type": "code",
   "execution_count": null,
   "metadata": {},
   "outputs": [],
   "source": []
  }
 ],
 "metadata": {
  "kernelspec": {
   "display_name": "Python 3",
   "language": "python",
   "name": "python3"
  },
  "language_info": {
   "codemirror_mode": {
    "name": "ipython",
    "version": 3
   },
   "file_extension": ".py",
   "mimetype": "text/x-python",
   "name": "python",
   "nbconvert_exporter": "python",
   "pygments_lexer": "ipython3",
   "version": "3.8.5"
  }
 },
 "nbformat": 4,
 "nbformat_minor": 4
}
