{
 "cells": [
  {
   "cell_type": "markdown",
   "metadata": {},
   "source": [
    "# Python basic variable"
   ]
  },
  {
   "cell_type": "markdown",
   "metadata": {},
   "source": [
    " (1) Declare two variables 'x' and 'y' and assign them integer values.\n",
    "    swap the values of these variables without using any temporary variable.\n",
    "    \n",
    " Ans:  Can be swapped by 2 methods.\n",
    "       (a) tuple swap \n",
    "       (b)  By arithematic operator"
   ]
  },
  {
   "cell_type": "raw",
   "metadata": {},
   "source": [
    "                     ##        tuple swap         ##"
   ]
  },
  {
   "cell_type": "code",
   "execution_count": 1,
   "metadata": {},
   "outputs": [
    {
     "name": "stdout",
     "output_type": "stream",
     "text": [
      "enter the first number: 25\n",
      "enter the second number: 23\n"
     ]
    }
   ],
   "source": [
    "x=int(input(\"enter the first number: \"))\n",
    "y=int(input(\"enter the second number: \"))"
   ]
  },
  {
   "cell_type": "code",
   "execution_count": 2,
   "metadata": {},
   "outputs": [
    {
     "name": "stdout",
     "output_type": "stream",
     "text": [
      "x= 25 y= 23\n"
     ]
    }
   ],
   "source": [
    "print(\"x=\",x, \"y=\",y)"
   ]
  },
  {
   "cell_type": "code",
   "execution_count": 3,
   "metadata": {},
   "outputs": [],
   "source": [
    "(x,y)=(y,x)   ## swap by tuple"
   ]
  },
  {
   "cell_type": "code",
   "execution_count": 4,
   "metadata": {},
   "outputs": [
    {
     "name": "stdout",
     "output_type": "stream",
     "text": [
      "x= 23 y= 25\n"
     ]
    }
   ],
   "source": [
    "print(\"x=\",x, \"y=\",y)  ## values got swapped"
   ]
  },
  {
   "cell_type": "raw",
   "metadata": {},
   "source": [
    "                      #   Using arithematic operators  #"
   ]
  },
  {
   "cell_type": "code",
   "execution_count": 44,
   "metadata": {},
   "outputs": [
    {
     "name": "stdout",
     "output_type": "stream",
     "text": [
      "25\n",
      "23\n"
     ]
    }
   ],
   "source": [
    "x=25 \n",
    "y=23\n",
    "print(x)  \n",
    "print(y)      ## assign values of variable x and y. "
   ]
  },
  {
   "cell_type": "code",
   "execution_count": 47,
   "metadata": {},
   "outputs": [
    {
     "name": "stdout",
     "output_type": "stream",
     "text": [
      "48\n"
     ]
    }
   ],
   "source": [
    "x=x+y\n",
    "print(x)   ## x becomes 48 "
   ]
  },
  {
   "cell_type": "code",
   "execution_count": 48,
   "metadata": {},
   "outputs": [
    {
     "name": "stdout",
     "output_type": "stream",
     "text": [
      "25\n"
     ]
    }
   ],
   "source": [
    "y=x-y     ## y = 25 \n",
    "print(y)"
   ]
  },
  {
   "cell_type": "code",
   "execution_count": 49,
   "metadata": {},
   "outputs": [
    {
     "name": "stdout",
     "output_type": "stream",
     "text": [
      "23\n"
     ]
    }
   ],
   "source": [
    "x=x-y     ## x=23\n",
    "print(x)"
   ]
  },
  {
   "cell_type": "code",
   "execution_count": 51,
   "metadata": {},
   "outputs": [
    {
     "name": "stdout",
     "output_type": "stream",
     "text": [
      "23\n"
     ]
    }
   ],
   "source": [
    "print(x)  "
   ]
  },
  {
   "cell_type": "code",
   "execution_count": 52,
   "metadata": {},
   "outputs": [
    {
     "name": "stdout",
     "output_type": "stream",
     "text": [
      "25\n"
     ]
    }
   ],
   "source": [
    "print(y)   "
   ]
  },
  {
   "cell_type": "raw",
   "metadata": {},
   "source": [
    "x=25 and y=23 has been swapped as x=23 and y=25"
   ]
  },
  {
   "cell_type": "raw",
   "metadata": {},
   "source": [
    "two numeric values can be swapped using arithematic operators such as (+,-,*,/) .\n",
    "Calculating the sum of two numbers and then swapping them using the sum and the difference from the sum."
   ]
  },
  {
   "cell_type": "markdown",
   "metadata": {},
   "source": [
    " (2) Create a program that calculates the area of a rectangle. Take the length and width as inputs from the user and store them      in variables. calculate and display the area.\n",
    " "
   ]
  },
  {
   "cell_type": "code",
   "execution_count": 7,
   "metadata": {},
   "outputs": [
    {
     "name": "stdout",
     "output_type": "stream",
     "text": [
      "enter the length of rectangle:25.6\n",
      "enter the width of rectangle:5.5\n"
     ]
    }
   ],
   "source": [
    "l=float(input(\"enter the length of rectangle:\"))\n",
    "w=float(input(\"enter the width of rectangle:\"))"
   ]
  },
  {
   "cell_type": "code",
   "execution_count": 8,
   "metadata": {},
   "outputs": [],
   "source": [
    "Area=l*w"
   ]
  },
  {
   "cell_type": "code",
   "execution_count": 9,
   "metadata": {},
   "outputs": [
    {
     "name": "stdout",
     "output_type": "stream",
     "text": [
      "Area of a reactangle is:  140.8\n"
     ]
    }
   ],
   "source": [
    "print(\"Area of a reactangle is: \",Area )   "
   ]
  },
  {
   "cell_type": "code",
   "execution_count": 10,
   "metadata": {},
   "outputs": [
    {
     "name": "stdout",
     "output_type": "stream",
     "text": [
      "Area of a reactangle is: 140.80\n"
     ]
    }
   ],
   "source": [
    "print(\"Area of a reactangle is: %.2f\" %Area )   ## %2f - round upto 2 decimal "
   ]
  },
  {
   "cell_type": "markdown",
   "metadata": {},
   "source": [
    "(3)  Write a python program that converts temperature from Celsius to Fahrenheit. Take the temperature in Celsius as input,               store it in a variable,convert it to Fahrenheit, and display the result."
   ]
  },
  {
   "cell_type": "code",
   "execution_count": 104,
   "metadata": {},
   "outputs": [
    {
     "name": "stdout",
     "output_type": "stream",
     "text": [
      "Enter the temperature in celsius: 5\n"
     ]
    }
   ],
   "source": [
    "Celsius=int(input(\"Enter the temperature in celsius: \"))\n",
    "fahrenheit=(1.8*Celsius)+32   ## formula for fahrenheit"
   ]
  },
  {
   "cell_type": "code",
   "execution_count": 105,
   "metadata": {},
   "outputs": [
    {
     "name": "stdout",
     "output_type": "stream",
     "text": [
      "Temperature in Fahrenheit:  41.0\n"
     ]
    }
   ],
   "source": [
    "print(\"Temperature in Fahrenheit: \",fahrenheit)"
   ]
  },
  {
   "cell_type": "raw",
   "metadata": {},
   "source": [
    "thus, 5 degree celsius is equal to 41.0 degree fahrenheit."
   ]
  },
  {
   "cell_type": "markdown",
   "metadata": {},
   "source": [
    "#  String based questions"
   ]
  },
  {
   "cell_type": "markdown",
   "metadata": {},
   "source": [
    "(1) write a python program that takes a string as input and prints the length of the string."
   ]
  },
  {
   "cell_type": "code",
   "execution_count": 4,
   "metadata": {},
   "outputs": [
    {
     "name": "stdout",
     "output_type": "stream",
     "text": [
      "Enter a string: excitement\n"
     ]
    }
   ],
   "source": [
    "paper= input(\"Enter a string: \")"
   ]
  },
  {
   "cell_type": "code",
   "execution_count": 5,
   "metadata": {},
   "outputs": [
    {
     "name": "stdout",
     "output_type": "stream",
     "text": [
      "length of the string is:  10\n"
     ]
    }
   ],
   "source": [
    "print(\"length of the string is: \",len(paper))  # using length function"
   ]
  },
  {
   "cell_type": "raw",
   "metadata": {},
   "source": [
    "   # we take the input from user and count the number of characters in the input string using for loop"
   ]
  },
  {
   "cell_type": "code",
   "execution_count": 6,
   "metadata": {},
   "outputs": [
    {
     "name": "stdout",
     "output_type": "stream",
     "text": [
      "Enter a string: excitement\n"
     ]
    }
   ],
   "source": [
    "paper= input(\"Enter a string: \")"
   ]
  },
  {
   "cell_type": "code",
   "execution_count": 7,
   "metadata": {},
   "outputs": [
    {
     "name": "stdout",
     "output_type": "stream",
     "text": [
      "length of the string is:  10\n"
     ]
    }
   ],
   "source": [
    "counter=0\n",
    "for character in paper:\n",
    "    counter=counter+1\n",
    "print(\"length of the string is: \",counter)"
   ]
  },
  {
   "cell_type": "markdown",
   "metadata": {},
   "source": [
    " (2) Create a python program that takes a sentence from the user and counts the number of vowels(a,e,i,o,u) in the string."
   ]
  },
  {
   "cell_type": "code",
   "execution_count": 13,
   "metadata": {},
   "outputs": [
    {
     "name": "stdout",
     "output_type": "stream",
     "text": [
      "Enter the string: paper grid \n"
     ]
    }
   ],
   "source": [
    "sentence= input(\"Enter the string: \")"
   ]
  },
  {
   "cell_type": "code",
   "execution_count": 14,
   "metadata": {},
   "outputs": [
    {
     "name": "stdout",
     "output_type": "stream",
     "text": [
      "Total vowels are:  3\n"
     ]
    }
   ],
   "source": [
    "count=0\n",
    "# keep string in lower case\n",
    "sentence=sentence.lower()\n",
    "for char in sentence:\n",
    "    if char=='a'or char=='e' or char=='i' or char=='o' or char=='u':\n",
    "        count=count+1\n",
    " # check any vowel is found or not\n",
    "if count==0:\n",
    "        print('No vowels found')\n",
    "else:\n",
    "     print('Total vowels are: ',count)"
   ]
  },
  {
   "cell_type": "markdown",
   "metadata": {},
   "source": [
    "(3) Given a string, reverse the order of characters using string slicing and print the reversed string."
   ]
  },
  {
   "cell_type": "code",
   "execution_count": 19,
   "metadata": {},
   "outputs": [
    {
     "name": "stdout",
     "output_type": "stream",
     "text": [
      "nolemretaw\n"
     ]
    }
   ],
   "source": [
    "fruit = \"watermelon\"\n",
    "print(fruit[: : -1])  # string in reverse order"
   ]
  },
  {
   "cell_type": "markdown",
   "metadata": {},
   "source": [
    "(4) write a program that takes a string as input and checks if it is a palindrome (read the same forwards and backwards)"
   ]
  },
  {
   "cell_type": "code",
   "execution_count": 21,
   "metadata": {},
   "outputs": [
    {
     "name": "stdout",
     "output_type": "stream",
     "text": [
      "Enter the string: radar\n",
      "Is is a palindrome string\n"
     ]
    }
   ],
   "source": [
    "word=input(\"Enter the string: \")  # input by user\n",
    "\n",
    "# check if the words fulfil the condition or not\n",
    "\n",
    "if (word==word[: : -1]):        ## Given input order is equal to the reverse order\n",
    "    print(\"Is is a palindrome string\")\n",
    "else:\n",
    "    print(\"Is is not a palidrome string\")"
   ]
  },
  {
   "cell_type": "raw",
   "metadata": {},
   "source": [
    "the statement to check the given string is equal to the reverse of that or not."
   ]
  },
  {
   "cell_type": "code",
   "execution_count": 12,
   "metadata": {},
   "outputs": [
    {
     "name": "stdout",
     "output_type": "stream",
     "text": [
      " enter the string: radar\n",
      "reverse order: r\n",
      "reverse order: ar\n",
      "reverse order: dar\n",
      "reverse order: adar\n",
      "reverse order: radar\n",
      " this is a palidrome string\n"
     ]
    }
   ],
   "source": [
    "words = input(\" enter the string: \")\n",
    "collect=\"\"\n",
    "for i in words:\n",
    "    collect=i+collect\n",
    "    print(\"reverse order:\",collect)\n",
    "if(words==collect):\n",
    "    print(\" this is a palidrome string\")\n",
    "else:\n",
    "    print(\"this is not a palidrome string\")"
   ]
  },
  {
   "cell_type": "raw",
   "metadata": {},
   "source": [
    "Explanation:  the \"input\" character of string is taken one by one and stored in an empty variable (i.e; collect) as of now. After storing all the characters, a comparison of both the string is done to check whether it is palindrome or not."
   ]
  },
  {
   "cell_type": "markdown",
   "metadata": {},
   "source": [
    "(5) Create a program that takes a string as input and removes all the spaces from it. Print the modified string without spaces."
   ]
  },
  {
   "cell_type": "code",
   "execution_count": 27,
   "metadata": {},
   "outputs": [
    {
     "name": "stdout",
     "output_type": "stream",
     "text": [
      "enter the string: is is quite at night than morning\n"
     ]
    }
   ],
   "source": [
    "s= input(\"enter the string: \")"
   ]
  },
  {
   "cell_type": "code",
   "execution_count": 28,
   "metadata": {},
   "outputs": [
    {
     "name": "stdout",
     "output_type": "stream",
     "text": [
      "String after modifying:  isisquiteatnightthanmorning\n"
     ]
    }
   ],
   "source": [
    "# count number of spaces in a string\n",
    "t=s.count(\" \")\n",
    "for i in range(t):\n",
    "    s=s.replace(\" \",\"\")\n",
    "print(\"String after modifying: \",s)"
   ]
  },
  {
   "cell_type": "raw",
   "metadata": {},
   "source": [
    "Explanation: whitespace from the string has been removed by using replace(). The whitespaces has been replaced with empty string."
   ]
  }
 ],
 "metadata": {
  "kernelspec": {
   "display_name": "Python 3",
   "language": "python",
   "name": "python3"
  },
  "language_info": {
   "codemirror_mode": {
    "name": "ipython",
    "version": 3
   },
   "file_extension": ".py",
   "mimetype": "text/x-python",
   "name": "python",
   "nbconvert_exporter": "python",
   "pygments_lexer": "ipython3",
   "version": "3.8.5"
  }
 },
 "nbformat": 4,
 "nbformat_minor": 4
}
