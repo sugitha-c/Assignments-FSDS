{
 "cells": [
  {
   "cell_type": "markdown",
   "metadata": {},
   "source": [
    "#    Basic"
   ]
  },
  {
   "cell_type": "markdown",
   "metadata": {},
   "source": [
    "1. Write a Python program to check if a given number is positive or negative."
   ]
  },
  {
   "cell_type": "code",
   "execution_count": 3,
   "metadata": {},
   "outputs": [
    {
     "name": "stdout",
     "output_type": "stream",
     "text": [
      "enter a number:-2\n",
      "negative\n"
     ]
    }
   ],
   "source": [
    "a=int(input(\"enter a number:\"))\n",
    "if a>0:\n",
    "    print(\"positive\")\n",
    "else:\n",
    "        print(\"negative\")"
   ]
  },
  {
   "cell_type": "markdown",
   "metadata": {},
   "source": [
    "2. Create a program that determines if a person is eligible to vote based on their age.\n"
   ]
  },
  {
   "cell_type": "code",
   "execution_count": 5,
   "metadata": {},
   "outputs": [
    {
     "name": "stdout",
     "output_type": "stream",
     "text": [
      "enter a number:12\n",
      "age is below 18\n"
     ]
    }
   ],
   "source": [
    "age=int(input(\"enter a number:\"))\n",
    "if age>=18:\n",
    "    print(\"eligible to vote\")\n",
    "else:\n",
    "    print(\"age is below 18\")"
   ]
  },
  {
   "cell_type": "markdown",
   "metadata": {},
   "source": [
    "3. Develop a program to find the maximum of two numbers using if-else statements.\n"
   ]
  },
  {
   "cell_type": "code",
   "execution_count": 7,
   "metadata": {},
   "outputs": [
    {
     "name": "stdout",
     "output_type": "stream",
     "text": [
      "a2 is greater\n"
     ]
    }
   ],
   "source": [
    "a1=100\n",
    "a2=200\n",
    "if a1>a2:\n",
    "    print(\"a1 is greater\")\n",
    "else:\n",
    "    print(\"a2 is greater\")"
   ]
  },
  {
   "cell_type": "markdown",
   "metadata": {},
   "source": [
    "4. Write a Python script to classify a given year as a leap year or not.\n"
   ]
  },
  {
   "cell_type": "code",
   "execution_count": 39,
   "metadata": {},
   "outputs": [
    {
     "name": "stdout",
     "output_type": "stream",
     "text": [
      "enter the year:2016\n",
      "2016 is a leap year\n"
     ]
    }
   ],
   "source": [
    "a=int(input ('enter the year:'))\n",
    "if (a%4==0 and a%100!=0 or a%400==0):\n",
    "    print(a,'is a leap year')\n",
    "else:\n",
    "        print(a,'is not a leap year')"
   ]
  },
  {
   "cell_type": "markdown",
   "metadata": {},
   "source": [
    "5. Create a program that checks whether a character is a vowel or a consonant.\n"
   ]
  },
  {
   "cell_type": "code",
   "execution_count": 9,
   "metadata": {},
   "outputs": [
    {
     "name": "stdout",
     "output_type": "stream",
     "text": [
      "enter a character: b\n",
      "character is not a vowel\n"
     ]
    }
   ],
   "source": [
    "a1=input(\"enter a character: \")\n",
    "a1.lower()\n",
    "if a1==\"a\" or a1==\"e\" or a1==\"i\" or a1==\"o\" or a1==\"u\":\n",
    "    print(\"character is a vowel\")\n",
    "else:\n",
    "    print(\"character is not a vowel\")"
   ]
  },
  {
   "cell_type": "markdown",
   "metadata": {},
   "source": [
    "6. Implement a program to determine whether a given number is even or odd.\n"
   ]
  },
  {
   "cell_type": "code",
   "execution_count": 12,
   "metadata": {},
   "outputs": [
    {
     "name": "stdout",
     "output_type": "stream",
     "text": [
      "enter a number:5\n",
      "odd number\n"
     ]
    }
   ],
   "source": [
    "num=int(input(\"enter a number:\"))\n",
    "if num%2==0:\n",
    "    print(\"even number\")\n",
    "else:\n",
    "    print(\"odd number\")"
   ]
  },
  {
   "cell_type": "markdown",
   "metadata": {},
   "source": [
    "7. Write a Python function to calculate the absolute value of a number without using the `abs()` function.\n"
   ]
  },
  {
   "cell_type": "code",
   "execution_count": 24,
   "metadata": {},
   "outputs": [
    {
     "name": "stdout",
     "output_type": "stream",
     "text": [
      "10\n",
      "20\n"
     ]
    }
   ],
   "source": [
    "def my_abs(value):\n",
    "    if value>=0:\n",
    "        return(value)\n",
    "    else:\n",
    "        return(value*-1)\n",
    "        \n",
    "print(my_abs(10))\n",
    "print(my_abs(-20))"
   ]
  },
  {
   "cell_type": "markdown",
   "metadata": {},
   "source": [
    "8. Develop a program that determines the largest of three given numbers using if-else statements.\n"
   ]
  },
  {
   "cell_type": "code",
   "execution_count": 33,
   "metadata": {},
   "outputs": [
    {
     "name": "stdout",
     "output_type": "stream",
     "text": [
      "enter a number:10\n",
      "enter a number:20\n",
      "enter a number:5\n",
      "largest is n2\n"
     ]
    }
   ],
   "source": [
    "n1=int(input(\"enter a number:\"))\n",
    "n2=int(input(\"enter a number:\"))\n",
    "n3=int(input(\"enter a number:\"))\n",
    "\n",
    "if n1>n2 and n1>n3:\n",
    "    print(\"largest is n1\")\n",
    "if n2>n1 and n2>n3:\n",
    "    print(\"largest is n2\")\n",
    "if n3>n1 and n3>n2:\n",
    "    print(\"largest is n3\")"
   ]
  },
  {
   "cell_type": "markdown",
   "metadata": {},
   "source": [
    "9. Create a program that checks if a given string is a palindrome.\n"
   ]
  },
  {
   "cell_type": "code",
   "execution_count": 13,
   "metadata": {},
   "outputs": [
    {
     "name": "stdout",
     "output_type": "stream",
     "text": [
      "enter a string: malayalam\n",
      "malayalam is a palindrome\n"
     ]
    }
   ],
   "source": [
    "string=input(\"enter a string: \")\n",
    "if (string==string[::-1]):\n",
    "    print(string,\"is a palindrome\")\n",
    "else:\n",
    "    print(string,\"is not a palindrome\")\n",
    "    "
   ]
  },
  {
   "cell_type": "markdown",
   "metadata": {},
   "source": [
    "10. Write a Python program to calculate the grade based on a student's score."
   ]
  },
  {
   "cell_type": "code",
   "execution_count": 7,
   "metadata": {},
   "outputs": [
    {
     "name": "stdout",
     "output_type": "stream",
     "text": [
      "enter a score value:34\n",
      "Grade C\n"
     ]
    }
   ],
   "source": [
    "score=int(input(\"enter a score value:\"))\n",
    "if score>=90:\n",
    "    print(\"Grade O+\")\n",
    "elif score>=70 and score<90:\n",
    "    print(\"Grade A\")\n",
    "elif score>=50 and score<70:\n",
    "    print(\"Grade B\")\n",
    "else:\n",
    "    print(\"Grade C\")\n",
    "    "
   ]
  },
  {
   "cell_type": "markdown",
   "metadata": {},
   "source": [
    "# Nested if else statement"
   ]
  },
  {
   "cell_type": "markdown",
   "metadata": {},
   "source": [
    "11. Write a program to find the largest among three numbers using nested if-else statements."
   ]
  },
  {
   "cell_type": "code",
   "execution_count": 32,
   "metadata": {},
   "outputs": [
    {
     "name": "stdout",
     "output_type": "stream",
     "text": [
      "enter a number:45\n",
      "enter a number:55\n",
      "enter a number:200\n",
      "largest is n3\n"
     ]
    }
   ],
   "source": [
    "n1=int(input(\"enter a number:\"))\n",
    "n2=int(input(\"enter a number:\"))\n",
    "n3=int(input(\"enter a number:\"))\n",
    "\n",
    "if n1>n2:\n",
    "    print(\"largest is n1\")\n",
    "elif n2>n3:\n",
    "    print(\"largest is n2\")\n",
    "else:\n",
    "    print(\"largest is n3\")"
   ]
  },
  {
   "cell_type": "markdown",
   "metadata": {},
   "source": [
    "12. Implement a program to determine if a triangle is equilateral, isosceles, or scalene.\n"
   ]
  },
  {
   "cell_type": "code",
   "execution_count": 46,
   "metadata": {},
   "outputs": [
    {
     "name": "stdout",
     "output_type": "stream",
     "text": [
      "scalene triangle\n"
     ]
    }
   ],
   "source": [
    "def checkTriangle(x,y,z):\n",
    "    if x==y==z:\n",
    "        print(\"equilateral triangle\")\n",
    "    elif x==y or y==z or z==x:\n",
    "        print(\"Isosceles triangle\")\n",
    "    else:\n",
    "        print(\"scalene triangle\")\n",
    "        \n",
    "checkTriangle(8,7,9)"
   ]
  },
  {
   "cell_type": "markdown",
   "metadata": {},
   "source": [
    "13. Develop a program that checks if a year is a leap year and also if it is a century year.\n"
   ]
  },
  {
   "cell_type": "code",
   "execution_count": 44,
   "metadata": {},
   "outputs": [
    {
     "name": "stdout",
     "output_type": "stream",
     "text": [
      "enter a year:2016\n",
      "it is a leap year and a century year\n"
     ]
    }
   ],
   "source": [
    "i=int(input(\"enter a year:\"))\n",
    "\n",
    "if (i%4==0 and i%100!=0 or i%400==0):\n",
    "    print(\"it is a leap year and a century year\")\n",
    "else:\n",
    "    print(\"not a century year\")\n",
    "    \n",
    "#if (i%4==0 and i%100==0 or i%400!=0):\n",
    " #   print(\"century year\")\n",
    "\n",
    "    "
   ]
  },
  {
   "cell_type": "markdown",
   "metadata": {},
   "source": [
    "14. Write a Python script to determine if a number is positive, negative, or zero.\n"
   ]
  },
  {
   "cell_type": "code",
   "execution_count": 49,
   "metadata": {},
   "outputs": [
    {
     "name": "stdout",
     "output_type": "stream",
     "text": [
      "enter a number: -9\n",
      "negative\n"
     ]
    }
   ],
   "source": [
    "num=int(input(\"enter a number: \"))\n",
    "if num>0:\n",
    "    print(\"positive\")\n",
    "elif num==0:\n",
    "    print(\"zero\")\n",
    "else:\n",
    "    print(\"negative\")"
   ]
  },
  {
   "cell_type": "markdown",
   "metadata": {},
   "source": [
    "15. Create a program to check if a person is a teenager (between 13 and 19 years old).\n"
   ]
  },
  {
   "cell_type": "code",
   "execution_count": 56,
   "metadata": {},
   "outputs": [
    {
     "name": "stdout",
     "output_type": "stream",
     "text": [
      "enter a number:15\n",
      "person is a teenager\n"
     ]
    }
   ],
   "source": [
    "age=int(input(\"enter a number:\"))\n",
    "if age>=13 and age<=19:\n",
    "    print(\"person is a teenager\")\n",
    "else:\n",
    "     print(\"person is not a teenager\")          "
   ]
  },
  {
   "cell_type": "markdown",
   "metadata": {},
   "source": [
    "16. Develop a program that determines the type of angle based on its measure (acute, obtuse, or right).\n"
   ]
  },
  {
   "cell_type": "code",
   "execution_count": 17,
   "metadata": {},
   "outputs": [],
   "source": [
    "def angle_type(a,b,c):\n",
    "    a_sq=pow(a,2) # a**2\n",
    "    b_sq=pow(b,2)\n",
    "    c_sq=pow(c,2)\n",
    "    if (c_sq==a_sq+b_sq or b_sq==c_sq+b_sq or a_sq==c_sq+b_sq ): # c**2=a**2+b**2\n",
    "        print(\"right angle \")\n",
    "    elif (c_sq>a_sq+b_sq or b_sq>c_sq+b_sq or a_sq>c_sq+b_sq ): # c**2>a**2+b**2\n",
    "        print(\"Obtuse angle \")\n",
    "    else:\n",
    "        print(\"Acute angle \") ## c**2<a**2+b**2"
   ]
  },
  {
   "cell_type": "code",
   "execution_count": 18,
   "metadata": {},
   "outputs": [
    {
     "name": "stdout",
     "output_type": "stream",
     "text": [
      "right angle \n"
     ]
    }
   ],
   "source": [
    "angle_type(10,6,8)"
   ]
  },
  {
   "cell_type": "code",
   "execution_count": 19,
   "metadata": {},
   "outputs": [
    {
     "name": "stdout",
     "output_type": "stream",
     "text": [
      "Acute angle \n"
     ]
    }
   ],
   "source": [
    "angle_type(5,7,8)"
   ]
  },
  {
   "cell_type": "code",
   "execution_count": 20,
   "metadata": {},
   "outputs": [
    {
     "name": "stdout",
     "output_type": "stream",
     "text": [
      "Obtuse angle \n"
     ]
    }
   ],
   "source": [
    "angle_type(12,7,3)"
   ]
  },
  {
   "cell_type": "markdown",
   "metadata": {},
   "source": [
    "17. Write a Python program to calculate the roots of a quadratic equation.\n"
   ]
  },
  {
   "cell_type": "code",
   "execution_count": 8,
   "metadata": {},
   "outputs": [],
   "source": [
    "import math"
   ]
  },
  {
   "cell_type": "code",
   "execution_count": 9,
   "metadata": {},
   "outputs": [
    {
     "name": "stdout",
     "output_type": "stream",
     "text": [
      "roots are real and same\n",
      "-2.0\n"
     ]
    }
   ],
   "source": [
    "def findroot(a,b,c):\n",
    "    if a==0:\n",
    "        print(\"invalid\")\n",
    "        return -1\n",
    "    d=b*b-4*a*c\n",
    "    sqrt_val=math.sqrt(abs(d))\n",
    "    \n",
    "    if d>0:\n",
    "        print(\"roots are real and different\")\n",
    "        print((-b+sqrt_val)/(2*a))\n",
    "        print((-b+sqrt_val)/(2*a))\n",
    "    elif d==0:\n",
    "        print(\"roots are real and same\")\n",
    "        print(-b/(2*a))\n",
    "    else:\n",
    "        print(\"roots are complex\")\n",
    "        print(-b/(2*a),\"+i\",sqrt_val)\n",
    "        print(-b/(2*a),\"-i\",sqrt_val)\n",
    "findroot(1,4,4)"
   ]
  },
  {
   "cell_type": "markdown",
   "metadata": {},
   "source": [
    "18. Implement a program to determine the day of the week based on a user-provided number (1 for Monday, 2\n",
    "for Tuesday, etc.)."
   ]
  },
  {
   "cell_type": "code",
   "execution_count": 7,
   "metadata": {},
   "outputs": [
    {
     "name": "stdout",
     "output_type": "stream",
     "text": [
      "enter a number :3\n",
      "Wednesday\n"
     ]
    }
   ],
   "source": [
    "day=int(input(\"enter a number :\"))\n",
    "\n",
    "if day==1:\n",
    "        print(\"monday\")\n",
    "elif day==2:\n",
    "        print(\"Tuesday\")\n",
    "elif day==3:\n",
    "        print(\"Wednesday\")\n",
    "elif day==4:\n",
    "        print(\"Thursday\")\n",
    "elif day==5:\n",
    "        print(\"Friday\")\n",
    "elif day==6:\n",
    "        print(\"Saturday\")\n",
    "else:\n",
    "        print(\"sunday\")\n",
    "       "
   ]
  },
  {
   "cell_type": "markdown",
   "metadata": {},
   "source": [
    "19. Create a program that determines if a year is a leap year and also if it is evenly divisible by 400.\n"
   ]
  },
  {
   "cell_type": "code",
   "execution_count": 1,
   "metadata": {},
   "outputs": [
    {
     "name": "stdout",
     "output_type": "stream",
     "text": [
      "enter a year:2016\n",
      "it is a leap year \n"
     ]
    }
   ],
   "source": [
    "i=int(input(\"enter a year:\"))\n",
    "\n",
    "if (i%4==0 or i%400==0):\n",
    "    print(\"it is a leap year \")\n",
    "else:\n",
    "    print(\"not a leap year\")"
   ]
  },
  {
   "cell_type": "markdown",
   "metadata": {},
   "source": [
    "20. Develop a program that checks if a given number is prime or not using nested if-else statements."
   ]
  },
  {
   "cell_type": "code",
   "execution_count": 12,
   "metadata": {},
   "outputs": [
    {
     "name": "stdout",
     "output_type": "stream",
     "text": [
      "enter a number:2\n",
      "2 is a prime number\n"
     ]
    }
   ],
   "source": [
    "n=int(input(\"enter a number:\"))\n",
    "\n",
    "if n>1:\n",
    "    for i in range(2,int(n/2)+1): \n",
    "        if n%i==0:\n",
    "            print(n,\"is not a prime number\")\n",
    "            break\n",
    "    else:\n",
    "            print(n,\"is a prime number\")\n",
    "            \n",
    "else:\n",
    "        print(n,\"is not a prime number\")"
   ]
  },
  {
   "cell_type": "markdown",
   "metadata": {},
   "source": [
    "# Elif statement"
   ]
  },
  {
   "cell_type": "markdown",
   "metadata": {},
   "source": [
    "21. Write a Python program to assign grades based on different ranges of scores using elif statements."
   ]
  },
  {
   "cell_type": "code",
   "execution_count": 14,
   "metadata": {},
   "outputs": [
    {
     "name": "stdout",
     "output_type": "stream",
     "text": [
      "enter a score value:54\n",
      "Grade B\n"
     ]
    }
   ],
   "source": [
    "score=int(input(\"enter a score value:\"))\n",
    "if score>=90:\n",
    "    print(\"Grade O+\")\n",
    "elif score>=70 and score<90:\n",
    "    print(\"Grade A\")\n",
    "elif score>=50 and score<70:\n",
    "    print(\"Grade B\")\n",
    "else:\n",
    "    print(\"Grade C\")"
   ]
  },
  {
   "cell_type": "markdown",
   "metadata": {},
   "source": [
    "22. Implement a program to determine the type of a triangle based on its angles.\n"
   ]
  },
  {
   "cell_type": "code",
   "execution_count": 31,
   "metadata": {},
   "outputs": [
    {
     "name": "stdout",
     "output_type": "stream",
     "text": [
      "enter the first angle: 45\n",
      "enter the second angle: 45\n",
      "enter the third angle: 45\n",
      "equilateral triangle\n"
     ]
    }
   ],
   "source": [
    "# import math\n",
    "x=int(input('enter the first angle: '))\n",
    "# print(\"degrees(x):\",math.degrees(x))\n",
    "y=int(input('enter the second angle: '))\n",
    "# print(\"degrees(y):\",math.degrees(y))\n",
    "z=int(input('enter the third angle: '))\n",
    "# print(\"degrees(z):\",math.degrees(z))\n",
    "\n",
    "\n",
    "if x==y==z:\n",
    "    print(\"equilateral triangle\")\n",
    "elif x==y or y==z or x==z:\n",
    "    print(\"Isosceles triangle\")\n",
    "else:\n",
    "    print(\"scalene triangle\")\n"
   ]
  },
  {
   "cell_type": "markdown",
   "metadata": {},
   "source": [
    "23. Develop a program to categorize a given person's BMI into underweight, normal, overweight, or obese using\n",
    "elif statements."
   ]
  },
  {
   "cell_type": "code",
   "execution_count": 39,
   "metadata": {},
   "outputs": [
    {
     "name": "stdout",
     "output_type": "stream",
     "text": [
      "BMI of a person:30\n",
      "obese\n"
     ]
    }
   ],
   "source": [
    "BMI=float(input(\"BMI of a person:\"))\n",
    "\n",
    "if BMI<18.5:\n",
    "    print(\"Under weight \")\n",
    "elif (BMI>=18.5 and BMI<24.9):\n",
    "    print(\"Normal\")\n",
    "elif (BMI>=20.0 and BMI<29.9):\n",
    "    print(\"overweight\")\n",
    "else:\n",
    "    print(\"obese\")\n",
    "    "
   ]
  },
  {
   "cell_type": "markdown",
   "metadata": {},
   "source": [
    "24. Create a program that determines whether a given number is positive, negative, or zero using elif\n",
    "statements."
   ]
  },
  {
   "cell_type": "code",
   "execution_count": 15,
   "metadata": {},
   "outputs": [
    {
     "name": "stdout",
     "output_type": "stream",
     "text": [
      "enter a number: 5\n",
      "positive\n"
     ]
    }
   ],
   "source": [
    "num=int(input(\"enter a number: \"))\n",
    "if num>0:\n",
    "    print(\"positive\")\n",
    "elif num==0:\n",
    "    print(\"zero\")\n",
    "else:\n",
    "    print(\"negative\")"
   ]
  },
  {
   "cell_type": "markdown",
   "metadata": {},
   "source": [
    "25. Write a Python script to determine the type of a character (uppercase, lowercase, or special) using elif\n",
    "statements."
   ]
  },
  {
   "cell_type": "code",
   "execution_count": 23,
   "metadata": {},
   "outputs": [
    {
     "name": "stdout",
     "output_type": "stream",
     "text": [
      "enter a character: hello\n",
      "lower\n"
     ]
    }
   ],
   "source": [
    "characters= input(\"enter a character: \")\n",
    "import re\n",
    "if re.match(r'[a-z]+',characters):\n",
    "    print(\"lower\")\n",
    "elif re.match(r'[A-Z]+',characters):\n",
    "    print(\"upper\")\n",
    "elif re.match(r'[0-9]+',characters):\n",
    "    print(\"digit\")\n",
    "else:\n",
    "    print(characters,\"is non alphanumeric\")"
   ]
  },
  {
   "cell_type": "markdown",
   "metadata": {},
   "source": [
    "26. Implement a program to calculate the discounted price based on different purchase amounts using elif\n",
    "statements."
   ]
  },
  {
   "cell_type": "code",
   "execution_count": 26,
   "metadata": {},
   "outputs": [
    {
     "name": "stdout",
     "output_type": "stream",
     "text": [
      "enter the amount:2000\n",
      "the price of product is 1400.0\n"
     ]
    }
   ],
   "source": [
    "product_price=int(input(\"enter the amount:\"))\n",
    "\n",
    "if product_price>3000:\n",
    "    print(\"the price of product is {}\".format(product_price*0.8)) # 20% discount\n",
    "elif product_price>=2000 and product_price<=3000:\n",
    "    print(\"the price of product is {}\".format(product_price*0.7)) # 30% discount\n",
    "elif product_price>=1000 and product_price<2000:\n",
    "    print(\"the price of product is {}\".format(product_price*0.6)) # 40% discount\n",
    "else:\n",
    "    print(\"lets drink tea\")\n",
    "    "
   ]
  },
  {
   "cell_type": "markdown",
   "metadata": {},
   "source": [
    "27. Develop a program to calculate the electricity bill based on different consumption slabs using elif\n",
    "statements."
   ]
  },
  {
   "cell_type": "code",
   "execution_count": 1,
   "metadata": {},
   "outputs": [
    {
     "name": "stdout",
     "output_type": "stream",
     "text": [
      "Enter your unit: 250\n",
      "Rs: 3500 to be paid for 250 units\n"
     ]
    }
   ],
   "source": [
    "# 1 to 100 units- Rs: 10/unit\n",
    "# 100 to 200 units- Rs: 15/unit\n",
    "# 200 to 300 units- Rs: 20/unit\n",
    "# above 300 units- Rs: 25/unit\n",
    "unit=int(input(\"Enter your unit: \"))\n",
    "if unit<100:\n",
    "    bill=unit*10\n",
    "elif unit>=100 and unit<200:\n",
    "    bill=(100*10)+(unit-100)*15\n",
    "elif unit>=200 and unit<300:\n",
    "    bill=(100*10)+(100*15)+(unit-200)*20\n",
    "else:\n",
    "    bill=(100*10)+(100*15)+(100*20)+((unit-300)*25)\n",
    "    \n",
    "print(\"Rs:\",bill,\"to be paid for\",unit,\"units\")"
   ]
  },
  {
   "cell_type": "markdown",
   "metadata": {},
   "source": [
    "28. Create a program to determine the type of quadrilateral based on its angles and sides using elif\n",
    "statements."
   ]
  },
  {
   "cell_type": "code",
   "execution_count": 4,
   "metadata": {},
   "outputs": [
    {
     "ename": "SyntaxError",
     "evalue": "invalid syntax (<ipython-input-4-6750e6fbd29c>, line 1)",
     "output_type": "error",
     "traceback": [
      "\u001b[1;36m  File \u001b[1;32m\"<ipython-input-4-6750e6fbd29c>\"\u001b[1;36m, line \u001b[1;32m1\u001b[0m\n\u001b[1;33m    ===== enter the sides=====\u001b[0m\n\u001b[1;37m    ^\u001b[0m\n\u001b[1;31mSyntaxError\u001b[0m\u001b[1;31m:\u001b[0m invalid syntax\n"
     ]
    }
   ],
   "source": [
    "# ===== enter the sides=====\n",
    "side_1=input(\"enter side 1: )\n",
    "side_2=input(\"enter side 2: )\n",
    "side_3=input(\"enter side 3: )\n",
    "side_4=input(\"enter side 4: )\n",
    "             \n",
    "angle_1=input(\"enter angle 1: \")\n",
    "angle_2=input(\"enter angle 2: \")\n",
    "angle_3=input(\"enter angle 3: \")\n",
    "angle_4=input(\"enter angle 4: \")\n",
    "\n",
    "\n",
    "             \n",
    " \n",
    "    \n",
    "    \n"
   ]
  },
  {
   "cell_type": "code",
   "execution_count": null,
   "metadata": {},
   "outputs": [],
   "source": []
  },
  {
   "cell_type": "markdown",
   "metadata": {},
   "source": [
    "29. Write a Python script to determine the season based on a user-provided month using elif statements.\n"
   ]
  },
  {
   "cell_type": "code",
   "execution_count": 4,
   "metadata": {},
   "outputs": [
    {
     "name": "stdout",
     "output_type": "stream",
     "text": [
      "enter a month: january\n",
      "winter season\n"
     ]
    }
   ],
   "source": [
    "month=input(\"enter a month: \")\n",
    "\n",
    "if month in (\"februrary\",\"march\"):\n",
    "    print(\"spring season\")\n",
    "elif month in (\"april\",\"may\",\"june\"):\n",
    "    print(\"summer season\")\n",
    "elif month in (\"july\",\"augusut\",\"september\"):\n",
    "    print(\"monsoon season\")\n",
    "elif month in (\"october\",\"november\"):\n",
    "    print(\"autumn season\")\n",
    "else:\n",
    "    print(\"winter season\")"
   ]
  },
  {
   "cell_type": "markdown",
   "metadata": {},
   "source": [
    "30. Implement a program to determine the type of a year (leap or common) and month (30 or 31 days) using\n",
    "elif statements."
   ]
  },
  {
   "cell_type": "code",
   "execution_count": 3,
   "metadata": {},
   "outputs": [
    {
     "name": "stdout",
     "output_type": "stream",
     "text": [
      "enter a year 2023\n",
      "enter a month: 2\n",
      "number of days is 28\n"
     ]
    }
   ],
   "source": [
    "year=int(input(\"enter a year \"))\n",
    "month=int(input(\"enter a month: \"))\n",
    "if ((year%4==0 and year%100!=0) or (year%400==0)) and (month==2): # IF leap year then 29 days\n",
    "    print(\"leap year and number of days is 29\")\n",
    "elif month==2: # not a leap year\n",
    "    print(\"number of days is 28\")\n",
    "elif (month==1)or (month==3)or (month==5)or (month==7)or (month==8)or(month==10)or(month==12):\n",
    "    print(\"number of days is 31\")\n",
    "else:\n",
    "\n",
    "    print(\"number of days 30\")"
   ]
  },
  {
   "cell_type": "markdown",
   "metadata": {},
   "source": [
    "# Basic level"
   ]
  },
  {
   "cell_type": "markdown",
   "metadata": {},
   "source": [
    "1. Write a Python program that checks if a given number is positive, negative, or zero."
   ]
  },
  {
   "cell_type": "code",
   "execution_count": 5,
   "metadata": {},
   "outputs": [
    {
     "name": "stdout",
     "output_type": "stream",
     "text": [
      "enter a number:3\n",
      "positive\n"
     ]
    }
   ],
   "source": [
    "a=int(input(\"enter a number:\"))\n",
    "if a>0:\n",
    "    print(\"positive\")\n",
    "elif a==0:\n",
    "    print(\"zero\")\n",
    "else:\n",
    "    print(\"negative\")"
   ]
  },
  {
   "cell_type": "markdown",
   "metadata": {},
   "source": [
    "2. Create a program to determine if a person is eligible to vote based on their age.\n"
   ]
  },
  {
   "cell_type": "code",
   "execution_count": 6,
   "metadata": {},
   "outputs": [
    {
     "name": "stdout",
     "output_type": "stream",
     "text": [
      "enter a number:19\n",
      "eligible to vote\n"
     ]
    }
   ],
   "source": [
    "age=int(input(\"enter a number:\"))\n",
    "if age>=18:\n",
    "    print(\"eligible to vote\")\n",
    "else:\n",
    "    print(\"age is below 18\")"
   ]
  },
  {
   "cell_type": "markdown",
   "metadata": {},
   "source": [
    "3. Write a program to find the maximum of two given numbers using conditional statements.\n"
   ]
  },
  {
   "cell_type": "code",
   "execution_count": 7,
   "metadata": {},
   "outputs": [
    {
     "name": "stdout",
     "output_type": "stream",
     "text": [
      "a2 is greater\n"
     ]
    }
   ],
   "source": [
    "a1=100\n",
    "a2=200\n",
    "if a1>a2:\n",
    "    print(\"a1 is greater\")\n",
    "else:\n",
    "    print(\"a2 is greater\")"
   ]
  },
  {
   "cell_type": "markdown",
   "metadata": {},
   "source": [
    "4. Develop a program that calculates the grade of a student based on their exam score.\n"
   ]
  },
  {
   "cell_type": "code",
   "execution_count": 8,
   "metadata": {},
   "outputs": [
    {
     "name": "stdout",
     "output_type": "stream",
     "text": [
      "enter a score value:87\n",
      "Grade A\n"
     ]
    }
   ],
   "source": [
    "score=int(input(\"enter a score value:\"))\n",
    "if score>=90:\n",
    "    print(\"Grade O+\")\n",
    "elif score>=70 and score<90:\n",
    "    print(\"Grade A\")\n",
    "elif score>=50 and score<70:\n",
    "    print(\"Grade B\")\n",
    "else:\n",
    "    print(\"Grade C\")\n",
    "    "
   ]
  },
  {
   "cell_type": "markdown",
   "metadata": {},
   "source": [
    "5. Create a program that checks if a year is a leap year or not.\n"
   ]
  },
  {
   "cell_type": "code",
   "execution_count": 9,
   "metadata": {},
   "outputs": [
    {
     "name": "stdout",
     "output_type": "stream",
     "text": [
      "enter the year:2016\n",
      "2016 is a leap year\n"
     ]
    }
   ],
   "source": [
    "a=int(input ('enter the year:'))\n",
    "if (a%4==0 and a%100!=0 or a%400==0):\n",
    "    print(a,'is a leap year')\n",
    "else:\n",
    "        print(a,'is not a leap year')"
   ]
  },
  {
   "cell_type": "markdown",
   "metadata": {},
   "source": [
    "6. Write a program to classify a triangle based on its sides' lengths.\n"
   ]
  },
  {
   "cell_type": "code",
   "execution_count": 18,
   "metadata": {},
   "outputs": [
    {
     "name": "stdout",
     "output_type": "stream",
     "text": [
      "scalene triangle\n"
     ]
    }
   ],
   "source": [
    "def checkTriangle(x,y,z):\n",
    "    if x==y==z:\n",
    "        print(\"equilateral triangle\")\n",
    "    elif x==y or y==z or z==x:\n",
    "        print(\"Isosceles triangle\")\n",
    "    else:\n",
    "        print(\"scalene triangle\")\n",
    "        \n",
    "checkTriangle(8,7,9)"
   ]
  },
  {
   "cell_type": "markdown",
   "metadata": {},
   "source": [
    "7. Build a program that determines the largest of three given numbers.\n"
   ]
  },
  {
   "cell_type": "code",
   "execution_count": 10,
   "metadata": {},
   "outputs": [
    {
     "name": "stdout",
     "output_type": "stream",
     "text": [
      "enter a number:23\n",
      "enter a number:35\n",
      "enter a number:21\n",
      "largest is n2\n"
     ]
    }
   ],
   "source": [
    "n1=int(input(\"enter a number:\"))\n",
    "n2=int(input(\"enter a number:\"))\n",
    "n3=int(input(\"enter a number:\"))\n",
    "\n",
    "if n1>n2 and n1>n3:\n",
    "    print(\"largest is n1\")\n",
    "if n2>n1 and n2>n3:\n",
    "    print(\"largest is n2\")\n",
    "if n3>n1 and n3>n2:\n",
    "    print(\"largest is n3\")"
   ]
  },
  {
   "cell_type": "markdown",
   "metadata": {},
   "source": [
    "8. Develop a program that checks whether a character is a vowel or a consonant.\n"
   ]
  },
  {
   "cell_type": "code",
   "execution_count": 12,
   "metadata": {},
   "outputs": [
    {
     "name": "stdout",
     "output_type": "stream",
     "text": [
      "enter a character: e\n",
      "character is a vowel\n"
     ]
    }
   ],
   "source": [
    "a1=input(\"enter a character: \")\n",
    "a1.lower()\n",
    "if a1==\"a\" or a1==\"e\" or a1==\"i\" or a1==\"o\" or a1==\"u\":\n",
    "    print(\"character is a vowel\")\n",
    "else:\n",
    "    print(\"character is not a vowel\")"
   ]
  },
  {
   "cell_type": "markdown",
   "metadata": {},
   "source": [
    "9. Create a program to calculate the total cost of a shopping cart based on discounts.\n"
   ]
  },
  {
   "cell_type": "code",
   "execution_count": 13,
   "metadata": {},
   "outputs": [
    {
     "name": "stdout",
     "output_type": "stream",
     "text": [
      "enter the amount:2500\n",
      "the price of product is 1750.0\n"
     ]
    }
   ],
   "source": [
    "product_price=int(input(\"enter the amount:\"))\n",
    "\n",
    "if product_price>3000:\n",
    "    print(\"the price of product is {}\".format(product_price*0.8)) \n",
    "elif product_price>=2000 and product_price<=3000:\n",
    "    print(\"the price of product is {}\".format(product_price*0.7))\n",
    "elif product_price>=1000 and product_price<2000:\n",
    "    print(\"the price of product is {}\".format(product_price*0.6))\n",
    "else:\n",
    "    print(\"lets drink tea\")"
   ]
  },
  {
   "cell_type": "markdown",
   "metadata": {},
   "source": [
    "10. Write a program that checks if a given number is even or odd."
   ]
  },
  {
   "cell_type": "code",
   "execution_count": 15,
   "metadata": {},
   "outputs": [
    {
     "name": "stdout",
     "output_type": "stream",
     "text": [
      "enter a number: 3\n",
      "odd number\n"
     ]
    }
   ],
   "source": [
    "a=int(input(\"enter a number: \"))\n",
    "if a%2==0:\n",
    "    print(\"even number\")\n",
    "else:\n",
    "    print(\"odd number\")"
   ]
  },
  {
   "cell_type": "markdown",
   "metadata": {},
   "source": [
    "# Intermediate level"
   ]
  },
  {
   "cell_type": "markdown",
   "metadata": {},
   "source": [
    "11. Write a program that calculates the roots of a quadratic equation ."
   ]
  },
  {
   "cell_type": "code",
   "execution_count": 24,
   "metadata": {},
   "outputs": [
    {
     "name": "stdout",
     "output_type": "stream",
     "text": [
      "roots are real and same\n",
      "-2.0\n"
     ]
    }
   ],
   "source": [
    "import math\n",
    "\n",
    "def findroot(a,b,c):\n",
    "    if a==0:\n",
    "        print(\"invalid\")\n",
    "        return -1\n",
    "    d=b*b-4*a*c\n",
    "    sqrt_val=math.sqrt(abs(d))\n",
    "    \n",
    "    if d>0:\n",
    "        print(\"roots are real and different\")\n",
    "        print((-b+sqrt_val)/(2*a))\n",
    "        print((-b+sqrt_val)/(2*a))\n",
    "    elif d==0:\n",
    "        print(\"roots are real and same\")\n",
    "        print(-b/(2*a))\n",
    "    else:\n",
    "        print(\"roots are complex\")\n",
    "        print(-b/(2*a),\"+i\",sqrt_val)\n",
    "        print(-b/(2*a),\"-i\",sqrt_val)\n",
    "findroot(1,4,4)"
   ]
  },
  {
   "cell_type": "markdown",
   "metadata": {},
   "source": [
    "12. Create a program that determines the day of the week based on the day number (1-7).\n"
   ]
  },
  {
   "cell_type": "code",
   "execution_count": 19,
   "metadata": {},
   "outputs": [
    {
     "name": "stdout",
     "output_type": "stream",
     "text": [
      "enter a number :3\n",
      "Wednesday\n"
     ]
    }
   ],
   "source": [
    "day=int(input(\"enter a number :\"))\n",
    "\n",
    "if day==1:\n",
    "        print(\"monday\")\n",
    "elif day==2:\n",
    "        print(\"Tuesday\")\n",
    "elif day==3:\n",
    "        print(\"Wednesday\")\n",
    "elif day==4:\n",
    "        print(\"Thursday\")\n",
    "elif day==5:\n",
    "        print(\"Friday\")\n",
    "elif day==6:\n",
    "        print(\"Saturday\")\n",
    "else:\n",
    "        print(\"sunday\")\n",
    "       "
   ]
  },
  {
   "cell_type": "markdown",
   "metadata": {},
   "source": [
    "13. Develop a program that calculates the factorial of a given number using recursion.\n"
   ]
  },
  {
   "cell_type": "code",
   "execution_count": 22,
   "metadata": {},
   "outputs": [],
   "source": [
    "def fact(n):\n",
    "    if n==0:\n",
    "        return 1\n",
    "    else:\n",
    "        return n*fact(n-1)"
   ]
  },
  {
   "cell_type": "code",
   "execution_count": 23,
   "metadata": {},
   "outputs": [
    {
     "data": {
      "text/plain": [
       "120"
      ]
     },
     "execution_count": 23,
     "metadata": {},
     "output_type": "execute_result"
    }
   ],
   "source": [
    "fact(5)"
   ]
  },
  {
   "cell_type": "markdown",
   "metadata": {},
   "source": [
    "14. Write a program to find the largest among three numbers without using the `max()` function.\n"
   ]
  },
  {
   "cell_type": "code",
   "execution_count": 20,
   "metadata": {},
   "outputs": [
    {
     "name": "stdout",
     "output_type": "stream",
     "text": [
      "enter a number:10\n",
      "enter a number:20\n",
      "enter a number:12\n",
      "largest is n2\n"
     ]
    }
   ],
   "source": [
    "n1=int(input(\"enter a number:\"))\n",
    "n2=int(input(\"enter a number:\"))\n",
    "n3=int(input(\"enter a number:\"))\n",
    "\n",
    "if n1>n2 and n1>n3:\n",
    "    print(\"largest is n1\")\n",
    "if n2>n1 and n2>n3:\n",
    "    print(\"largest is n2\")\n",
    "if n3>n1 and n3>n2:\n",
    "    print(\"largest is n3\")"
   ]
  },
  {
   "cell_type": "markdown",
   "metadata": {},
   "source": [
    "15. Create a program that simulates a basic ATM transaction menu.\n"
   ]
  },
  {
   "cell_type": "code",
   "execution_count": 27,
   "metadata": {},
   "outputs": [
    {
     "name": "stdout",
     "output_type": "stream",
     "text": [
      "enter the amount for transaction: 100\n",
      "take the cash\n"
     ]
    }
   ],
   "source": [
    "amount=int(input(\"enter the amount for transaction: \"))\n",
    "\n",
    "if amount!=0:\n",
    "    print(\"take the cash\")\n",
    "else:\n",
    "    print(\"ATM has no money, need to refill\")"
   ]
  },
  {
   "cell_type": "markdown",
   "metadata": {},
   "source": [
    "16. Build a program that checks if a given string is a palindrome or not.\n"
   ]
  },
  {
   "cell_type": "code",
   "execution_count": 25,
   "metadata": {},
   "outputs": [
    {
     "name": "stdout",
     "output_type": "stream",
     "text": [
      "enter a string: radar\n",
      "radar is a  palindrome\n"
     ]
    }
   ],
   "source": [
    "a=input(\"enter a string: \")\n",
    "if (a==a[::-1]):\n",
    "    print(a,\"is a  palindrome\")\n",
    "else:\n",
    "    print(a,\"is not a palindrome\")"
   ]
  },
  {
   "cell_type": "markdown",
   "metadata": {},
   "source": [
    "17. Write a program that calculates the average of a list of numbers, excluding the smallest and largest values.\n"
   ]
  },
  {
   "cell_type": "code",
   "execution_count": 10,
   "metadata": {},
   "outputs": [
    {
     "name": "stdout",
     "output_type": "stream",
     "text": [
      "25000.0\n"
     ]
    }
   ],
   "source": [
    "def centered_average(salary):\n",
    "    salary.remove(min(salary))\n",
    "    salary.remove(max(salary))\n",
    "    return sum(salary)/len(salary)\n",
    "salary=[8000,15000,25000,35000,250000]\n",
    "print(centered_average(salary))"
   ]
  },
  {
   "cell_type": "markdown",
   "metadata": {},
   "source": [
    "18. Develop a program that converts a given temperature from Celsius to Fahrenheit.\n"
   ]
  },
  {
   "cell_type": "code",
   "execution_count": 5,
   "metadata": {},
   "outputs": [
    {
     "name": "stdout",
     "output_type": "stream",
     "text": [
      "enter a temp:20\n",
      "68.0 in Fahrenheit\n"
     ]
    }
   ],
   "source": [
    "c_temp=float(input(\"enter a temp:\"))\n",
    "fahrenheit=(c_temp*1.8)+32\n",
    "print(fahrenheit,\"in Fahrenheit\")"
   ]
  },
  {
   "cell_type": "markdown",
   "metadata": {},
   "source": [
    "19. Create a program that simulates a basic calculator for addition, subtraction, multiplication, and division.\n"
   ]
  },
  {
   "cell_type": "code",
   "execution_count": null,
   "metadata": {},
   "outputs": [],
   "source": [
    "a=int(input(\"enter a number,a: \"))\n",
    "b=int(input(\"enter a number,b: \"))\n",
    "operator=input(\"enter the operator: \")\n",
    "if operator==\"+\":\n",
    "    print(a+b)\n",
    "elif operator==\"-\":\n",
    "    print(a-b)\n",
    "elif operator==\"/\":\n",
    "    print(a/b)\n",
    "elif operator==\"*\":\n",
    "    print(a*b)\n",
    "else:\n",
    "    print(\"operator not defined\")\n"
   ]
  },
  {
   "cell_type": "markdown",
   "metadata": {},
   "source": [
    "20. Write a program that determines the roots of a cubic equation using the Cardano formula."
   ]
  },
  {
   "cell_type": "code",
   "execution_count": null,
   "metadata": {},
   "outputs": [],
   "source": []
  },
  {
   "cell_type": "markdown",
   "metadata": {},
   "source": [
    "# Advance level"
   ]
  },
  {
   "cell_type": "markdown",
   "metadata": {},
   "source": [
    "21. Create a program that calculates the income tax based on the user's income and tax brackets."
   ]
  },
  {
   "cell_type": "code",
   "execution_count": null,
   "metadata": {},
   "outputs": [],
   "source": []
  },
  {
   "cell_type": "code",
   "execution_count": null,
   "metadata": {},
   "outputs": [],
   "source": []
  },
  {
   "cell_type": "markdown",
   "metadata": {},
   "source": [
    "22. Write a program that simulates a rock-paper-scissors game against the computer.\n"
   ]
  },
  {
   "cell_type": "code",
   "execution_count": 4,
   "metadata": {},
   "outputs": [
    {
     "name": "stdout",
     "output_type": "stream",
     "text": [
      "select Rock,Paper,or Scissors:rock\n",
      "Player 2 selected: scissors\n",
      "Player_1 won\n"
     ]
    }
   ],
   "source": [
    "import random\n",
    "player_1=input(\"select Rock,Paper,or Scissors:\").lower()\n",
    "player_2=random.choice([\"Rock\",\"Paper\",\"Scissors\"]).lower()\n",
    "print(\"Player 2 selected:\",player_2)\n",
    "\n",
    "if player_1==\"rock\" and player_2==\"paper\":\n",
    "    print(\"Player_2 won\")\n",
    "elif player_1==\"paper\" and player_2==\"scissors\":\n",
    "    print(\"Player_2 won\")\n",
    "elif player_1==\"scissors\" and player_2==\"rock\":\n",
    "    print(\"Player_2 won\")\n",
    "elif player_1==player_2:\n",
    "    print(\"Tie\")\n",
    "else:\n",
    "    print(\"Player_1 won\")"
   ]
  },
  {
   "cell_type": "markdown",
   "metadata": {},
   "source": [
    "23. Develop a program that generates a random password based on user preferences (length, complexity).\n"
   ]
  },
  {
   "cell_type": "code",
   "execution_count": 34,
   "metadata": {},
   "outputs": [],
   "source": [
    "import string\n",
    "import random\n",
    "\n",
    "characters=list(string.ascii_letters+string.digits+\"!@#$%&*?|:()\")\n",
    "\n",
    "def generate_random_password():\n",
    "    length=int(input(\"enter the length of the password: \"))\n",
    "    random.shuffle(characters)\n",
    "    password=[]\n",
    "    for i in range(length):\n",
    "        password.append(random.choice(characters))\n",
    "    random.shuffle(password)\n",
    "    print(\"\".join(password))"
   ]
  },
  {
   "cell_type": "code",
   "execution_count": 35,
   "metadata": {},
   "outputs": [
    {
     "name": "stdout",
     "output_type": "stream",
     "text": [
      "enter the length of the password: 10\n",
      "zjcnXU&2df\n"
     ]
    }
   ],
   "source": [
    "generate_random_password()"
   ]
  },
  {
   "cell_type": "markdown",
   "metadata": {},
   "source": [
    "24. Create a program that implements a simple text-based adventure game with branching scenarios.\n"
   ]
  },
  {
   "cell_type": "code",
   "execution_count": null,
   "metadata": {},
   "outputs": [],
   "source": []
  },
  {
   "cell_type": "markdown",
   "metadata": {},
   "source": [
    "25. Build a program that solves a linear equation  for x, considering different cases.\n"
   ]
  },
  {
   "cell_type": "code",
   "execution_count": null,
   "metadata": {},
   "outputs": [],
   "source": []
  },
  {
   "cell_type": "markdown",
   "metadata": {},
   "source": [
    "26. Write a program that simulates a basic quiz game with multiple-choice questions and scoring.\n"
   ]
  },
  {
   "cell_type": "code",
   "execution_count": null,
   "metadata": {},
   "outputs": [],
   "source": []
  },
  {
   "cell_type": "markdown",
   "metadata": {},
   "source": [
    "27. Develop a program that determines whether a given year is a prime number or not.\n"
   ]
  },
  {
   "cell_type": "code",
   "execution_count": 44,
   "metadata": {},
   "outputs": [
    {
     "name": "stdout",
     "output_type": "stream",
     "text": [
      "enter a year: 2000\n",
      "2000 is a prime number\n"
     ]
    }
   ],
   "source": [
    "a=int(input(\"enter a year: \"))\n",
    "if (a%4==0 or a%100!=0) and (a%400==0):\n",
    "    print(a,\"is a prime number\")\n",
    "else:\n",
    "    print(a,\"is not a prime number\")\n",
    "    "
   ]
  },
  {
   "cell_type": "markdown",
   "metadata": {},
   "source": [
    "28. Create a program that sorts three numbers in ascending order using conditional statements.\n"
   ]
  },
  {
   "cell_type": "code",
   "execution_count": 8,
   "metadata": {},
   "outputs": [
    {
     "name": "stdout",
     "output_type": "stream",
     "text": [
      "enter a:23\n",
      "enter b:33\n",
      "enter c:11\n",
      "11.0 < 23.0 < 33.0\n"
     ]
    }
   ],
   "source": [
    "a=float(input(\"enter a:\"))\n",
    "b=float(input(\"enter b:\"))\n",
    "c=float(input(\"enter c:\"))\n",
    "if a>b:\n",
    "    a,b=b,a\n",
    "if a>c:\n",
    "    a,c=c,a\n",
    "if b>c:\n",
    "    b,c=c,b\n",
    "print(a,\"<\",b,\"<\",c)"
   ]
  },
  {
   "cell_type": "markdown",
   "metadata": {},
   "source": [
    "29. Build a program that determines the roots of a quartic equation using numerical methods.\n"
   ]
  },
  {
   "cell_type": "code",
   "execution_count": null,
   "metadata": {},
   "outputs": [],
   "source": []
  },
  {
   "cell_type": "markdown",
   "metadata": {},
   "source": [
    "30. Write a program that calculates the BMI (Body Mass Index) and provides health recommendations based "
   ]
  },
  {
   "cell_type": "code",
   "execution_count": 5,
   "metadata": {},
   "outputs": [
    {
     "name": "stdout",
     "output_type": "stream",
     "text": [
      "BMI of a person:19\n",
      "Normal\n"
     ]
    }
   ],
   "source": [
    "BMI=float(input(\"BMI of a person:\"))\n",
    "\n",
    "if BMI<18.5:\n",
    "    print(\"Under weight \")\n",
    "elif (BMI>=18.5 and BMI<24.9):\n",
    "    print(\"Normal\")\n",
    "elif (BMI>=20.0 and BMI<29.9):\n",
    "    print(\"overweight\")\n",
    "else:\n",
    "    print(\"obese\")\n",
    "    "
   ]
  },
  {
   "cell_type": "markdown",
   "metadata": {},
   "source": [
    "# challenge level"
   ]
  },
  {
   "cell_type": "markdown",
   "metadata": {},
   "source": [
    "\n",
    "31. Create a program that validates a password based on complexity rules (length, characters, etc.)."
   ]
  },
  {
   "cell_type": "code",
   "execution_count": 10,
   "metadata": {},
   "outputs": [],
   "source": [
    "import string\n",
    "import random\n",
    "\n",
    "characters=list(string.ascii_letters+string.digits+\"!@#$%&*?|:()\")\n",
    "\n",
    "def generate_random_password():\n",
    "    length=int(input(\"enter the length of the password: \"))\n",
    "    random.shuffle(characters)\n",
    "    password=[]\n",
    "    for i in range(length):\n",
    "        password.append(random.choice(characters))\n",
    "    random.shuffle(password)\n",
    "    print(\"\".join(password))"
   ]
  },
  {
   "cell_type": "code",
   "execution_count": 11,
   "metadata": {},
   "outputs": [
    {
     "name": "stdout",
     "output_type": "stream",
     "text": [
      "enter the length of the password: 12\n",
      "4v&Z8ZjLmEm$\n"
     ]
    }
   ],
   "source": [
    "generate_random_password()"
   ]
  },
  {
   "cell_type": "markdown",
   "metadata": {},
   "source": [
    "32. Develop a program that performs matrix addition and subtraction based on user input.\n"
   ]
  },
  {
   "cell_type": "code",
   "execution_count": 20,
   "metadata": {},
   "outputs": [
    {
     "name": "stdout",
     "output_type": "stream",
     "text": [
      "element of first matrix\n",
      "[[1 2]\n",
      " [3 4]]\n",
      "element of second matrix\n",
      "[[4 5]\n",
      " [6 7]]\n",
      "addition of two matrix\n",
      "[[ 5  7]\n",
      " [ 9 11]]\n"
     ]
    }
   ],
   "source": [
    "import numpy as np\n",
    "\n",
    "a=np.array([[1,2],[3,4]])\n",
    "b=np.array([[4,5],[6,7]])\n",
    "print(\"element of first matrix\")\n",
    "print(a)\n",
    "print(\"element of second matrix\")\n",
    "print(b)\n",
    "print(\"addition of two matrix\")\n",
    "print(np.add(a,b))\n"
   ]
  },
  {
   "cell_type": "code",
   "execution_count": 21,
   "metadata": {},
   "outputs": [
    {
     "name": "stdout",
     "output_type": "stream",
     "text": [
      "element of first matrix\n",
      "[[1 2]\n",
      " [3 4]]\n",
      "element of second matrix\n",
      "[[4 5]\n",
      " [6 7]]\n",
      "substraction of two matrix\n",
      "[[-3 -3]\n",
      " [-3 -3]]\n"
     ]
    }
   ],
   "source": [
    "import numpy as np\n",
    "\n",
    "a=np.array([[1,2],[3,4]])\n",
    "b=np.array([[4,5],[6,7]])\n",
    "print(\"element of first matrix\")\n",
    "print(a)\n",
    "print(\"element of second matrix\")\n",
    "print(b)\n",
    "print(\"substraction of two matrix\")\n",
    "print(np.subtract(a,b))"
   ]
  },
  {
   "cell_type": "markdown",
   "metadata": {},
   "source": [
    "33. Write a program that calculates the greatest common divisor (GCD) of two numbers using the Euclidean\n",
    "algorithm.\n"
   ]
  },
  {
   "cell_type": "code",
   "execution_count": 32,
   "metadata": {},
   "outputs": [
    {
     "name": "stdout",
     "output_type": "stream",
     "text": [
      "GCD of 98 and 56 is 14\n"
     ]
    }
   ],
   "source": [
    "def gcd(a,b):\n",
    "    if(a==0):\n",
    "        return b\n",
    "    if(b==0):\n",
    "        return a\n",
    "    if (a==b):\n",
    "        return a\n",
    "    if (a>b):\n",
    "        return gcd(a-b,b)\n",
    "    return gcd(a,b-a)\n",
    "a=98\n",
    "b=56\n",
    "if(gcd(a,b)):\n",
    "    print(\"GCD of\",a,'and',b,'is',gcd(a,b))\n",
    "else:\n",
    "    print(\"not found\")\n"
   ]
  },
  {
   "cell_type": "markdown",
   "metadata": {},
   "source": [
    "34. Build a program that performs matrix multiplication using nested loops and conditional statements.\n"
   ]
  },
  {
   "cell_type": "code",
   "execution_count": 38,
   "metadata": {},
   "outputs": [
    {
     "name": "stdout",
     "output_type": "stream",
     "text": [
      "[114, 160, 60, 27]\n",
      "[74, 97, 73, 14]\n",
      "[119, 157, 112, 23]\n"
     ]
    }
   ],
   "source": [
    "x=[[12,7,3],\n",
    "  [4,5,6],\n",
    "  [7,8,9]]\n",
    "y=[[5,8,1,2],\n",
    "  [6,7,3,0],\n",
    "  [4,5,9,1]]\n",
    "\n",
    "result=[[0,0,0,0],\n",
    "       [0,0,0,0],\n",
    "       [0,0,0,0]]\n",
    "\n",
    "for i in range(len(x)):\n",
    "     for j in range(len(y[0])):\n",
    "        for k in range(len(y)):\n",
    "            result[i][j]+=x[i][k]*y[k][j]\n",
    "for r in result:\n",
    "    print(r)"
   ]
  }
 ],
 "metadata": {
  "kernelspec": {
   "display_name": "Python 3",
   "language": "python",
   "name": "python3"
  },
  "language_info": {
   "codemirror_mode": {
    "name": "ipython",
    "version": 3
   },
   "file_extension": ".py",
   "mimetype": "text/x-python",
   "name": "python",
   "nbconvert_exporter": "python",
   "pygments_lexer": "ipython3",
   "version": "3.8.5"
  }
 },
 "nbformat": 4,
 "nbformat_minor": 4
}
